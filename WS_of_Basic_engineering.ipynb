{
  "nbformat": 4,
  "nbformat_minor": 0,
  "metadata": {
    "colab": {
      "provenance": [],
      "toc_visible": true,
      "collapsed_sections": [
        "WG19ggA9auBp",
        "ux-MYqUTewaQ",
        "XHO9goQyP09B",
        "cZZ0M-curxEJ",
        "Lt6JOUQEuv8A",
        "g_cHG3yAxUL0",
        "zsbQYdylyadf",
        "dAASocoHz2-1",
        "p8rjTSlb1cfy"
      ],
      "include_colab_link": true
    },
    "kernelspec": {
      "name": "python3",
      "display_name": "Python 3"
    },
    "language_info": {
      "name": "python"
    }
  },
  "cells": [
    {
      "cell_type": "markdown",
      "metadata": {
        "id": "view-in-github",
        "colab_type": "text"
      },
      "source": [
        "<a href=\"https://colab.research.google.com/github/MichaelSaavedraDx/MichaelSaavedraDx/blob/main/WS_of_Basic_engineering.ipynb\" target=\"_parent\"><img src=\"https://colab.research.google.com/assets/colab-badge.svg\" alt=\"Open In Colab\"/></a>"
      ]
    },
    {
      "cell_type": "markdown",
      "source": [
        "# Basic Engineering\n",
        "\n",
        "## Introduction\n",
        "\n",
        "In this notebook we will go through the process of environment setup and try packages mentioned in the theory part of the module\n",
        "\n",
        "> We assume that you created fresh environment and installed notebook package on top of it"
      ],
      "metadata": {
        "id": "30Y0WhLsyrFC"
      }
    },
    {
      "cell_type": "markdown",
      "source": [
        "# New section"
      ],
      "metadata": {
        "id": "ngSgpnD3gZDr"
      }
    },
    {
      "cell_type": "markdown",
      "source": [
        "## Check style\n",
        "It is really important to keep our code clean and understandable. We have checkstyle for Python  - **PEP-8**\n",
        "\n",
        "For checking your code you can use - **Pylint** library\n",
        "Install it, run it for your code and get output\n",
        "```\n",
        "pip install pylint\n",
        "```\n",
        "```\n",
        "pylint mymodule.py\n",
        "```\n",
        "```\n",
        "************* Module pylint.checkers.format\n",
        "W: 50: Too long line (86/80)\n",
        "W:108: Operator not followed by a space\n",
        "     print >>sys.stderr, 'Unable to match %r', line\n",
        "            ^\n",
        "W:141: Too long line (81/80)\n",
        "W: 74:searchall: Unreachable code\n",
        "W:171:FormatChecker.process_tokens: Redefining built-in (type)\n",
        "W:150:FormatChecker.process_tokens: Too many local variables (20/15)\n",
        "W:150:FormatChecker.process_tokens: Too many branches (13/12)\n",
        "```\n"
      ],
      "metadata": {
        "id": "-EPGN-CoEoI-"
      }
    },
    {
      "cell_type": "markdown",
      "source": [
        "## Conda environment\n",
        "\n",
        "At this point you already have a working environment since you opened this notebook. The only packaged installed is notebook which is a part of jupyter ecosystem. Lets proceed with installation of other packages"
      ],
      "metadata": {
        "id": "SYnx99wszcLQ"
      }
    },
    {
      "cell_type": "markdown",
      "source": [
        "## Pip\n",
        "Data Science comes with many packages. The most popular way to install everything is via popular package installer **pip**"
      ],
      "metadata": {
        "id": "ASTEWy16G2mI"
      }
    },
    {
      "cell_type": "markdown",
      "source": [
        "## Jupyter Notebook/Google Colab\n",
        "\n",
        "Web-based interactive development environment for notebooks, code,and data. Its flexible interface allows users to configure and arrange workflows in data science, ML e.t.c\n"
      ],
      "metadata": {
        "id": "TDxRBYjxLp5d"
      }
    },
    {
      "cell_type": "code",
      "source": [
        "2 + 2"
      ],
      "metadata": {
        "colab": {
          "base_uri": "https://localhost:8080/"
        },
        "id": "KyDoze75Mmq3",
        "outputId": "070d8e22-d7db-40e5-f974-0f87b719516b"
      },
      "execution_count": null,
      "outputs": [
        {
          "output_type": "execute_result",
          "data": {
            "text/plain": [
              "4"
            ]
          },
          "metadata": {},
          "execution_count": 1
        }
      ]
    },
    {
      "cell_type": "markdown",
      "source": [
        "## Using shell comands from the notebook\n",
        "*numpy* provides efficient storage and computation for multidimensional data arrays\n",
        "Then install *numpy* via pip, like this:\n",
        "\n",
        "\n",
        "\n",
        "```\n",
        "# pip install numpy\n",
        "```\n",
        "\n",
        "To run this and any other shell commands use ! symbol before the command itself\n",
        "\n",
        "```\n",
        "# !pip install numpy\n",
        "```\n",
        "\n",
        "To install pandas we are going to use conda instead. Look at command below:\n",
        "\n",
        "\n",
        "*   You must use ```-y``` parameter when running ```conda install``` inside the notebook. Conda will prompt you to agree to installation. If you provide ```-y``` parameter, this will be omitted.\n",
        "*   We also use ```-c conda-forge``` to install from specific conda channel. The channel is just a place where conda packages are stored. Many packages are not available in the official channels, however they are most likely available if conda-forge. Note, that pandas is available in official channel, but we use conda-forge just to get in touch.\n",
        "*   The numbers after the package name is the version of the package which is going to be instlled. Here we have pandas version 1.0.5\n",
        "\n",
        "```\n",
        "#! conda install -y -c conda-forge pandas==1.0.5\n",
        "```\n",
        "\n"
      ],
      "metadata": {
        "id": "UzZYQNeo1T-K"
      }
    },
    {
      "cell_type": "markdown",
      "source": [
        "# Numpy"
      ],
      "metadata": {
        "id": "_1EVwgrULEiu"
      }
    },
    {
      "cell_type": "markdown",
      "source": [
        "###*numpy*, vectorization\n",
        "*numpy * is rich and POWERFULL library. The idea behind it are optimized operations with matrices(or tensors when there are more than 2 dimensions). It is written in C, thus providing much better performance than pure Python. Same(or similar) interface is used in the most popular deep learning libraries like TensorFlow and PyTorch\n",
        "\n",
        "\n",
        "The core principle of *numpy* is vectorization. Instead of calculating matrix opeartions in for cycle one number by one, *numpy* parallelize this operations obtaining much better performance\n",
        "\n",
        "\n",
        "Let see it for ourselves. First we create a 200х200  matrix with integers ranging from 0 to 100. Then measure the time of matrix multiplication in two cases:\n",
        "\n",
        "*  Matrix as list of list in pure Python\n",
        "*  Matrix as optimized numpy array\n",
        "\n"
      ],
      "metadata": {
        "id": "sS0OaLtERdBw"
      }
    },
    {
      "cell_type": "code",
      "source": [
        "import numpy as np\n",
        "\n",
        "mtx = np.random.randint(0, 100, size = (200, 200))"
      ],
      "metadata": {
        "id": "jHD1KwsaLe3B"
      },
      "execution_count": null,
      "outputs": []
    },
    {
      "cell_type": "code",
      "source": [
        "print(f'Shape: {mtx.shape}')\n",
        "mtx"
      ],
      "metadata": {
        "colab": {
          "base_uri": "https://localhost:8080/"
        },
        "id": "9dMZYoVPTvGQ",
        "outputId": "c47123f6-55e8-4eb1-efad-9015f8d37e57"
      },
      "execution_count": null,
      "outputs": [
        {
          "output_type": "stream",
          "name": "stdout",
          "text": [
            "Shape: (200, 200)\n"
          ]
        },
        {
          "output_type": "execute_result",
          "data": {
            "text/plain": [
              "array([[98, 50, 98, ..., 20, 10, 48],\n",
              "       [83, 54,  9, ..., 10, 14, 81],\n",
              "       [19, 69, 43, ..., 18, 36, 87],\n",
              "       ...,\n",
              "       [93, 93, 33, ..., 31, 93, 69],\n",
              "       [96, 93,  4, ..., 75, 88, 77],\n",
              "       [94, 43,  5, ..., 64, 43, 31]])"
            ]
          },
          "metadata": {},
          "execution_count": 6
        }
      ]
    },
    {
      "cell_type": "code",
      "source": [
        "mtx_as_list = mtx.tolist()"
      ],
      "metadata": {
        "id": "_S7hLTJYT1cu"
      },
      "execution_count": null,
      "outputs": []
    },
    {
      "cell_type": "code",
      "source": [
        "%%time\n",
        "result = np.zeros_like(mtx).tolist()\n",
        "for i in range(len(mtx_as_list)):\n",
        "  for j in range(len(mtx_as_list)):\n",
        "    for k in range(len(mtx_as_list)):\n",
        "      result[i][j] += mtx_as_list[i][k] * mtx_as_list[k][j]"
      ],
      "metadata": {
        "colab": {
          "base_uri": "https://localhost:8080/"
        },
        "id": "HpyR-HU7T5ba",
        "outputId": "ee2261ec-9172-44f0-94cb-b0f126bd8a05"
      },
      "execution_count": null,
      "outputs": [
        {
          "output_type": "stream",
          "name": "stdout",
          "text": [
            "CPU times: user 2.81 s, sys: 0 ns, total: 2.81 s\n",
            "Wall time: 2.82 s\n"
          ]
        }
      ]
    },
    {
      "cell_type": "code",
      "source": [
        "%%time\n",
        "# @ - matrix multiplication operation in numpy\n",
        "numpy_result = mtx @ mtx"
      ],
      "metadata": {
        "colab": {
          "base_uri": "https://localhost:8080/"
        },
        "id": "5C7mFBxKUaNq",
        "outputId": "7ec01edc-452f-4904-92a3-7a11bbb24460"
      },
      "execution_count": null,
      "outputs": [
        {
          "output_type": "stream",
          "name": "stdout",
          "text": [
            "CPU times: user 15.7 ms, sys: 863 µs, total: 16.6 ms\n",
            "Wall time: 15.7 ms\n"
          ]
        }
      ]
    },
    {
      "cell_type": "markdown",
      "source": [
        "As you can see matrix operation in Numpy are very optimized. Many other libraries, like *pandas*, build their operations on top of numpy"
      ],
      "metadata": {
        "id": "1TQj_dXaU8HE"
      }
    },
    {
      "cell_type": "markdown",
      "source": [
        "Below you can find some useful and interesting methods from *numpy* library:\n"
      ],
      "metadata": {
        "id": "-TWekiKoVm3g"
      }
    },
    {
      "cell_type": "code",
      "source": [
        "a = np.array([1, 2, 3])\n",
        "b = np.array([4, 5, 6])\n",
        "np.vstack((a,b))"
      ],
      "metadata": {
        "colab": {
          "base_uri": "https://localhost:8080/"
        },
        "id": "_3pyRiUiYUSY",
        "outputId": "9fe804b1-76b7-4c4c-d7a4-c87b14b0b140"
      },
      "execution_count": null,
      "outputs": [
        {
          "output_type": "execute_result",
          "data": {
            "text/plain": [
              "array([[1, 2, 3],\n",
              "       [4, 5, 6]])"
            ]
          },
          "metadata": {},
          "execution_count": 10
        }
      ]
    },
    {
      "cell_type": "markdown",
      "source": [
        "Stack arrays in sequence vertically (row wise)."
      ],
      "metadata": {
        "id": "5hYRhakGYwBg"
      }
    },
    {
      "cell_type": "code",
      "source": [
        "x = np.array([3, 1, 2])\n",
        "np.argsort(x)"
      ],
      "metadata": {
        "colab": {
          "base_uri": "https://localhost:8080/"
        },
        "id": "7W4x2BvFYySx",
        "outputId": "15491a1d-05d1-4999-bac6-ddee78cfa496"
      },
      "execution_count": null,
      "outputs": [
        {
          "output_type": "execute_result",
          "data": {
            "text/plain": [
              "array([1, 2, 0])"
            ]
          },
          "metadata": {},
          "execution_count": 11
        }
      ]
    },
    {
      "cell_type": "markdown",
      "source": [
        "Returns the indices that would sort an array\n",
        "See also\n",
        "```\n",
        "numpy.argpartition\n",
        "```"
      ],
      "metadata": {
        "id": "m5xj1HVYZEgG"
      }
    },
    {
      "cell_type": "markdown",
      "source": [
        "## *numpy*, broadcasting\n",
        "Subject to certain constraints, the smaller array is “broadcast” across the larger array so that they have compatible shapes. Broadcasting provides a means of vectorizing array operations so that looping occurs in C instead of Python\n",
        "\n",
        "# Broadcasting rules\n",
        "1. If the two arrays differ in their number of dimensions, the shape of the one with fewer dimensions is *padded* with ones on its leading (left) side.\n",
        "2. If the shape of the two arrays does not match in any dimension, the array with shape equal to 1 in that dimension is stretched to match the other shape.\n",
        "3. If in any dimension the sizes disagree and neither is equal to 1, an error is raised.\n"
      ],
      "metadata": {
        "id": "WG19ggA9auBp"
      }
    },
    {
      "cell_type": "markdown",
      "source": [
        "![Screenshot 2022-11-05 at 16.33.48.png](data:image/png;base64,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)![Screenshot 2022-11-05 at 16.33.39.png](data:image/png;base64,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)![Screenshot 2022-11-05 at 16.30.21.png](data:image/png;base64,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)"
      ],
      "metadata": {
        "id": "U-fe1az7bK3H"
      }
    },
    {
      "cell_type": "markdown",
      "source": [
        "Let's take a look at an example in which the two arrays are not compatible:\n",
        "```\n",
        "M = np.ones((3, 2))\n",
        "a = np.arange(3)\n",
        "```\n",
        "then their shape will be\n",
        "```\n",
        "M.shape -> (3,2)\n",
        "a.shape -> (3, )\n",
        "```\n",
        "By rule 1, which tells us that we must pad the shape of ```a``` with ones:\n",
        "```\n",
        "M.shape -> (3,2)\n",
        "a.shape -> (1,3)\n",
        "```\n",
        "By rule 2, the first dimension of ```a``` is stretched to match that of ```M```:\n",
        "```\n",
        "M.shape -> (3,2)\n",
        "a.shape -> (3,3)\n",
        "```\n",
        "Now we hit the rule 3 - the final shapes do not match, so these two arrays are incompatible, as we can observe by attempting this operation:\n",
        "```\n",
        "M + a\n",
        "```\n"
      ],
      "metadata": {
        "id": "iFV9VwQcb082"
      }
    },
    {
      "cell_type": "code",
      "source": [
        "M = np.ones((3, 2))\n",
        "a = np.arange(3)"
      ],
      "metadata": {
        "id": "84q6p4FRQHRv"
      },
      "execution_count": null,
      "outputs": []
    },
    {
      "cell_type": "code",
      "source": [
        "M.shape"
      ],
      "metadata": {
        "colab": {
          "base_uri": "https://localhost:8080/"
        },
        "id": "YbCj4NBkQT_Y",
        "outputId": "ba352fdf-5e0d-43e8-e018-89dff4d8e7e2"
      },
      "execution_count": null,
      "outputs": [
        {
          "output_type": "execute_result",
          "data": {
            "text/plain": [
              "(3, 2)"
            ]
          },
          "metadata": {},
          "execution_count": 9
        }
      ]
    },
    {
      "cell_type": "code",
      "source": [
        "a.shape"
      ],
      "metadata": {
        "colab": {
          "base_uri": "https://localhost:8080/"
        },
        "id": "SsX8BuAJQV4M",
        "outputId": "a417d337-384c-4573-ad96-65ab2f0e8a43"
      },
      "execution_count": null,
      "outputs": [
        {
          "output_type": "execute_result",
          "data": {
            "text/plain": [
              "(3,)"
            ]
          },
          "metadata": {},
          "execution_count": 10
        }
      ]
    },
    {
      "cell_type": "code",
      "source": [
        "M + a"
      ],
      "metadata": {
        "colab": {
          "base_uri": "https://localhost:8080/",
          "height": 164
        },
        "id": "iAEk_lYBQY4P",
        "outputId": "df3a7fab-d7b9-437f-89b0-cba44d9fe060"
      },
      "execution_count": null,
      "outputs": [
        {
          "output_type": "error",
          "ename": "ValueError",
          "evalue": "ignored",
          "traceback": [
            "\u001b[0;31m---------------------------------------------------------------------------\u001b[0m",
            "\u001b[0;31mValueError\u001b[0m                                Traceback (most recent call last)",
            "\u001b[0;32m<ipython-input-11-8cac1d547906>\u001b[0m in \u001b[0;36m<module>\u001b[0;34m\u001b[0m\n\u001b[0;32m----> 1\u001b[0;31m \u001b[0mM\u001b[0m \u001b[0;34m+\u001b[0m \u001b[0ma\u001b[0m\u001b[0;34m\u001b[0m\u001b[0;34m\u001b[0m\u001b[0m\n\u001b[0m",
            "\u001b[0;31mValueError\u001b[0m: operands could not be broadcast together with shapes (3,2) (3,) "
          ]
        }
      ]
    },
    {
      "cell_type": "markdown",
      "source": [
        "## *numpy*, slicing\n"
      ],
      "metadata": {
        "id": "ux-MYqUTewaQ"
      }
    },
    {
      "cell_type": "code",
      "source": [
        "#The basic slice syntax is i:j:k where i is the starting index,\n",
        "# j is the stopping index, and k is the step\n",
        "x = np.array([0, 1, 2, 3, 4, 5, 6, 7, 8, 9])\n",
        "x[1:7:2]"
      ],
      "metadata": {
        "colab": {
          "base_uri": "https://localhost:8080/"
        },
        "id": "3qnpSqL8fklV",
        "outputId": "dff3f777-c7ad-4c14-8dde-2f4f51f4f238"
      },
      "execution_count": null,
      "outputs": [
        {
          "output_type": "execute_result",
          "data": {
            "text/plain": [
              "array([1, 3, 5])"
            ]
          },
          "metadata": {},
          "execution_count": 12
        }
      ]
    },
    {
      "cell_type": "code",
      "source": [
        "#Negative i and j are interpreted as n + i and n + j\n",
        "#where n is the number of elements in the corresponding dimension.\n",
        "#Negative k makes stepping go towards smaller indices\n",
        "x = np.array([0, 1, 2, 3, 4, 5, 6, 7, 8, 9])\n",
        "x[-2:10]"
      ],
      "metadata": {
        "colab": {
          "base_uri": "https://localhost:8080/"
        },
        "id": "xP0J-sG7fyet",
        "outputId": "ab921cb0-2331-4314-e95e-be5cb16ae173"
      },
      "execution_count": null,
      "outputs": [
        {
          "output_type": "execute_result",
          "data": {
            "text/plain": [
              "array([8, 9])"
            ]
          },
          "metadata": {},
          "execution_count": 14
        }
      ]
    },
    {
      "cell_type": "code",
      "source": [
        "#Negative k makes stepping go towards smaller indices\n",
        "x = np.array([0, 1, 2, 3, 4, 5, 6, 7, 8, 9])\n",
        "x[-3:3:-1]"
      ],
      "metadata": {
        "colab": {
          "base_uri": "https://localhost:8080/"
        },
        "id": "JK0048MMf_fH",
        "outputId": "50861b14-4db4-41ae-fdac-0fd0bb67769c"
      },
      "execution_count": null,
      "outputs": [
        {
          "output_type": "execute_result",
          "data": {
            "text/plain": [
              "array([7, 6, 5, 4])"
            ]
          },
          "metadata": {},
          "execution_count": 15
        }
      ]
    },
    {
      "cell_type": "markdown",
      "source": [
        "# **Pandas**\n"
      ],
      "metadata": {
        "id": "Myo6OqL-gRIF"
      }
    },
    {
      "cell_type": "markdown",
      "source": [
        "Now let's look at Pandas.\n",
        "Pandas provides a DataFrame object along with a powerful set of methods to manipulate, filter, group and transform data"
      ],
      "metadata": {
        "id": "k-e9KtQFgVMN"
      }
    },
    {
      "cell_type": "markdown",
      "source": [
        "Upload files with our datasets via URL, also we can use other methods, for instance put file in working directory"
      ],
      "metadata": {
        "id": "CCgw1fv4KRib"
      }
    },
    {
      "cell_type": "code",
      "source": [
        "import pandas as pd\n",
        "iris = pd.read_csv('https://raw.githubusercontent.com/mwaskom/seaborn-data/master/iris.csv')"
      ],
      "metadata": {
        "id": "OMKn9ZZdKxTO"
      },
      "execution_count": null,
      "outputs": []
    },
    {
      "cell_type": "markdown",
      "source": [
        "*Google Colab* examples:"
      ],
      "metadata": {
        "id": "XHcLmzzVKrjg"
      }
    },
    {
      "cell_type": "code",
      "source": [
        "a = [4, 6, 2, 7, 4, 6, 8, 9, 10, 6, 5, 3, 7, 8, 6, 3, 9, 2]"
      ],
      "metadata": {
        "id": "b5KkQvSbKql2"
      },
      "execution_count": null,
      "outputs": []
    },
    {
      "cell_type": "code",
      "source": [
        "iris.head()"
      ],
      "metadata": {
        "colab": {
          "base_uri": "https://localhost:8080/",
          "height": 204
        },
        "id": "8AJgJruvK2Em",
        "outputId": "0be8d93c-2a64-4d8c-bbd8-bf1a0671262f"
      },
      "execution_count": null,
      "outputs": [
        {
          "output_type": "execute_result",
          "data": {
            "text/plain": [
              "   sepal_length  sepal_width  petal_length  petal_width species\n",
              "0           5.1          3.5           1.4          0.2  setosa\n",
              "1           4.9          3.0           1.4          0.2  setosa\n",
              "2           4.7          3.2           1.3          0.2  setosa\n",
              "3           4.6          3.1           1.5          0.2  setosa\n",
              "4           5.0          3.6           1.4          0.2  setosa"
            ],
            "text/html": [
              "\n",
              "  <div id=\"df-7388ac8f-3589-41c4-a9f1-89f27ba3f740\">\n",
              "    <div class=\"colab-df-container\">\n",
              "      <div>\n",
              "<style scoped>\n",
              "    .dataframe tbody tr th:only-of-type {\n",
              "        vertical-align: middle;\n",
              "    }\n",
              "\n",
              "    .dataframe tbody tr th {\n",
              "        vertical-align: top;\n",
              "    }\n",
              "\n",
              "    .dataframe thead th {\n",
              "        text-align: right;\n",
              "    }\n",
              "</style>\n",
              "<table border=\"1\" class=\"dataframe\">\n",
              "  <thead>\n",
              "    <tr style=\"text-align: right;\">\n",
              "      <th></th>\n",
              "      <th>sepal_length</th>\n",
              "      <th>sepal_width</th>\n",
              "      <th>petal_length</th>\n",
              "      <th>petal_width</th>\n",
              "      <th>species</th>\n",
              "    </tr>\n",
              "  </thead>\n",
              "  <tbody>\n",
              "    <tr>\n",
              "      <th>0</th>\n",
              "      <td>5.1</td>\n",
              "      <td>3.5</td>\n",
              "      <td>1.4</td>\n",
              "      <td>0.2</td>\n",
              "      <td>setosa</td>\n",
              "    </tr>\n",
              "    <tr>\n",
              "      <th>1</th>\n",
              "      <td>4.9</td>\n",
              "      <td>3.0</td>\n",
              "      <td>1.4</td>\n",
              "      <td>0.2</td>\n",
              "      <td>setosa</td>\n",
              "    </tr>\n",
              "    <tr>\n",
              "      <th>2</th>\n",
              "      <td>4.7</td>\n",
              "      <td>3.2</td>\n",
              "      <td>1.3</td>\n",
              "      <td>0.2</td>\n",
              "      <td>setosa</td>\n",
              "    </tr>\n",
              "    <tr>\n",
              "      <th>3</th>\n",
              "      <td>4.6</td>\n",
              "      <td>3.1</td>\n",
              "      <td>1.5</td>\n",
              "      <td>0.2</td>\n",
              "      <td>setosa</td>\n",
              "    </tr>\n",
              "    <tr>\n",
              "      <th>4</th>\n",
              "      <td>5.0</td>\n",
              "      <td>3.6</td>\n",
              "      <td>1.4</td>\n",
              "      <td>0.2</td>\n",
              "      <td>setosa</td>\n",
              "    </tr>\n",
              "  </tbody>\n",
              "</table>\n",
              "</div>\n",
              "      <button class=\"colab-df-convert\" onclick=\"convertToInteractive('df-7388ac8f-3589-41c4-a9f1-89f27ba3f740')\"\n",
              "              title=\"Convert this dataframe to an interactive table.\"\n",
              "              style=\"display:none;\">\n",
              "        \n",
              "  <svg xmlns=\"http://www.w3.org/2000/svg\" height=\"24px\"viewBox=\"0 0 24 24\"\n",
              "       width=\"24px\">\n",
              "    <path d=\"M0 0h24v24H0V0z\" fill=\"none\"/>\n",
              "    <path d=\"M18.56 5.44l.94 2.06.94-2.06 2.06-.94-2.06-.94-.94-2.06-.94 2.06-2.06.94zm-11 1L8.5 8.5l.94-2.06 2.06-.94-2.06-.94L8.5 2.5l-.94 2.06-2.06.94zm10 10l.94 2.06.94-2.06 2.06-.94-2.06-.94-.94-2.06-.94 2.06-2.06.94z\"/><path d=\"M17.41 7.96l-1.37-1.37c-.4-.4-.92-.59-1.43-.59-.52 0-1.04.2-1.43.59L10.3 9.45l-7.72 7.72c-.78.78-.78 2.05 0 2.83L4 21.41c.39.39.9.59 1.41.59.51 0 1.02-.2 1.41-.59l7.78-7.78 2.81-2.81c.8-.78.8-2.07 0-2.86zM5.41 20L4 18.59l7.72-7.72 1.47 1.35L5.41 20z\"/>\n",
              "  </svg>\n",
              "      </button>\n",
              "      \n",
              "  <style>\n",
              "    .colab-df-container {\n",
              "      display:flex;\n",
              "      flex-wrap:wrap;\n",
              "      gap: 12px;\n",
              "    }\n",
              "\n",
              "    .colab-df-convert {\n",
              "      background-color: #E8F0FE;\n",
              "      border: none;\n",
              "      border-radius: 50%;\n",
              "      cursor: pointer;\n",
              "      display: none;\n",
              "      fill: #1967D2;\n",
              "      height: 32px;\n",
              "      padding: 0 0 0 0;\n",
              "      width: 32px;\n",
              "    }\n",
              "\n",
              "    .colab-df-convert:hover {\n",
              "      background-color: #E2EBFA;\n",
              "      box-shadow: 0px 1px 2px rgba(60, 64, 67, 0.3), 0px 1px 3px 1px rgba(60, 64, 67, 0.15);\n",
              "      fill: #174EA6;\n",
              "    }\n",
              "\n",
              "    [theme=dark] .colab-df-convert {\n",
              "      background-color: #3B4455;\n",
              "      fill: #D2E3FC;\n",
              "    }\n",
              "\n",
              "    [theme=dark] .colab-df-convert:hover {\n",
              "      background-color: #434B5C;\n",
              "      box-shadow: 0px 1px 3px 1px rgba(0, 0, 0, 0.15);\n",
              "      filter: drop-shadow(0px 1px 2px rgba(0, 0, 0, 0.3));\n",
              "      fill: #FFFFFF;\n",
              "    }\n",
              "  </style>\n",
              "\n",
              "      <script>\n",
              "        const buttonEl =\n",
              "          document.querySelector('#df-7388ac8f-3589-41c4-a9f1-89f27ba3f740 button.colab-df-convert');\n",
              "        buttonEl.style.display =\n",
              "          google.colab.kernel.accessAllowed ? 'block' : 'none';\n",
              "\n",
              "        async function convertToInteractive(key) {\n",
              "          const element = document.querySelector('#df-7388ac8f-3589-41c4-a9f1-89f27ba3f740');\n",
              "          const dataTable =\n",
              "            await google.colab.kernel.invokeFunction('convertToInteractive',\n",
              "                                                     [key], {});\n",
              "          if (!dataTable) return;\n",
              "\n",
              "          const docLinkHtml = 'Like what you see? Visit the ' +\n",
              "            '<a target=\"_blank\" href=https://colab.research.google.com/notebooks/data_table.ipynb>data table notebook</a>'\n",
              "            + ' to learn more about interactive tables.';\n",
              "          element.innerHTML = '';\n",
              "          dataTable['output_type'] = 'display_data';\n",
              "          await google.colab.output.renderOutput(dataTable, element);\n",
              "          const docLink = document.createElement('div');\n",
              "          docLink.innerHTML = docLinkHtml;\n",
              "          element.appendChild(docLink);\n",
              "        }\n",
              "      </script>\n",
              "    </div>\n",
              "  </div>\n",
              "  "
            ]
          },
          "metadata": {},
          "execution_count": 2
        }
      ]
    },
    {
      "cell_type": "code",
      "source": [
        "iris.describe()"
      ],
      "metadata": {
        "colab": {
          "base_uri": "https://localhost:8080/",
          "height": 297
        },
        "id": "Svhv20PjRy-v",
        "outputId": "05c14b6a-6a98-43e7-910f-8ad5068d1056"
      },
      "execution_count": null,
      "outputs": [
        {
          "output_type": "execute_result",
          "data": {
            "text/plain": [
              "       sepal_length  sepal_width  petal_length  petal_width\n",
              "count    150.000000   150.000000    150.000000   150.000000\n",
              "mean       5.843333     3.057333      3.758000     1.199333\n",
              "std        0.828066     0.435866      1.765298     0.762238\n",
              "min        4.300000     2.000000      1.000000     0.100000\n",
              "25%        5.100000     2.800000      1.600000     0.300000\n",
              "50%        5.800000     3.000000      4.350000     1.300000\n",
              "75%        6.400000     3.300000      5.100000     1.800000\n",
              "max        7.900000     4.400000      6.900000     2.500000"
            ],
            "text/html": [
              "\n",
              "  <div id=\"df-cb664de6-3c38-4830-a32c-a5a010242794\">\n",
              "    <div class=\"colab-df-container\">\n",
              "      <div>\n",
              "<style scoped>\n",
              "    .dataframe tbody tr th:only-of-type {\n",
              "        vertical-align: middle;\n",
              "    }\n",
              "\n",
              "    .dataframe tbody tr th {\n",
              "        vertical-align: top;\n",
              "    }\n",
              "\n",
              "    .dataframe thead th {\n",
              "        text-align: right;\n",
              "    }\n",
              "</style>\n",
              "<table border=\"1\" class=\"dataframe\">\n",
              "  <thead>\n",
              "    <tr style=\"text-align: right;\">\n",
              "      <th></th>\n",
              "      <th>sepal_length</th>\n",
              "      <th>sepal_width</th>\n",
              "      <th>petal_length</th>\n",
              "      <th>petal_width</th>\n",
              "    </tr>\n",
              "  </thead>\n",
              "  <tbody>\n",
              "    <tr>\n",
              "      <th>count</th>\n",
              "      <td>150.000000</td>\n",
              "      <td>150.000000</td>\n",
              "      <td>150.000000</td>\n",
              "      <td>150.000000</td>\n",
              "    </tr>\n",
              "    <tr>\n",
              "      <th>mean</th>\n",
              "      <td>5.843333</td>\n",
              "      <td>3.057333</td>\n",
              "      <td>3.758000</td>\n",
              "      <td>1.199333</td>\n",
              "    </tr>\n",
              "    <tr>\n",
              "      <th>std</th>\n",
              "      <td>0.828066</td>\n",
              "      <td>0.435866</td>\n",
              "      <td>1.765298</td>\n",
              "      <td>0.762238</td>\n",
              "    </tr>\n",
              "    <tr>\n",
              "      <th>min</th>\n",
              "      <td>4.300000</td>\n",
              "      <td>2.000000</td>\n",
              "      <td>1.000000</td>\n",
              "      <td>0.100000</td>\n",
              "    </tr>\n",
              "    <tr>\n",
              "      <th>25%</th>\n",
              "      <td>5.100000</td>\n",
              "      <td>2.800000</td>\n",
              "      <td>1.600000</td>\n",
              "      <td>0.300000</td>\n",
              "    </tr>\n",
              "    <tr>\n",
              "      <th>50%</th>\n",
              "      <td>5.800000</td>\n",
              "      <td>3.000000</td>\n",
              "      <td>4.350000</td>\n",
              "      <td>1.300000</td>\n",
              "    </tr>\n",
              "    <tr>\n",
              "      <th>75%</th>\n",
              "      <td>6.400000</td>\n",
              "      <td>3.300000</td>\n",
              "      <td>5.100000</td>\n",
              "      <td>1.800000</td>\n",
              "    </tr>\n",
              "    <tr>\n",
              "      <th>max</th>\n",
              "      <td>7.900000</td>\n",
              "      <td>4.400000</td>\n",
              "      <td>6.900000</td>\n",
              "      <td>2.500000</td>\n",
              "    </tr>\n",
              "  </tbody>\n",
              "</table>\n",
              "</div>\n",
              "      <button class=\"colab-df-convert\" onclick=\"convertToInteractive('df-cb664de6-3c38-4830-a32c-a5a010242794')\"\n",
              "              title=\"Convert this dataframe to an interactive table.\"\n",
              "              style=\"display:none;\">\n",
              "        \n",
              "  <svg xmlns=\"http://www.w3.org/2000/svg\" height=\"24px\"viewBox=\"0 0 24 24\"\n",
              "       width=\"24px\">\n",
              "    <path d=\"M0 0h24v24H0V0z\" fill=\"none\"/>\n",
              "    <path d=\"M18.56 5.44l.94 2.06.94-2.06 2.06-.94-2.06-.94-.94-2.06-.94 2.06-2.06.94zm-11 1L8.5 8.5l.94-2.06 2.06-.94-2.06-.94L8.5 2.5l-.94 2.06-2.06.94zm10 10l.94 2.06.94-2.06 2.06-.94-2.06-.94-.94-2.06-.94 2.06-2.06.94z\"/><path d=\"M17.41 7.96l-1.37-1.37c-.4-.4-.92-.59-1.43-.59-.52 0-1.04.2-1.43.59L10.3 9.45l-7.72 7.72c-.78.78-.78 2.05 0 2.83L4 21.41c.39.39.9.59 1.41.59.51 0 1.02-.2 1.41-.59l7.78-7.78 2.81-2.81c.8-.78.8-2.07 0-2.86zM5.41 20L4 18.59l7.72-7.72 1.47 1.35L5.41 20z\"/>\n",
              "  </svg>\n",
              "      </button>\n",
              "      \n",
              "  <style>\n",
              "    .colab-df-container {\n",
              "      display:flex;\n",
              "      flex-wrap:wrap;\n",
              "      gap: 12px;\n",
              "    }\n",
              "\n",
              "    .colab-df-convert {\n",
              "      background-color: #E8F0FE;\n",
              "      border: none;\n",
              "      border-radius: 50%;\n",
              "      cursor: pointer;\n",
              "      display: none;\n",
              "      fill: #1967D2;\n",
              "      height: 32px;\n",
              "      padding: 0 0 0 0;\n",
              "      width: 32px;\n",
              "    }\n",
              "\n",
              "    .colab-df-convert:hover {\n",
              "      background-color: #E2EBFA;\n",
              "      box-shadow: 0px 1px 2px rgba(60, 64, 67, 0.3), 0px 1px 3px 1px rgba(60, 64, 67, 0.15);\n",
              "      fill: #174EA6;\n",
              "    }\n",
              "\n",
              "    [theme=dark] .colab-df-convert {\n",
              "      background-color: #3B4455;\n",
              "      fill: #D2E3FC;\n",
              "    }\n",
              "\n",
              "    [theme=dark] .colab-df-convert:hover {\n",
              "      background-color: #434B5C;\n",
              "      box-shadow: 0px 1px 3px 1px rgba(0, 0, 0, 0.15);\n",
              "      filter: drop-shadow(0px 1px 2px rgba(0, 0, 0, 0.3));\n",
              "      fill: #FFFFFF;\n",
              "    }\n",
              "  </style>\n",
              "\n",
              "      <script>\n",
              "        const buttonEl =\n",
              "          document.querySelector('#df-cb664de6-3c38-4830-a32c-a5a010242794 button.colab-df-convert');\n",
              "        buttonEl.style.display =\n",
              "          google.colab.kernel.accessAllowed ? 'block' : 'none';\n",
              "\n",
              "        async function convertToInteractive(key) {\n",
              "          const element = document.querySelector('#df-cb664de6-3c38-4830-a32c-a5a010242794');\n",
              "          const dataTable =\n",
              "            await google.colab.kernel.invokeFunction('convertToInteractive',\n",
              "                                                     [key], {});\n",
              "          if (!dataTable) return;\n",
              "\n",
              "          const docLinkHtml = 'Like what you see? Visit the ' +\n",
              "            '<a target=\"_blank\" href=https://colab.research.google.com/notebooks/data_table.ipynb>data table notebook</a>'\n",
              "            + ' to learn more about interactive tables.';\n",
              "          element.innerHTML = '';\n",
              "          dataTable['output_type'] = 'display_data';\n",
              "          await google.colab.output.renderOutput(dataTable, element);\n",
              "          const docLink = document.createElement('div');\n",
              "          docLink.innerHTML = docLinkHtml;\n",
              "          element.appendChild(docLink);\n",
              "        }\n",
              "      </script>\n",
              "    </div>\n",
              "  </div>\n",
              "  "
            ]
          },
          "metadata": {},
          "execution_count": 3
        }
      ]
    },
    {
      "cell_type": "code",
      "source": [
        "iris[\"species\"]"
      ],
      "metadata": {
        "colab": {
          "base_uri": "https://localhost:8080/"
        },
        "id": "UICgLhT2K4IU",
        "outputId": "b22e3b1b-d95f-4ecd-9797-cf708ec49bdb"
      },
      "execution_count": null,
      "outputs": [
        {
          "output_type": "execute_result",
          "data": {
            "text/plain": [
              "0         setosa\n",
              "1         setosa\n",
              "2         setosa\n",
              "3         setosa\n",
              "4         setosa\n",
              "         ...    \n",
              "145    virginica\n",
              "146    virginica\n",
              "147    virginica\n",
              "148    virginica\n",
              "149    virginica\n",
              "Name: species, Length: 150, dtype: object"
            ]
          },
          "metadata": {},
          "execution_count": 5
        }
      ]
    },
    {
      "cell_type": "code",
      "source": [
        "iris[\"petal_length\"] < 1.4"
      ],
      "metadata": {
        "colab": {
          "base_uri": "https://localhost:8080/"
        },
        "id": "H_SolmoCLFCF",
        "outputId": "c2c36ec7-7eff-4f22-e800-7da604de9d4b"
      },
      "execution_count": null,
      "outputs": [
        {
          "output_type": "execute_result",
          "data": {
            "text/plain": [
              "0      False\n",
              "1      False\n",
              "2       True\n",
              "3      False\n",
              "4      False\n",
              "       ...  \n",
              "145    False\n",
              "146    False\n",
              "147    False\n",
              "148    False\n",
              "149    False\n",
              "Name: petal_length, Length: 150, dtype: bool"
            ]
          },
          "metadata": {},
          "execution_count": 6
        }
      ]
    },
    {
      "cell_type": "code",
      "source": [
        "iris[\"petal_length\"] * 2"
      ],
      "metadata": {
        "colab": {
          "base_uri": "https://localhost:8080/"
        },
        "id": "w5aSkepxLLgU",
        "outputId": "9cda45b5-d8f3-415e-ee2c-ed310b13e087"
      },
      "execution_count": null,
      "outputs": [
        {
          "output_type": "execute_result",
          "data": {
            "text/plain": [
              "0       2.8\n",
              "1       2.8\n",
              "2       2.6\n",
              "3       3.0\n",
              "4       2.8\n",
              "       ... \n",
              "145    10.4\n",
              "146    10.0\n",
              "147    10.4\n",
              "148    10.8\n",
              "149    10.2\n",
              "Name: petal_length, Length: 150, dtype: float64"
            ]
          },
          "metadata": {},
          "execution_count": 7
        }
      ]
    },
    {
      "cell_type": "code",
      "source": [
        "iris[\"petal_length\"].value_counts()"
      ],
      "metadata": {
        "colab": {
          "base_uri": "https://localhost:8080/"
        },
        "id": "b3jxHeB-LOl2",
        "outputId": "d5ffaf11-3b71-4db0-c139-9a9006a12581"
      },
      "execution_count": null,
      "outputs": [
        {
          "output_type": "execute_result",
          "data": {
            "text/plain": [
              "1.4    13\n",
              "1.5    13\n",
              "5.1     8\n",
              "4.5     8\n",
              "1.6     7\n",
              "1.3     7\n",
              "5.6     6\n",
              "4.7     5\n",
              "4.9     5\n",
              "4.0     5\n",
              "4.2     4\n",
              "5.0     4\n",
              "4.4     4\n",
              "4.8     4\n",
              "1.7     4\n",
              "3.9     3\n",
              "4.6     3\n",
              "5.7     3\n",
              "4.1     3\n",
              "5.5     3\n",
              "6.1     3\n",
              "5.8     3\n",
              "3.3     2\n",
              "5.4     2\n",
              "6.7     2\n",
              "5.3     2\n",
              "5.9     2\n",
              "6.0     2\n",
              "1.2     2\n",
              "4.3     2\n",
              "1.9     2\n",
              "3.5     2\n",
              "5.2     2\n",
              "3.0     1\n",
              "1.1     1\n",
              "3.7     1\n",
              "3.8     1\n",
              "6.6     1\n",
              "6.3     1\n",
              "1.0     1\n",
              "6.9     1\n",
              "3.6     1\n",
              "6.4     1\n",
              "Name: petal_length, dtype: int64"
            ]
          },
          "metadata": {},
          "execution_count": 8
        }
      ]
    },
    {
      "cell_type": "code",
      "source": [
        "iris.loc[iris['petal_length'] > 0.1]"
      ],
      "metadata": {
        "colab": {
          "base_uri": "https://localhost:8080/",
          "height": 419
        },
        "id": "nr8j-B88SwVu",
        "outputId": "9538e949-9f8d-425f-f141-efe4b379a980"
      },
      "execution_count": null,
      "outputs": [
        {
          "output_type": "execute_result",
          "data": {
            "text/plain": [
              "     sepal_length  sepal_width  petal_length  petal_width    species\n",
              "0             5.1          3.5           1.4          0.2     setosa\n",
              "1             4.9          3.0           1.4          0.2     setosa\n",
              "2             4.7          3.2           1.3          0.2     setosa\n",
              "3             4.6          3.1           1.5          0.2     setosa\n",
              "4             5.0          3.6           1.4          0.2     setosa\n",
              "..            ...          ...           ...          ...        ...\n",
              "145           6.7          3.0           5.2          2.3  virginica\n",
              "146           6.3          2.5           5.0          1.9  virginica\n",
              "147           6.5          3.0           5.2          2.0  virginica\n",
              "148           6.2          3.4           5.4          2.3  virginica\n",
              "149           5.9          3.0           5.1          1.8  virginica\n",
              "\n",
              "[150 rows x 5 columns]"
            ],
            "text/html": [
              "\n",
              "  <div id=\"df-5e969413-e5cc-4df8-bb8a-0a598a33a92f\">\n",
              "    <div class=\"colab-df-container\">\n",
              "      <div>\n",
              "<style scoped>\n",
              "    .dataframe tbody tr th:only-of-type {\n",
              "        vertical-align: middle;\n",
              "    }\n",
              "\n",
              "    .dataframe tbody tr th {\n",
              "        vertical-align: top;\n",
              "    }\n",
              "\n",
              "    .dataframe thead th {\n",
              "        text-align: right;\n",
              "    }\n",
              "</style>\n",
              "<table border=\"1\" class=\"dataframe\">\n",
              "  <thead>\n",
              "    <tr style=\"text-align: right;\">\n",
              "      <th></th>\n",
              "      <th>sepal_length</th>\n",
              "      <th>sepal_width</th>\n",
              "      <th>petal_length</th>\n",
              "      <th>petal_width</th>\n",
              "      <th>species</th>\n",
              "    </tr>\n",
              "  </thead>\n",
              "  <tbody>\n",
              "    <tr>\n",
              "      <th>0</th>\n",
              "      <td>5.1</td>\n",
              "      <td>3.5</td>\n",
              "      <td>1.4</td>\n",
              "      <td>0.2</td>\n",
              "      <td>setosa</td>\n",
              "    </tr>\n",
              "    <tr>\n",
              "      <th>1</th>\n",
              "      <td>4.9</td>\n",
              "      <td>3.0</td>\n",
              "      <td>1.4</td>\n",
              "      <td>0.2</td>\n",
              "      <td>setosa</td>\n",
              "    </tr>\n",
              "    <tr>\n",
              "      <th>2</th>\n",
              "      <td>4.7</td>\n",
              "      <td>3.2</td>\n",
              "      <td>1.3</td>\n",
              "      <td>0.2</td>\n",
              "      <td>setosa</td>\n",
              "    </tr>\n",
              "    <tr>\n",
              "      <th>3</th>\n",
              "      <td>4.6</td>\n",
              "      <td>3.1</td>\n",
              "      <td>1.5</td>\n",
              "      <td>0.2</td>\n",
              "      <td>setosa</td>\n",
              "    </tr>\n",
              "    <tr>\n",
              "      <th>4</th>\n",
              "      <td>5.0</td>\n",
              "      <td>3.6</td>\n",
              "      <td>1.4</td>\n",
              "      <td>0.2</td>\n",
              "      <td>setosa</td>\n",
              "    </tr>\n",
              "    <tr>\n",
              "      <th>...</th>\n",
              "      <td>...</td>\n",
              "      <td>...</td>\n",
              "      <td>...</td>\n",
              "      <td>...</td>\n",
              "      <td>...</td>\n",
              "    </tr>\n",
              "    <tr>\n",
              "      <th>145</th>\n",
              "      <td>6.7</td>\n",
              "      <td>3.0</td>\n",
              "      <td>5.2</td>\n",
              "      <td>2.3</td>\n",
              "      <td>virginica</td>\n",
              "    </tr>\n",
              "    <tr>\n",
              "      <th>146</th>\n",
              "      <td>6.3</td>\n",
              "      <td>2.5</td>\n",
              "      <td>5.0</td>\n",
              "      <td>1.9</td>\n",
              "      <td>virginica</td>\n",
              "    </tr>\n",
              "    <tr>\n",
              "      <th>147</th>\n",
              "      <td>6.5</td>\n",
              "      <td>3.0</td>\n",
              "      <td>5.2</td>\n",
              "      <td>2.0</td>\n",
              "      <td>virginica</td>\n",
              "    </tr>\n",
              "    <tr>\n",
              "      <th>148</th>\n",
              "      <td>6.2</td>\n",
              "      <td>3.4</td>\n",
              "      <td>5.4</td>\n",
              "      <td>2.3</td>\n",
              "      <td>virginica</td>\n",
              "    </tr>\n",
              "    <tr>\n",
              "      <th>149</th>\n",
              "      <td>5.9</td>\n",
              "      <td>3.0</td>\n",
              "      <td>5.1</td>\n",
              "      <td>1.8</td>\n",
              "      <td>virginica</td>\n",
              "    </tr>\n",
              "  </tbody>\n",
              "</table>\n",
              "<p>150 rows × 5 columns</p>\n",
              "</div>\n",
              "      <button class=\"colab-df-convert\" onclick=\"convertToInteractive('df-5e969413-e5cc-4df8-bb8a-0a598a33a92f')\"\n",
              "              title=\"Convert this dataframe to an interactive table.\"\n",
              "              style=\"display:none;\">\n",
              "        \n",
              "  <svg xmlns=\"http://www.w3.org/2000/svg\" height=\"24px\"viewBox=\"0 0 24 24\"\n",
              "       width=\"24px\">\n",
              "    <path d=\"M0 0h24v24H0V0z\" fill=\"none\"/>\n",
              "    <path d=\"M18.56 5.44l.94 2.06.94-2.06 2.06-.94-2.06-.94-.94-2.06-.94 2.06-2.06.94zm-11 1L8.5 8.5l.94-2.06 2.06-.94-2.06-.94L8.5 2.5l-.94 2.06-2.06.94zm10 10l.94 2.06.94-2.06 2.06-.94-2.06-.94-.94-2.06-.94 2.06-2.06.94z\"/><path d=\"M17.41 7.96l-1.37-1.37c-.4-.4-.92-.59-1.43-.59-.52 0-1.04.2-1.43.59L10.3 9.45l-7.72 7.72c-.78.78-.78 2.05 0 2.83L4 21.41c.39.39.9.59 1.41.59.51 0 1.02-.2 1.41-.59l7.78-7.78 2.81-2.81c.8-.78.8-2.07 0-2.86zM5.41 20L4 18.59l7.72-7.72 1.47 1.35L5.41 20z\"/>\n",
              "  </svg>\n",
              "      </button>\n",
              "      \n",
              "  <style>\n",
              "    .colab-df-container {\n",
              "      display:flex;\n",
              "      flex-wrap:wrap;\n",
              "      gap: 12px;\n",
              "    }\n",
              "\n",
              "    .colab-df-convert {\n",
              "      background-color: #E8F0FE;\n",
              "      border: none;\n",
              "      border-radius: 50%;\n",
              "      cursor: pointer;\n",
              "      display: none;\n",
              "      fill: #1967D2;\n",
              "      height: 32px;\n",
              "      padding: 0 0 0 0;\n",
              "      width: 32px;\n",
              "    }\n",
              "\n",
              "    .colab-df-convert:hover {\n",
              "      background-color: #E2EBFA;\n",
              "      box-shadow: 0px 1px 2px rgba(60, 64, 67, 0.3), 0px 1px 3px 1px rgba(60, 64, 67, 0.15);\n",
              "      fill: #174EA6;\n",
              "    }\n",
              "\n",
              "    [theme=dark] .colab-df-convert {\n",
              "      background-color: #3B4455;\n",
              "      fill: #D2E3FC;\n",
              "    }\n",
              "\n",
              "    [theme=dark] .colab-df-convert:hover {\n",
              "      background-color: #434B5C;\n",
              "      box-shadow: 0px 1px 3px 1px rgba(0, 0, 0, 0.15);\n",
              "      filter: drop-shadow(0px 1px 2px rgba(0, 0, 0, 0.3));\n",
              "      fill: #FFFFFF;\n",
              "    }\n",
              "  </style>\n",
              "\n",
              "      <script>\n",
              "        const buttonEl =\n",
              "          document.querySelector('#df-5e969413-e5cc-4df8-bb8a-0a598a33a92f button.colab-df-convert');\n",
              "        buttonEl.style.display =\n",
              "          google.colab.kernel.accessAllowed ? 'block' : 'none';\n",
              "\n",
              "        async function convertToInteractive(key) {\n",
              "          const element = document.querySelector('#df-5e969413-e5cc-4df8-bb8a-0a598a33a92f');\n",
              "          const dataTable =\n",
              "            await google.colab.kernel.invokeFunction('convertToInteractive',\n",
              "                                                     [key], {});\n",
              "          if (!dataTable) return;\n",
              "\n",
              "          const docLinkHtml = 'Like what you see? Visit the ' +\n",
              "            '<a target=\"_blank\" href=https://colab.research.google.com/notebooks/data_table.ipynb>data table notebook</a>'\n",
              "            + ' to learn more about interactive tables.';\n",
              "          element.innerHTML = '';\n",
              "          dataTable['output_type'] = 'display_data';\n",
              "          await google.colab.output.renderOutput(dataTable, element);\n",
              "          const docLink = document.createElement('div');\n",
              "          docLink.innerHTML = docLinkHtml;\n",
              "          element.appendChild(docLink);\n",
              "        }\n",
              "      </script>\n",
              "    </div>\n",
              "  </div>\n",
              "  "
            ]
          },
          "metadata": {},
          "execution_count": 4
        }
      ]
    },
    {
      "cell_type": "code",
      "source": [
        "iris[\"petal_length\"].value_counts(True)"
      ],
      "metadata": {
        "colab": {
          "base_uri": "https://localhost:8080/"
        },
        "id": "85k1IdwDMcKu",
        "outputId": "5133baca-8ae8-4909-b884-c1111b4fa9f2"
      },
      "execution_count": null,
      "outputs": [
        {
          "output_type": "execute_result",
          "data": {
            "text/plain": [
              "1.4    0.086667\n",
              "1.5    0.086667\n",
              "5.1    0.053333\n",
              "4.5    0.053333\n",
              "1.6    0.046667\n",
              "1.3    0.046667\n",
              "5.6    0.040000\n",
              "4.7    0.033333\n",
              "4.9    0.033333\n",
              "4.0    0.033333\n",
              "4.2    0.026667\n",
              "5.0    0.026667\n",
              "4.4    0.026667\n",
              "4.8    0.026667\n",
              "1.7    0.026667\n",
              "3.9    0.020000\n",
              "4.6    0.020000\n",
              "5.7    0.020000\n",
              "4.1    0.020000\n",
              "5.5    0.020000\n",
              "6.1    0.020000\n",
              "5.8    0.020000\n",
              "3.3    0.013333\n",
              "5.4    0.013333\n",
              "6.7    0.013333\n",
              "5.3    0.013333\n",
              "5.9    0.013333\n",
              "6.0    0.013333\n",
              "1.2    0.013333\n",
              "4.3    0.013333\n",
              "1.9    0.013333\n",
              "3.5    0.013333\n",
              "5.2    0.013333\n",
              "3.0    0.006667\n",
              "1.1    0.006667\n",
              "3.7    0.006667\n",
              "3.8    0.006667\n",
              "6.6    0.006667\n",
              "6.3    0.006667\n",
              "1.0    0.006667\n",
              "6.9    0.006667\n",
              "3.6    0.006667\n",
              "6.4    0.006667\n",
              "Name: petal_length, dtype: float64"
            ]
          },
          "metadata": {},
          "execution_count": 9
        }
      ]
    },
    {
      "cell_type": "code",
      "source": [
        "iris.apply(lambda this_df: this_df.petal_length > 0.1, axis=1)"
      ],
      "metadata": {
        "colab": {
          "base_uri": "https://localhost:8080/"
        },
        "id": "E0sH8oH6TXJr",
        "outputId": "3be34275-c83d-4467-d4ee-785c25a3da53"
      },
      "execution_count": null,
      "outputs": [
        {
          "output_type": "execute_result",
          "data": {
            "text/plain": [
              "0      True\n",
              "1      True\n",
              "2      True\n",
              "3      True\n",
              "4      True\n",
              "       ... \n",
              "145    True\n",
              "146    True\n",
              "147    True\n",
              "148    True\n",
              "149    True\n",
              "Length: 150, dtype: bool"
            ]
          },
          "metadata": {},
          "execution_count": 6
        }
      ]
    },
    {
      "cell_type": "markdown",
      "source": [
        "Set of useful functions from ```pandas```\n",
        "```\n",
        "df_1 = pd.read_csv('filename.txt')\n",
        "df.info()\n",
        "df.columns\n",
        "df.iloc[row_index, column_index]\n",
        "df.loc[row_index, column_name]\n",
        "df.corr()\n",
        "df.describe()\n",
        "df = df.drop(column, axis = 1)\n",
        "df.shape\n",
        "df.isnull().sum()\n",
        "df.groupby(['column1']).aggregate_function()\n",
        "df.select_dtypes('data_type')\n",
        "df['column'].unique()\n",
        "df.replace(old_value, new_value)\n",
        "df.drop_duplicates(subset,keep)\n",
        "df.set_index('column_name')\n",
        "```\n",
        "\n",
        "## [Useful functions](https://telegra.ph/24-Vazhnye-funkcii-Pandas-kotorye-neobhodimo-znat-dlya-kazhdogo-analiza-dannyh-11-12)"
      ],
      "metadata": {
        "id": "XHO9goQyP09B"
      }
    },
    {
      "cell_type": "code",
      "source": [
        "# Calculate percentage of each rating number instead of absolute value\n",
        "\n",
        "### YOUR CODE HERE"
      ],
      "metadata": {
        "id": "Eewkj-UiL-Gl"
      },
      "execution_count": null,
      "outputs": []
    },
    {
      "cell_type": "code",
      "source": [
        "# for this command need to install matplotlib\n",
        "# + very fast to get aware, - very poor plot for presentation\n",
        "iris[\"petal_length\"].plot.hist(bins=50)"
      ],
      "metadata": {
        "colab": {
          "base_uri": "https://localhost:8080/",
          "height": 282
        },
        "id": "OOxt2EgTMi0u",
        "outputId": "ed9a0f4e-8631-4767-8836-a7911b33134d"
      },
      "execution_count": null,
      "outputs": [
        {
          "output_type": "execute_result",
          "data": {
            "text/plain": [
              "<matplotlib.axes._subplots.AxesSubplot at 0x7f163c9a0ed0>"
            ]
          },
          "metadata": {},
          "execution_count": 6
        },
        {
          "output_type": "display_data",
          "data": {
            "text/plain": [
              "<Figure size 432x288 with 1 Axes>"
            ],
            "image/png": "[encoded data removed]"
          },
          "metadata": {
            "needs_background": "light"
          }
        }
      ]
    },
    {
      "cell_type": "markdown",
      "source": [
        "## *pandas*, reshaping\n",
        "* ```stack()```: stack the prescribed level(s) from column to row\n",
        "* ```unstack()```: unstack prescribed level(s) from row to column. The inverse operation from stack\n",
        "\n",
        "![Screenshot 2022-11-07 at 11.44.23.png](data:image/png;base64,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)"
      ],
      "metadata": {
        "id": "cZZ0M-curxEJ"
      }
    },
    {
      "cell_type": "code",
      "source": [
        "df_single_level = pd.DataFrame(\n",
        "    [['Mostly cloudy', 10], ['Sunny', 12]],\n",
        "    index=['London', 'Oxford'],\n",
        "    columns=['Weather', 'Wind']\n",
        ")\n",
        "\n",
        "df_single_level"
      ],
      "metadata": {
        "id": "yRyscNk5LZia",
        "colab": {
          "base_uri": "https://localhost:8080/",
          "height": 111
        },
        "outputId": "97d4bafa-50f6-4f38-8b96-5db5197eca73"
      },
      "execution_count": null,
      "outputs": [
        {
          "output_type": "execute_result",
          "data": {
            "text/plain": [
              "              Weather  Wind\n",
              "London  Mostly cloudy    10\n",
              "Oxford          Sunny    12"
            ],
            "text/html": [
              "\n",
              "  <div id=\"df-92db8e2d-f8e4-4f74-a747-1c16da3fd71c\">\n",
              "    <div class=\"colab-df-container\">\n",
              "      <div>\n",
              "<style scoped>\n",
              "    .dataframe tbody tr th:only-of-type {\n",
              "        vertical-align: middle;\n",
              "    }\n",
              "\n",
              "    .dataframe tbody tr th {\n",
              "        vertical-align: top;\n",
              "    }\n",
              "\n",
              "    .dataframe thead th {\n",
              "        text-align: right;\n",
              "    }\n",
              "</style>\n",
              "<table border=\"1\" class=\"dataframe\">\n",
              "  <thead>\n",
              "    <tr style=\"text-align: right;\">\n",
              "      <th></th>\n",
              "      <th>Weather</th>\n",
              "      <th>Wind</th>\n",
              "    </tr>\n",
              "  </thead>\n",
              "  <tbody>\n",
              "    <tr>\n",
              "      <th>London</th>\n",
              "      <td>Mostly cloudy</td>\n",
              "      <td>10</td>\n",
              "    </tr>\n",
              "    <tr>\n",
              "      <th>Oxford</th>\n",
              "      <td>Sunny</td>\n",
              "      <td>12</td>\n",
              "    </tr>\n",
              "  </tbody>\n",
              "</table>\n",
              "</div>\n",
              "      <button class=\"colab-df-convert\" onclick=\"convertToInteractive('df-92db8e2d-f8e4-4f74-a747-1c16da3fd71c')\"\n",
              "              title=\"Convert this dataframe to an interactive table.\"\n",
              "              style=\"display:none;\">\n",
              "        \n",
              "  <svg xmlns=\"http://www.w3.org/2000/svg\" height=\"24px\"viewBox=\"0 0 24 24\"\n",
              "       width=\"24px\">\n",
              "    <path d=\"M0 0h24v24H0V0z\" fill=\"none\"/>\n",
              "    <path d=\"M18.56 5.44l.94 2.06.94-2.06 2.06-.94-2.06-.94-.94-2.06-.94 2.06-2.06.94zm-11 1L8.5 8.5l.94-2.06 2.06-.94-2.06-.94L8.5 2.5l-.94 2.06-2.06.94zm10 10l.94 2.06.94-2.06 2.06-.94-2.06-.94-.94-2.06-.94 2.06-2.06.94z\"/><path d=\"M17.41 7.96l-1.37-1.37c-.4-.4-.92-.59-1.43-.59-.52 0-1.04.2-1.43.59L10.3 9.45l-7.72 7.72c-.78.78-.78 2.05 0 2.83L4 21.41c.39.39.9.59 1.41.59.51 0 1.02-.2 1.41-.59l7.78-7.78 2.81-2.81c.8-.78.8-2.07 0-2.86zM5.41 20L4 18.59l7.72-7.72 1.47 1.35L5.41 20z\"/>\n",
              "  </svg>\n",
              "      </button>\n",
              "      \n",
              "  <style>\n",
              "    .colab-df-container {\n",
              "      display:flex;\n",
              "      flex-wrap:wrap;\n",
              "      gap: 12px;\n",
              "    }\n",
              "\n",
              "    .colab-df-convert {\n",
              "      background-color: #E8F0FE;\n",
              "      border: none;\n",
              "      border-radius: 50%;\n",
              "      cursor: pointer;\n",
              "      display: none;\n",
              "      fill: #1967D2;\n",
              "      height: 32px;\n",
              "      padding: 0 0 0 0;\n",
              "      width: 32px;\n",
              "    }\n",
              "\n",
              "    .colab-df-convert:hover {\n",
              "      background-color: #E2EBFA;\n",
              "      box-shadow: 0px 1px 2px rgba(60, 64, 67, 0.3), 0px 1px 3px 1px rgba(60, 64, 67, 0.15);\n",
              "      fill: #174EA6;\n",
              "    }\n",
              "\n",
              "    [theme=dark] .colab-df-convert {\n",
              "      background-color: #3B4455;\n",
              "      fill: #D2E3FC;\n",
              "    }\n",
              "\n",
              "    [theme=dark] .colab-df-convert:hover {\n",
              "      background-color: #434B5C;\n",
              "      box-shadow: 0px 1px 3px 1px rgba(0, 0, 0, 0.15);\n",
              "      filter: drop-shadow(0px 1px 2px rgba(0, 0, 0, 0.3));\n",
              "      fill: #FFFFFF;\n",
              "    }\n",
              "  </style>\n",
              "\n",
              "      <script>\n",
              "        const buttonEl =\n",
              "          document.querySelector('#df-92db8e2d-f8e4-4f74-a747-1c16da3fd71c button.colab-df-convert');\n",
              "        buttonEl.style.display =\n",
              "          google.colab.kernel.accessAllowed ? 'block' : 'none';\n",
              "\n",
              "        async function convertToInteractive(key) {\n",
              "          const element = document.querySelector('#df-92db8e2d-f8e4-4f74-a747-1c16da3fd71c');\n",
              "          const dataTable =\n",
              "            await google.colab.kernel.invokeFunction('convertToInteractive',\n",
              "                                                     [key], {});\n",
              "          if (!dataTable) return;\n",
              "\n",
              "          const docLinkHtml = 'Like what you see? Visit the ' +\n",
              "            '<a target=\"_blank\" href=https://colab.research.google.com/notebooks/data_table.ipynb>data table notebook</a>'\n",
              "            + ' to learn more about interactive tables.';\n",
              "          element.innerHTML = '';\n",
              "          dataTable['output_type'] = 'display_data';\n",
              "          await google.colab.output.renderOutput(dataTable, element);\n",
              "          const docLink = document.createElement('div');\n",
              "          docLink.innerHTML = docLinkHtml;\n",
              "          element.appendChild(docLink);\n",
              "        }\n",
              "      </script>\n",
              "    </div>\n",
              "  </div>\n",
              "  "
            ]
          },
          "metadata": {},
          "execution_count": 3
        }
      ]
    },
    {
      "cell_type": "code",
      "source": [
        "df_single_level.stack()"
      ],
      "metadata": {
        "colab": {
          "base_uri": "https://localhost:8080/"
        },
        "id": "8R_dSgOOs-j5",
        "outputId": "439ea4d1-3397-4120-e7c8-c81435ed974b"
      },
      "execution_count": null,
      "outputs": [
        {
          "output_type": "execute_result",
          "data": {
            "text/plain": [
              "London  Weather    Mostly cloudy\n",
              "        Wind                  10\n",
              "Oxford  Weather            Sunny\n",
              "        Wind                  12\n",
              "dtype: object"
            ]
          },
          "metadata": {},
          "execution_count": 4
        }
      ]
    },
    {
      "cell_type": "code",
      "source": [
        "df_single_level.stack().unstack()"
      ],
      "metadata": {
        "colab": {
          "base_uri": "https://localhost:8080/",
          "height": 111
        },
        "id": "1cOuwri6s_mg",
        "outputId": "5c1aa760-318e-43d3-eecf-2d7e9d04459f"
      },
      "execution_count": null,
      "outputs": [
        {
          "output_type": "execute_result",
          "data": {
            "text/plain": [
              "              Weather Wind\n",
              "London  Mostly cloudy   10\n",
              "Oxford          Sunny   12"
            ],
            "text/html": [
              "\n",
              "  <div id=\"df-bcb311ad-9073-49d0-9c6a-cf41736ef8f6\">\n",
              "    <div class=\"colab-df-container\">\n",
              "      <div>\n",
              "<style scoped>\n",
              "    .dataframe tbody tr th:only-of-type {\n",
              "        vertical-align: middle;\n",
              "    }\n",
              "\n",
              "    .dataframe tbody tr th {\n",
              "        vertical-align: top;\n",
              "    }\n",
              "\n",
              "    .dataframe thead th {\n",
              "        text-align: right;\n",
              "    }\n",
              "</style>\n",
              "<table border=\"1\" class=\"dataframe\">\n",
              "  <thead>\n",
              "    <tr style=\"text-align: right;\">\n",
              "      <th></th>\n",
              "      <th>Weather</th>\n",
              "      <th>Wind</th>\n",
              "    </tr>\n",
              "  </thead>\n",
              "  <tbody>\n",
              "    <tr>\n",
              "      <th>London</th>\n",
              "      <td>Mostly cloudy</td>\n",
              "      <td>10</td>\n",
              "    </tr>\n",
              "    <tr>\n",
              "      <th>Oxford</th>\n",
              "      <td>Sunny</td>\n",
              "      <td>12</td>\n",
              "    </tr>\n",
              "  </tbody>\n",
              "</table>\n",
              "</div>\n",
              "      <button class=\"colab-df-convert\" onclick=\"convertToInteractive('df-bcb311ad-9073-49d0-9c6a-cf41736ef8f6')\"\n",
              "              title=\"Convert this dataframe to an interactive table.\"\n",
              "              style=\"display:none;\">\n",
              "        \n",
              "  <svg xmlns=\"http://www.w3.org/2000/svg\" height=\"24px\"viewBox=\"0 0 24 24\"\n",
              "       width=\"24px\">\n",
              "    <path d=\"M0 0h24v24H0V0z\" fill=\"none\"/>\n",
              "    <path d=\"M18.56 5.44l.94 2.06.94-2.06 2.06-.94-2.06-.94-.94-2.06-.94 2.06-2.06.94zm-11 1L8.5 8.5l.94-2.06 2.06-.94-2.06-.94L8.5 2.5l-.94 2.06-2.06.94zm10 10l.94 2.06.94-2.06 2.06-.94-2.06-.94-.94-2.06-.94 2.06-2.06.94z\"/><path d=\"M17.41 7.96l-1.37-1.37c-.4-.4-.92-.59-1.43-.59-.52 0-1.04.2-1.43.59L10.3 9.45l-7.72 7.72c-.78.78-.78 2.05 0 2.83L4 21.41c.39.39.9.59 1.41.59.51 0 1.02-.2 1.41-.59l7.78-7.78 2.81-2.81c.8-.78.8-2.07 0-2.86zM5.41 20L4 18.59l7.72-7.72 1.47 1.35L5.41 20z\"/>\n",
              "  </svg>\n",
              "      </button>\n",
              "      \n",
              "  <style>\n",
              "    .colab-df-container {\n",
              "      display:flex;\n",
              "      flex-wrap:wrap;\n",
              "      gap: 12px;\n",
              "    }\n",
              "\n",
              "    .colab-df-convert {\n",
              "      background-color: #E8F0FE;\n",
              "      border: none;\n",
              "      border-radius: 50%;\n",
              "      cursor: pointer;\n",
              "      display: none;\n",
              "      fill: #1967D2;\n",
              "      height: 32px;\n",
              "      padding: 0 0 0 0;\n",
              "      width: 32px;\n",
              "    }\n",
              "\n",
              "    .colab-df-convert:hover {\n",
              "      background-color: #E2EBFA;\n",
              "      box-shadow: 0px 1px 2px rgba(60, 64, 67, 0.3), 0px 1px 3px 1px rgba(60, 64, 67, 0.15);\n",
              "      fill: #174EA6;\n",
              "    }\n",
              "\n",
              "    [theme=dark] .colab-df-convert {\n",
              "      background-color: #3B4455;\n",
              "      fill: #D2E3FC;\n",
              "    }\n",
              "\n",
              "    [theme=dark] .colab-df-convert:hover {\n",
              "      background-color: #434B5C;\n",
              "      box-shadow: 0px 1px 3px 1px rgba(0, 0, 0, 0.15);\n",
              "      filter: drop-shadow(0px 1px 2px rgba(0, 0, 0, 0.3));\n",
              "      fill: #FFFFFF;\n",
              "    }\n",
              "  </style>\n",
              "\n",
              "      <script>\n",
              "        const buttonEl =\n",
              "          document.querySelector('#df-bcb311ad-9073-49d0-9c6a-cf41736ef8f6 button.colab-df-convert');\n",
              "        buttonEl.style.display =\n",
              "          google.colab.kernel.accessAllowed ? 'block' : 'none';\n",
              "\n",
              "        async function convertToInteractive(key) {\n",
              "          const element = document.querySelector('#df-bcb311ad-9073-49d0-9c6a-cf41736ef8f6');\n",
              "          const dataTable =\n",
              "            await google.colab.kernel.invokeFunction('convertToInteractive',\n",
              "                                                     [key], {});\n",
              "          if (!dataTable) return;\n",
              "\n",
              "          const docLinkHtml = 'Like what you see? Visit the ' +\n",
              "            '<a target=\"_blank\" href=https://colab.research.google.com/notebooks/data_table.ipynb>data table notebook</a>'\n",
              "            + ' to learn more about interactive tables.';\n",
              "          element.innerHTML = '';\n",
              "          dataTable['output_type'] = 'display_data';\n",
              "          await google.colab.output.renderOutput(dataTable, element);\n",
              "          const docLink = document.createElement('div');\n",
              "          docLink.innerHTML = docLinkHtml;\n",
              "          element.appendChild(docLink);\n",
              "        }\n",
              "      </script>\n",
              "    </div>\n",
              "  </div>\n",
              "  "
            ]
          },
          "metadata": {},
          "execution_count": 6
        }
      ]
    },
    {
      "cell_type": "markdown",
      "source": [
        "## Multi level columns: simple case"
      ],
      "metadata": {
        "id": "Lt6JOUQEuv8A"
      }
    },
    {
      "cell_type": "code",
      "source": [
        "multi_col_1 = pd.MultiIndex.from_tuples(\n",
        "    [('Wind', 'mph'), ('Wind', 'm/s')]\n",
        ")\n",
        "df_multi_level_1 = pd.DataFrame(\n",
        "    [[13, 5.5], [19, 8.5]],\n",
        "    index=['London', 'Oxford'],\n",
        "    columns=multi_col_1\n",
        ")\n",
        "\n",
        "df_multi_level_1"
      ],
      "metadata": {
        "colab": {
          "base_uri": "https://localhost:8080/",
          "height": 142
        },
        "id": "LW4xcJZmv55l",
        "outputId": "4aab45ec-6dd9-41a2-8e9b-b545f88cb34f"
      },
      "execution_count": null,
      "outputs": [
        {
          "output_type": "execute_result",
          "data": {
            "text/plain": [
              "       Wind     \n",
              "        mph  m/s\n",
              "London   13  5.5\n",
              "Oxford   19  8.5"
            ],
            "text/html": [
              "\n",
              "  <div id=\"df-eb0fee3d-ab75-438f-a790-3c18a85c0d5b\">\n",
              "    <div class=\"colab-df-container\">\n",
              "      <div>\n",
              "<style scoped>\n",
              "    .dataframe tbody tr th:only-of-type {\n",
              "        vertical-align: middle;\n",
              "    }\n",
              "\n",
              "    .dataframe tbody tr th {\n",
              "        vertical-align: top;\n",
              "    }\n",
              "\n",
              "    .dataframe thead tr th {\n",
              "        text-align: left;\n",
              "    }\n",
              "</style>\n",
              "<table border=\"1\" class=\"dataframe\">\n",
              "  <thead>\n",
              "    <tr>\n",
              "      <th></th>\n",
              "      <th colspan=\"2\" halign=\"left\">Wind</th>\n",
              "    </tr>\n",
              "    <tr>\n",
              "      <th></th>\n",
              "      <th>mph</th>\n",
              "      <th>m/s</th>\n",
              "    </tr>\n",
              "  </thead>\n",
              "  <tbody>\n",
              "    <tr>\n",
              "      <th>London</th>\n",
              "      <td>13</td>\n",
              "      <td>5.5</td>\n",
              "    </tr>\n",
              "    <tr>\n",
              "      <th>Oxford</th>\n",
              "      <td>19</td>\n",
              "      <td>8.5</td>\n",
              "    </tr>\n",
              "  </tbody>\n",
              "</table>\n",
              "</div>\n",
              "      <button class=\"colab-df-convert\" onclick=\"convertToInteractive('df-eb0fee3d-ab75-438f-a790-3c18a85c0d5b')\"\n",
              "              title=\"Convert this dataframe to an interactive table.\"\n",
              "              style=\"display:none;\">\n",
              "        \n",
              "  <svg xmlns=\"http://www.w3.org/2000/svg\" height=\"24px\"viewBox=\"0 0 24 24\"\n",
              "       width=\"24px\">\n",
              "    <path d=\"M0 0h24v24H0V0z\" fill=\"none\"/>\n",
              "    <path d=\"M18.56 5.44l.94 2.06.94-2.06 2.06-.94-2.06-.94-.94-2.06-.94 2.06-2.06.94zm-11 1L8.5 8.5l.94-2.06 2.06-.94-2.06-.94L8.5 2.5l-.94 2.06-2.06.94zm10 10l.94 2.06.94-2.06 2.06-.94-2.06-.94-.94-2.06-.94 2.06-2.06.94z\"/><path d=\"M17.41 7.96l-1.37-1.37c-.4-.4-.92-.59-1.43-.59-.52 0-1.04.2-1.43.59L10.3 9.45l-7.72 7.72c-.78.78-.78 2.05 0 2.83L4 21.41c.39.39.9.59 1.41.59.51 0 1.02-.2 1.41-.59l7.78-7.78 2.81-2.81c.8-.78.8-2.07 0-2.86zM5.41 20L4 18.59l7.72-7.72 1.47 1.35L5.41 20z\"/>\n",
              "  </svg>\n",
              "      </button>\n",
              "      \n",
              "  <style>\n",
              "    .colab-df-container {\n",
              "      display:flex;\n",
              "      flex-wrap:wrap;\n",
              "      gap: 12px;\n",
              "    }\n",
              "\n",
              "    .colab-df-convert {\n",
              "      background-color: #E8F0FE;\n",
              "      border: none;\n",
              "      border-radius: 50%;\n",
              "      cursor: pointer;\n",
              "      display: none;\n",
              "      fill: #1967D2;\n",
              "      height: 32px;\n",
              "      padding: 0 0 0 0;\n",
              "      width: 32px;\n",
              "    }\n",
              "\n",
              "    .colab-df-convert:hover {\n",
              "      background-color: #E2EBFA;\n",
              "      box-shadow: 0px 1px 2px rgba(60, 64, 67, 0.3), 0px 1px 3px 1px rgba(60, 64, 67, 0.15);\n",
              "      fill: #174EA6;\n",
              "    }\n",
              "\n",
              "    [theme=dark] .colab-df-convert {\n",
              "      background-color: #3B4455;\n",
              "      fill: #D2E3FC;\n",
              "    }\n",
              "\n",
              "    [theme=dark] .colab-df-convert:hover {\n",
              "      background-color: #434B5C;\n",
              "      box-shadow: 0px 1px 3px 1px rgba(0, 0, 0, 0.15);\n",
              "      filter: drop-shadow(0px 1px 2px rgba(0, 0, 0, 0.3));\n",
              "      fill: #FFFFFF;\n",
              "    }\n",
              "  </style>\n",
              "\n",
              "      <script>\n",
              "        const buttonEl =\n",
              "          document.querySelector('#df-eb0fee3d-ab75-438f-a790-3c18a85c0d5b button.colab-df-convert');\n",
              "        buttonEl.style.display =\n",
              "          google.colab.kernel.accessAllowed ? 'block' : 'none';\n",
              "\n",
              "        async function convertToInteractive(key) {\n",
              "          const element = document.querySelector('#df-eb0fee3d-ab75-438f-a790-3c18a85c0d5b');\n",
              "          const dataTable =\n",
              "            await google.colab.kernel.invokeFunction('convertToInteractive',\n",
              "                                                     [key], {});\n",
              "          if (!dataTable) return;\n",
              "\n",
              "          const docLinkHtml = 'Like what you see? Visit the ' +\n",
              "            '<a target=\"_blank\" href=https://colab.research.google.com/notebooks/data_table.ipynb>data table notebook</a>'\n",
              "            + ' to learn more about interactive tables.';\n",
              "          element.innerHTML = '';\n",
              "          dataTable['output_type'] = 'display_data';\n",
              "          await google.colab.output.renderOutput(dataTable, element);\n",
              "          const docLink = document.createElement('div');\n",
              "          docLink.innerHTML = docLinkHtml;\n",
              "          element.appendChild(docLink);\n",
              "        }\n",
              "      </script>\n",
              "    </div>\n",
              "  </div>\n",
              "  "
            ]
          },
          "metadata": {},
          "execution_count": 7
        }
      ]
    },
    {
      "cell_type": "code",
      "source": [
        "df_multi_level_1.stack()\n",
        "# Same as\n",
        "#df_multi_level_1.stack(level=-1)\n",
        "#df_multi_level_1.stack(-1)"
      ],
      "metadata": {
        "colab": {
          "base_uri": "https://localhost:8080/",
          "height": 173
        },
        "id": "z0wT1qIpwOsF",
        "outputId": "a2bbf1e7-054d-405b-93eb-9095c8816a20"
      },
      "execution_count": null,
      "outputs": [
        {
          "output_type": "execute_result",
          "data": {
            "text/plain": [
              "            Wind\n",
              "London m/s   5.5\n",
              "       mph  13.0\n",
              "Oxford m/s   8.5\n",
              "       mph  19.0"
            ],
            "text/html": [
              "\n",
              "  <div id=\"df-02cfc11a-601d-402e-a87f-d518b109f96f\">\n",
              "    <div class=\"colab-df-container\">\n",
              "      <div>\n",
              "<style scoped>\n",
              "    .dataframe tbody tr th:only-of-type {\n",
              "        vertical-align: middle;\n",
              "    }\n",
              "\n",
              "    .dataframe tbody tr th {\n",
              "        vertical-align: top;\n",
              "    }\n",
              "\n",
              "    .dataframe thead th {\n",
              "        text-align: right;\n",
              "    }\n",
              "</style>\n",
              "<table border=\"1\" class=\"dataframe\">\n",
              "  <thead>\n",
              "    <tr style=\"text-align: right;\">\n",
              "      <th></th>\n",
              "      <th></th>\n",
              "      <th>Wind</th>\n",
              "    </tr>\n",
              "  </thead>\n",
              "  <tbody>\n",
              "    <tr>\n",
              "      <th rowspan=\"2\" valign=\"top\">London</th>\n",
              "      <th>m/s</th>\n",
              "      <td>5.5</td>\n",
              "    </tr>\n",
              "    <tr>\n",
              "      <th>mph</th>\n",
              "      <td>13.0</td>\n",
              "    </tr>\n",
              "    <tr>\n",
              "      <th rowspan=\"2\" valign=\"top\">Oxford</th>\n",
              "      <th>m/s</th>\n",
              "      <td>8.5</td>\n",
              "    </tr>\n",
              "    <tr>\n",
              "      <th>mph</th>\n",
              "      <td>19.0</td>\n",
              "    </tr>\n",
              "  </tbody>\n",
              "</table>\n",
              "</div>\n",
              "      <button class=\"colab-df-convert\" onclick=\"convertToInteractive('df-02cfc11a-601d-402e-a87f-d518b109f96f')\"\n",
              "              title=\"Convert this dataframe to an interactive table.\"\n",
              "              style=\"display:none;\">\n",
              "        \n",
              "  <svg xmlns=\"http://www.w3.org/2000/svg\" height=\"24px\"viewBox=\"0 0 24 24\"\n",
              "       width=\"24px\">\n",
              "    <path d=\"M0 0h24v24H0V0z\" fill=\"none\"/>\n",
              "    <path d=\"M18.56 5.44l.94 2.06.94-2.06 2.06-.94-2.06-.94-.94-2.06-.94 2.06-2.06.94zm-11 1L8.5 8.5l.94-2.06 2.06-.94-2.06-.94L8.5 2.5l-.94 2.06-2.06.94zm10 10l.94 2.06.94-2.06 2.06-.94-2.06-.94-.94-2.06-.94 2.06-2.06.94z\"/><path d=\"M17.41 7.96l-1.37-1.37c-.4-.4-.92-.59-1.43-.59-.52 0-1.04.2-1.43.59L10.3 9.45l-7.72 7.72c-.78.78-.78 2.05 0 2.83L4 21.41c.39.39.9.59 1.41.59.51 0 1.02-.2 1.41-.59l7.78-7.78 2.81-2.81c.8-.78.8-2.07 0-2.86zM5.41 20L4 18.59l7.72-7.72 1.47 1.35L5.41 20z\"/>\n",
              "  </svg>\n",
              "      </button>\n",
              "      \n",
              "  <style>\n",
              "    .colab-df-container {\n",
              "      display:flex;\n",
              "      flex-wrap:wrap;\n",
              "      gap: 12px;\n",
              "    }\n",
              "\n",
              "    .colab-df-convert {\n",
              "      background-color: #E8F0FE;\n",
              "      border: none;\n",
              "      border-radius: 50%;\n",
              "      cursor: pointer;\n",
              "      display: none;\n",
              "      fill: #1967D2;\n",
              "      height: 32px;\n",
              "      padding: 0 0 0 0;\n",
              "      width: 32px;\n",
              "    }\n",
              "\n",
              "    .colab-df-convert:hover {\n",
              "      background-color: #E2EBFA;\n",
              "      box-shadow: 0px 1px 2px rgba(60, 64, 67, 0.3), 0px 1px 3px 1px rgba(60, 64, 67, 0.15);\n",
              "      fill: #174EA6;\n",
              "    }\n",
              "\n",
              "    [theme=dark] .colab-df-convert {\n",
              "      background-color: #3B4455;\n",
              "      fill: #D2E3FC;\n",
              "    }\n",
              "\n",
              "    [theme=dark] .colab-df-convert:hover {\n",
              "      background-color: #434B5C;\n",
              "      box-shadow: 0px 1px 3px 1px rgba(0, 0, 0, 0.15);\n",
              "      filter: drop-shadow(0px 1px 2px rgba(0, 0, 0, 0.3));\n",
              "      fill: #FFFFFF;\n",
              "    }\n",
              "  </style>\n",
              "\n",
              "      <script>\n",
              "        const buttonEl =\n",
              "          document.querySelector('#df-02cfc11a-601d-402e-a87f-d518b109f96f button.colab-df-convert');\n",
              "        buttonEl.style.display =\n",
              "          google.colab.kernel.accessAllowed ? 'block' : 'none';\n",
              "\n",
              "        async function convertToInteractive(key) {\n",
              "          const element = document.querySelector('#df-02cfc11a-601d-402e-a87f-d518b109f96f');\n",
              "          const dataTable =\n",
              "            await google.colab.kernel.invokeFunction('convertToInteractive',\n",
              "                                                     [key], {});\n",
              "          if (!dataTable) return;\n",
              "\n",
              "          const docLinkHtml = 'Like what you see? Visit the ' +\n",
              "            '<a target=\"_blank\" href=https://colab.research.google.com/notebooks/data_table.ipynb>data table notebook</a>'\n",
              "            + ' to learn more about interactive tables.';\n",
              "          element.innerHTML = '';\n",
              "          dataTable['output_type'] = 'display_data';\n",
              "          await google.colab.output.renderOutput(dataTable, element);\n",
              "          const docLink = document.createElement('div');\n",
              "          docLink.innerHTML = docLinkHtml;\n",
              "          element.appendChild(docLink);\n",
              "        }\n",
              "      </script>\n",
              "    </div>\n",
              "  </div>\n",
              "  "
            ]
          },
          "metadata": {},
          "execution_count": 8
        }
      ]
    },
    {
      "cell_type": "markdown",
      "source": [
        "## Multiple levels: missing values"
      ],
      "metadata": {
        "id": "g_cHG3yAxUL0"
      }
    },
    {
      "cell_type": "code",
      "source": [
        "multi_col_2 = pd.MultiIndex.from_tuples(\n",
        "    [('Wind', 'mph'), ('Temperature', '°C')]\n",
        ")\n",
        "df_multi_level_2 = pd.DataFrame(\n",
        "    [[13, 8], [19, 6]],\n",
        "    index=['London', 'Oxford'],\n",
        "    columns=multi_col_2\n",
        ")\n",
        "df_multi_level_2"
      ],
      "metadata": {
        "colab": {
          "base_uri": "https://localhost:8080/",
          "height": 142
        },
        "id": "ybEOw-1txtUt",
        "outputId": "d1f50d7f-21e4-4bf9-a00f-b9f767e3bf8b"
      },
      "execution_count": null,
      "outputs": [
        {
          "output_type": "execute_result",
          "data": {
            "text/plain": [
              "       Wind Temperature\n",
              "        mph          °C\n",
              "London   13           8\n",
              "Oxford   19           6"
            ],
            "text/html": [
              "\n",
              "  <div id=\"df-85a4b42f-a257-4265-b0b9-a5dfbb5de045\">\n",
              "    <div class=\"colab-df-container\">\n",
              "      <div>\n",
              "<style scoped>\n",
              "    .dataframe tbody tr th:only-of-type {\n",
              "        vertical-align: middle;\n",
              "    }\n",
              "\n",
              "    .dataframe tbody tr th {\n",
              "        vertical-align: top;\n",
              "    }\n",
              "\n",
              "    .dataframe thead tr th {\n",
              "        text-align: left;\n",
              "    }\n",
              "</style>\n",
              "<table border=\"1\" class=\"dataframe\">\n",
              "  <thead>\n",
              "    <tr>\n",
              "      <th></th>\n",
              "      <th>Wind</th>\n",
              "      <th>Temperature</th>\n",
              "    </tr>\n",
              "    <tr>\n",
              "      <th></th>\n",
              "      <th>mph</th>\n",
              "      <th>°C</th>\n",
              "    </tr>\n",
              "  </thead>\n",
              "  <tbody>\n",
              "    <tr>\n",
              "      <th>London</th>\n",
              "      <td>13</td>\n",
              "      <td>8</td>\n",
              "    </tr>\n",
              "    <tr>\n",
              "      <th>Oxford</th>\n",
              "      <td>19</td>\n",
              "      <td>6</td>\n",
              "    </tr>\n",
              "  </tbody>\n",
              "</table>\n",
              "</div>\n",
              "      <button class=\"colab-df-convert\" onclick=\"convertToInteractive('df-85a4b42f-a257-4265-b0b9-a5dfbb5de045')\"\n",
              "              title=\"Convert this dataframe to an interactive table.\"\n",
              "              style=\"display:none;\">\n",
              "        \n",
              "  <svg xmlns=\"http://www.w3.org/2000/svg\" height=\"24px\"viewBox=\"0 0 24 24\"\n",
              "       width=\"24px\">\n",
              "    <path d=\"M0 0h24v24H0V0z\" fill=\"none\"/>\n",
              "    <path d=\"M18.56 5.44l.94 2.06.94-2.06 2.06-.94-2.06-.94-.94-2.06-.94 2.06-2.06.94zm-11 1L8.5 8.5l.94-2.06 2.06-.94-2.06-.94L8.5 2.5l-.94 2.06-2.06.94zm10 10l.94 2.06.94-2.06 2.06-.94-2.06-.94-.94-2.06-.94 2.06-2.06.94z\"/><path d=\"M17.41 7.96l-1.37-1.37c-.4-.4-.92-.59-1.43-.59-.52 0-1.04.2-1.43.59L10.3 9.45l-7.72 7.72c-.78.78-.78 2.05 0 2.83L4 21.41c.39.39.9.59 1.41.59.51 0 1.02-.2 1.41-.59l7.78-7.78 2.81-2.81c.8-.78.8-2.07 0-2.86zM5.41 20L4 18.59l7.72-7.72 1.47 1.35L5.41 20z\"/>\n",
              "  </svg>\n",
              "      </button>\n",
              "      \n",
              "  <style>\n",
              "    .colab-df-container {\n",
              "      display:flex;\n",
              "      flex-wrap:wrap;\n",
              "      gap: 12px;\n",
              "    }\n",
              "\n",
              "    .colab-df-convert {\n",
              "      background-color: #E8F0FE;\n",
              "      border: none;\n",
              "      border-radius: 50%;\n",
              "      cursor: pointer;\n",
              "      display: none;\n",
              "      fill: #1967D2;\n",
              "      height: 32px;\n",
              "      padding: 0 0 0 0;\n",
              "      width: 32px;\n",
              "    }\n",
              "\n",
              "    .colab-df-convert:hover {\n",
              "      background-color: #E2EBFA;\n",
              "      box-shadow: 0px 1px 2px rgba(60, 64, 67, 0.3), 0px 1px 3px 1px rgba(60, 64, 67, 0.15);\n",
              "      fill: #174EA6;\n",
              "    }\n",
              "\n",
              "    [theme=dark] .colab-df-convert {\n",
              "      background-color: #3B4455;\n",
              "      fill: #D2E3FC;\n",
              "    }\n",
              "\n",
              "    [theme=dark] .colab-df-convert:hover {\n",
              "      background-color: #434B5C;\n",
              "      box-shadow: 0px 1px 3px 1px rgba(0, 0, 0, 0.15);\n",
              "      filter: drop-shadow(0px 1px 2px rgba(0, 0, 0, 0.3));\n",
              "      fill: #FFFFFF;\n",
              "    }\n",
              "  </style>\n",
              "\n",
              "      <script>\n",
              "        const buttonEl =\n",
              "          document.querySelector('#df-85a4b42f-a257-4265-b0b9-a5dfbb5de045 button.colab-df-convert');\n",
              "        buttonEl.style.display =\n",
              "          google.colab.kernel.accessAllowed ? 'block' : 'none';\n",
              "\n",
              "        async function convertToInteractive(key) {\n",
              "          const element = document.querySelector('#df-85a4b42f-a257-4265-b0b9-a5dfbb5de045');\n",
              "          const dataTable =\n",
              "            await google.colab.kernel.invokeFunction('convertToInteractive',\n",
              "                                                     [key], {});\n",
              "          if (!dataTable) return;\n",
              "\n",
              "          const docLinkHtml = 'Like what you see? Visit the ' +\n",
              "            '<a target=\"_blank\" href=https://colab.research.google.com/notebooks/data_table.ipynb>data table notebook</a>'\n",
              "            + ' to learn more about interactive tables.';\n",
              "          element.innerHTML = '';\n",
              "          dataTable['output_type'] = 'display_data';\n",
              "          await google.colab.output.renderOutput(dataTable, element);\n",
              "          const docLink = document.createElement('div');\n",
              "          docLink.innerHTML = docLinkHtml;\n",
              "          element.appendChild(docLink);\n",
              "        }\n",
              "      </script>\n",
              "    </div>\n",
              "  </div>\n",
              "  "
            ]
          },
          "metadata": {},
          "execution_count": 10
        }
      ]
    },
    {
      "cell_type": "code",
      "source": [
        "df_multi_level_2.stack()"
      ],
      "metadata": {
        "colab": {
          "base_uri": "https://localhost:8080/",
          "height": 173
        },
        "id": "FYNKzeQ9x58v",
        "outputId": "5fbb0c49-0314-4f85-9b53-f7260970bd81"
      },
      "execution_count": null,
      "outputs": [
        {
          "output_type": "execute_result",
          "data": {
            "text/plain": [
              "            Temperature  Wind\n",
              "London mph          NaN  13.0\n",
              "       °C           8.0   NaN\n",
              "Oxford mph          NaN  19.0\n",
              "       °C           6.0   NaN"
            ],
            "text/html": [
              "\n",
              "  <div id=\"df-bcf6137d-142a-442d-9526-c04d880d35e4\">\n",
              "    <div class=\"colab-df-container\">\n",
              "      <div>\n",
              "<style scoped>\n",
              "    .dataframe tbody tr th:only-of-type {\n",
              "        vertical-align: middle;\n",
              "    }\n",
              "\n",
              "    .dataframe tbody tr th {\n",
              "        vertical-align: top;\n",
              "    }\n",
              "\n",
              "    .dataframe thead th {\n",
              "        text-align: right;\n",
              "    }\n",
              "</style>\n",
              "<table border=\"1\" class=\"dataframe\">\n",
              "  <thead>\n",
              "    <tr style=\"text-align: right;\">\n",
              "      <th></th>\n",
              "      <th></th>\n",
              "      <th>Temperature</th>\n",
              "      <th>Wind</th>\n",
              "    </tr>\n",
              "  </thead>\n",
              "  <tbody>\n",
              "    <tr>\n",
              "      <th rowspan=\"2\" valign=\"top\">London</th>\n",
              "      <th>mph</th>\n",
              "      <td>NaN</td>\n",
              "      <td>13.0</td>\n",
              "    </tr>\n",
              "    <tr>\n",
              "      <th>°C</th>\n",
              "      <td>8.0</td>\n",
              "      <td>NaN</td>\n",
              "    </tr>\n",
              "    <tr>\n",
              "      <th rowspan=\"2\" valign=\"top\">Oxford</th>\n",
              "      <th>mph</th>\n",
              "      <td>NaN</td>\n",
              "      <td>19.0</td>\n",
              "    </tr>\n",
              "    <tr>\n",
              "      <th>°C</th>\n",
              "      <td>6.0</td>\n",
              "      <td>NaN</td>\n",
              "    </tr>\n",
              "  </tbody>\n",
              "</table>\n",
              "</div>\n",
              "      <button class=\"colab-df-convert\" onclick=\"convertToInteractive('df-bcf6137d-142a-442d-9526-c04d880d35e4')\"\n",
              "              title=\"Convert this dataframe to an interactive table.\"\n",
              "              style=\"display:none;\">\n",
              "        \n",
              "  <svg xmlns=\"http://www.w3.org/2000/svg\" height=\"24px\"viewBox=\"0 0 24 24\"\n",
              "       width=\"24px\">\n",
              "    <path d=\"M0 0h24v24H0V0z\" fill=\"none\"/>\n",
              "    <path d=\"M18.56 5.44l.94 2.06.94-2.06 2.06-.94-2.06-.94-.94-2.06-.94 2.06-2.06.94zm-11 1L8.5 8.5l.94-2.06 2.06-.94-2.06-.94L8.5 2.5l-.94 2.06-2.06.94zm10 10l.94 2.06.94-2.06 2.06-.94-2.06-.94-.94-2.06-.94 2.06-2.06.94z\"/><path d=\"M17.41 7.96l-1.37-1.37c-.4-.4-.92-.59-1.43-.59-.52 0-1.04.2-1.43.59L10.3 9.45l-7.72 7.72c-.78.78-.78 2.05 0 2.83L4 21.41c.39.39.9.59 1.41.59.51 0 1.02-.2 1.41-.59l7.78-7.78 2.81-2.81c.8-.78.8-2.07 0-2.86zM5.41 20L4 18.59l7.72-7.72 1.47 1.35L5.41 20z\"/>\n",
              "  </svg>\n",
              "      </button>\n",
              "      \n",
              "  <style>\n",
              "    .colab-df-container {\n",
              "      display:flex;\n",
              "      flex-wrap:wrap;\n",
              "      gap: 12px;\n",
              "    }\n",
              "\n",
              "    .colab-df-convert {\n",
              "      background-color: #E8F0FE;\n",
              "      border: none;\n",
              "      border-radius: 50%;\n",
              "      cursor: pointer;\n",
              "      display: none;\n",
              "      fill: #1967D2;\n",
              "      height: 32px;\n",
              "      padding: 0 0 0 0;\n",
              "      width: 32px;\n",
              "    }\n",
              "\n",
              "    .colab-df-convert:hover {\n",
              "      background-color: #E2EBFA;\n",
              "      box-shadow: 0px 1px 2px rgba(60, 64, 67, 0.3), 0px 1px 3px 1px rgba(60, 64, 67, 0.15);\n",
              "      fill: #174EA6;\n",
              "    }\n",
              "\n",
              "    [theme=dark] .colab-df-convert {\n",
              "      background-color: #3B4455;\n",
              "      fill: #D2E3FC;\n",
              "    }\n",
              "\n",
              "    [theme=dark] .colab-df-convert:hover {\n",
              "      background-color: #434B5C;\n",
              "      box-shadow: 0px 1px 3px 1px rgba(0, 0, 0, 0.15);\n",
              "      filter: drop-shadow(0px 1px 2px rgba(0, 0, 0, 0.3));\n",
              "      fill: #FFFFFF;\n",
              "    }\n",
              "  </style>\n",
              "\n",
              "      <script>\n",
              "        const buttonEl =\n",
              "          document.querySelector('#df-bcf6137d-142a-442d-9526-c04d880d35e4 button.colab-df-convert');\n",
              "        buttonEl.style.display =\n",
              "          google.colab.kernel.accessAllowed ? 'block' : 'none';\n",
              "\n",
              "        async function convertToInteractive(key) {\n",
              "          const element = document.querySelector('#df-bcf6137d-142a-442d-9526-c04d880d35e4');\n",
              "          const dataTable =\n",
              "            await google.colab.kernel.invokeFunction('convertToInteractive',\n",
              "                                                     [key], {});\n",
              "          if (!dataTable) return;\n",
              "\n",
              "          const docLinkHtml = 'Like what you see? Visit the ' +\n",
              "            '<a target=\"_blank\" href=https://colab.research.google.com/notebooks/data_table.ipynb>data table notebook</a>'\n",
              "            + ' to learn more about interactive tables.';\n",
              "          element.innerHTML = '';\n",
              "          dataTable['output_type'] = 'display_data';\n",
              "          await google.colab.output.renderOutput(dataTable, element);\n",
              "          const docLink = document.createElement('div');\n",
              "          docLink.innerHTML = docLinkHtml;\n",
              "          element.appendChild(docLink);\n",
              "        }\n",
              "      </script>\n",
              "    </div>\n",
              "  </div>\n",
              "  "
            ]
          },
          "metadata": {},
          "execution_count": 11
        }
      ]
    },
    {
      "cell_type": "markdown",
      "source": [
        "## Multiple levels: prescribing the level(s) to be stacked"
      ],
      "metadata": {
        "id": "zsbQYdylyadf"
      }
    },
    {
      "cell_type": "code",
      "source": [
        "multi_col_2 = pd.MultiIndex.from_tuples(\n",
        "    [('Wind', 'mph'), ('Temperature', '°C')]\n",
        ")\n",
        "# Level 0\n",
        "multi_col_2.get_level_values(0)"
      ],
      "metadata": {
        "colab": {
          "base_uri": "https://localhost:8080/"
        },
        "id": "DYsJQ3ZiyZXu",
        "outputId": "5c7323cc-3a22-4641-c026-aee9a093de45"
      },
      "execution_count": null,
      "outputs": [
        {
          "output_type": "execute_result",
          "data": {
            "text/plain": [
              "Index(['Wind', 'Temperature'], dtype='object')"
            ]
          },
          "metadata": {},
          "execution_count": 12
        }
      ]
    },
    {
      "cell_type": "code",
      "source": [
        "# Level 1\n",
        "multi_col_2.get_level_values(1)"
      ],
      "metadata": {
        "colab": {
          "base_uri": "https://localhost:8080/"
        },
        "id": "sKaK_Tagytxo",
        "outputId": "9d03566c-5e7a-4ca7-c09f-350a640b5110"
      },
      "execution_count": null,
      "outputs": [
        {
          "output_type": "execute_result",
          "data": {
            "text/plain": [
              "Index(['mph', '°C'], dtype='object')"
            ]
          },
          "metadata": {},
          "execution_count": 13
        }
      ]
    },
    {
      "cell_type": "code",
      "source": [
        "df_multi_level_2.stack(0)"
      ],
      "metadata": {
        "colab": {
          "base_uri": "https://localhost:8080/",
          "height": 173
        },
        "id": "aTb7VPeZy8IH",
        "outputId": "771874b7-f331-4214-d932-054fa3bdb9cb"
      },
      "execution_count": null,
      "outputs": [
        {
          "output_type": "execute_result",
          "data": {
            "text/plain": [
              "                     mph   °C\n",
              "London Temperature   NaN  8.0\n",
              "       Wind         13.0  NaN\n",
              "Oxford Temperature   NaN  6.0\n",
              "       Wind         19.0  NaN"
            ],
            "text/html": [
              "\n",
              "  <div id=\"df-9112649d-1ac0-40e4-a81f-3f432424e944\">\n",
              "    <div class=\"colab-df-container\">\n",
              "      <div>\n",
              "<style scoped>\n",
              "    .dataframe tbody tr th:only-of-type {\n",
              "        vertical-align: middle;\n",
              "    }\n",
              "\n",
              "    .dataframe tbody tr th {\n",
              "        vertical-align: top;\n",
              "    }\n",
              "\n",
              "    .dataframe thead th {\n",
              "        text-align: right;\n",
              "    }\n",
              "</style>\n",
              "<table border=\"1\" class=\"dataframe\">\n",
              "  <thead>\n",
              "    <tr style=\"text-align: right;\">\n",
              "      <th></th>\n",
              "      <th></th>\n",
              "      <th>mph</th>\n",
              "      <th>°C</th>\n",
              "    </tr>\n",
              "  </thead>\n",
              "  <tbody>\n",
              "    <tr>\n",
              "      <th rowspan=\"2\" valign=\"top\">London</th>\n",
              "      <th>Temperature</th>\n",
              "      <td>NaN</td>\n",
              "      <td>8.0</td>\n",
              "    </tr>\n",
              "    <tr>\n",
              "      <th>Wind</th>\n",
              "      <td>13.0</td>\n",
              "      <td>NaN</td>\n",
              "    </tr>\n",
              "    <tr>\n",
              "      <th rowspan=\"2\" valign=\"top\">Oxford</th>\n",
              "      <th>Temperature</th>\n",
              "      <td>NaN</td>\n",
              "      <td>6.0</td>\n",
              "    </tr>\n",
              "    <tr>\n",
              "      <th>Wind</th>\n",
              "      <td>19.0</td>\n",
              "      <td>NaN</td>\n",
              "    </tr>\n",
              "  </tbody>\n",
              "</table>\n",
              "</div>\n",
              "      <button class=\"colab-df-convert\" onclick=\"convertToInteractive('df-9112649d-1ac0-40e4-a81f-3f432424e944')\"\n",
              "              title=\"Convert this dataframe to an interactive table.\"\n",
              "              style=\"display:none;\">\n",
              "        \n",
              "  <svg xmlns=\"http://www.w3.org/2000/svg\" height=\"24px\"viewBox=\"0 0 24 24\"\n",
              "       width=\"24px\">\n",
              "    <path d=\"M0 0h24v24H0V0z\" fill=\"none\"/>\n",
              "    <path d=\"M18.56 5.44l.94 2.06.94-2.06 2.06-.94-2.06-.94-.94-2.06-.94 2.06-2.06.94zm-11 1L8.5 8.5l.94-2.06 2.06-.94-2.06-.94L8.5 2.5l-.94 2.06-2.06.94zm10 10l.94 2.06.94-2.06 2.06-.94-2.06-.94-.94-2.06-.94 2.06-2.06.94z\"/><path d=\"M17.41 7.96l-1.37-1.37c-.4-.4-.92-.59-1.43-.59-.52 0-1.04.2-1.43.59L10.3 9.45l-7.72 7.72c-.78.78-.78 2.05 0 2.83L4 21.41c.39.39.9.59 1.41.59.51 0 1.02-.2 1.41-.59l7.78-7.78 2.81-2.81c.8-.78.8-2.07 0-2.86zM5.41 20L4 18.59l7.72-7.72 1.47 1.35L5.41 20z\"/>\n",
              "  </svg>\n",
              "      </button>\n",
              "      \n",
              "  <style>\n",
              "    .colab-df-container {\n",
              "      display:flex;\n",
              "      flex-wrap:wrap;\n",
              "      gap: 12px;\n",
              "    }\n",
              "\n",
              "    .colab-df-convert {\n",
              "      background-color: #E8F0FE;\n",
              "      border: none;\n",
              "      border-radius: 50%;\n",
              "      cursor: pointer;\n",
              "      display: none;\n",
              "      fill: #1967D2;\n",
              "      height: 32px;\n",
              "      padding: 0 0 0 0;\n",
              "      width: 32px;\n",
              "    }\n",
              "\n",
              "    .colab-df-convert:hover {\n",
              "      background-color: #E2EBFA;\n",
              "      box-shadow: 0px 1px 2px rgba(60, 64, 67, 0.3), 0px 1px 3px 1px rgba(60, 64, 67, 0.15);\n",
              "      fill: #174EA6;\n",
              "    }\n",
              "\n",
              "    [theme=dark] .colab-df-convert {\n",
              "      background-color: #3B4455;\n",
              "      fill: #D2E3FC;\n",
              "    }\n",
              "\n",
              "    [theme=dark] .colab-df-convert:hover {\n",
              "      background-color: #434B5C;\n",
              "      box-shadow: 0px 1px 3px 1px rgba(0, 0, 0, 0.15);\n",
              "      filter: drop-shadow(0px 1px 2px rgba(0, 0, 0, 0.3));\n",
              "      fill: #FFFFFF;\n",
              "    }\n",
              "  </style>\n",
              "\n",
              "      <script>\n",
              "        const buttonEl =\n",
              "          document.querySelector('#df-9112649d-1ac0-40e4-a81f-3f432424e944 button.colab-df-convert');\n",
              "        buttonEl.style.display =\n",
              "          google.colab.kernel.accessAllowed ? 'block' : 'none';\n",
              "\n",
              "        async function convertToInteractive(key) {\n",
              "          const element = document.querySelector('#df-9112649d-1ac0-40e4-a81f-3f432424e944');\n",
              "          const dataTable =\n",
              "            await google.colab.kernel.invokeFunction('convertToInteractive',\n",
              "                                                     [key], {});\n",
              "          if (!dataTable) return;\n",
              "\n",
              "          const docLinkHtml = 'Like what you see? Visit the ' +\n",
              "            '<a target=\"_blank\" href=https://colab.research.google.com/notebooks/data_table.ipynb>data table notebook</a>'\n",
              "            + ' to learn more about interactive tables.';\n",
              "          element.innerHTML = '';\n",
              "          dataTable['output_type'] = 'display_data';\n",
              "          await google.colab.output.renderOutput(dataTable, element);\n",
              "          const docLink = document.createElement('div');\n",
              "          docLink.innerHTML = docLinkHtml;\n",
              "          element.appendChild(docLink);\n",
              "        }\n",
              "      </script>\n",
              "    </div>\n",
              "  </div>\n",
              "  "
            ]
          },
          "metadata": {},
          "execution_count": 14
        }
      ]
    },
    {
      "cell_type": "code",
      "source": [
        "df_multi_level_2.stack([0, 1])"
      ],
      "metadata": {
        "colab": {
          "base_uri": "https://localhost:8080/"
        },
        "id": "MVJq-zucy-md",
        "outputId": "0ad2b87e-60f4-474b-958b-9a7146cbe77a"
      },
      "execution_count": null,
      "outputs": [
        {
          "output_type": "execute_result",
          "data": {
            "text/plain": [
              "London  Temperature  °C      8.0\n",
              "        Wind         mph    13.0\n",
              "Oxford  Temperature  °C      6.0\n",
              "        Wind         mph    19.0\n",
              "dtype: float64"
            ]
          },
          "metadata": {},
          "execution_count": 15
        }
      ]
    },
    {
      "cell_type": "code",
      "source": [
        "df_multi_level_2.stack([1, 0])"
      ],
      "metadata": {
        "colab": {
          "base_uri": "https://localhost:8080/"
        },
        "id": "6Nx-b7aHzHk3",
        "outputId": "1bcdc2a4-6842-490e-a050-fbd7b6a3c625"
      },
      "execution_count": null,
      "outputs": [
        {
          "output_type": "execute_result",
          "data": {
            "text/plain": [
              "London  mph  Wind           13.0\n",
              "        °C   Temperature     8.0\n",
              "Oxford  mph  Wind           19.0\n",
              "        °C   Temperature     6.0\n",
              "dtype: float64"
            ]
          },
          "metadata": {},
          "execution_count": 16
        }
      ]
    },
    {
      "cell_type": "markdown",
      "source": [
        "## unstack"
      ],
      "metadata": {
        "id": "dAASocoHz2-1"
      }
    },
    {
      "cell_type": "code",
      "source": [
        "index = pd.MultiIndex.from_tuples([\n",
        "  ('Oxford', 'Temperature'),\n",
        "  ('Oxford', 'Wind'),\n",
        "  ('London', 'Temperature'),\n",
        "  ('London', 'Wind')\n",
        "])\n",
        "s = pd.Series([1,2,3,4], index=index)\n",
        "s"
      ],
      "metadata": {
        "colab": {
          "base_uri": "https://localhost:8080/"
        },
        "id": "xqiWUadk0T3k",
        "outputId": "6d39c70e-4d71-427f-804d-cf5de4e5e7d4"
      },
      "execution_count": null,
      "outputs": [
        {
          "output_type": "execute_result",
          "data": {
            "text/plain": [
              "Oxford  Temperature    1\n",
              "        Wind           2\n",
              "London  Temperature    3\n",
              "        Wind           4\n",
              "dtype: int64"
            ]
          },
          "metadata": {},
          "execution_count": 17
        }
      ]
    },
    {
      "cell_type": "code",
      "source": [
        "s.unstack()\n",
        "# It's equivalent to\n",
        "#s.unstack(level=-1)"
      ],
      "metadata": {
        "colab": {
          "base_uri": "https://localhost:8080/",
          "height": 111
        },
        "id": "URA8hgMX0bSj",
        "outputId": "26315258-40b1-4923-e203-5006761cc2a7"
      },
      "execution_count": null,
      "outputs": [
        {
          "output_type": "execute_result",
          "data": {
            "text/plain": [
              "        Temperature  Wind\n",
              "London            3     4\n",
              "Oxford            1     2"
            ],
            "text/html": [
              "\n",
              "  <div id=\"df-a025621e-c6c3-40de-a716-c90d812dd957\">\n",
              "    <div class=\"colab-df-container\">\n",
              "      <div>\n",
              "<style scoped>\n",
              "    .dataframe tbody tr th:only-of-type {\n",
              "        vertical-align: middle;\n",
              "    }\n",
              "\n",
              "    .dataframe tbody tr th {\n",
              "        vertical-align: top;\n",
              "    }\n",
              "\n",
              "    .dataframe thead th {\n",
              "        text-align: right;\n",
              "    }\n",
              "</style>\n",
              "<table border=\"1\" class=\"dataframe\">\n",
              "  <thead>\n",
              "    <tr style=\"text-align: right;\">\n",
              "      <th></th>\n",
              "      <th>Temperature</th>\n",
              "      <th>Wind</th>\n",
              "    </tr>\n",
              "  </thead>\n",
              "  <tbody>\n",
              "    <tr>\n",
              "      <th>London</th>\n",
              "      <td>3</td>\n",
              "      <td>4</td>\n",
              "    </tr>\n",
              "    <tr>\n",
              "      <th>Oxford</th>\n",
              "      <td>1</td>\n",
              "      <td>2</td>\n",
              "    </tr>\n",
              "  </tbody>\n",
              "</table>\n",
              "</div>\n",
              "      <button class=\"colab-df-convert\" onclick=\"convertToInteractive('df-a025621e-c6c3-40de-a716-c90d812dd957')\"\n",
              "              title=\"Convert this dataframe to an interactive table.\"\n",
              "              style=\"display:none;\">\n",
              "        \n",
              "  <svg xmlns=\"http://www.w3.org/2000/svg\" height=\"24px\"viewBox=\"0 0 24 24\"\n",
              "       width=\"24px\">\n",
              "    <path d=\"M0 0h24v24H0V0z\" fill=\"none\"/>\n",
              "    <path d=\"M18.56 5.44l.94 2.06.94-2.06 2.06-.94-2.06-.94-.94-2.06-.94 2.06-2.06.94zm-11 1L8.5 8.5l.94-2.06 2.06-.94-2.06-.94L8.5 2.5l-.94 2.06-2.06.94zm10 10l.94 2.06.94-2.06 2.06-.94-2.06-.94-.94-2.06-.94 2.06-2.06.94z\"/><path d=\"M17.41 7.96l-1.37-1.37c-.4-.4-.92-.59-1.43-.59-.52 0-1.04.2-1.43.59L10.3 9.45l-7.72 7.72c-.78.78-.78 2.05 0 2.83L4 21.41c.39.39.9.59 1.41.59.51 0 1.02-.2 1.41-.59l7.78-7.78 2.81-2.81c.8-.78.8-2.07 0-2.86zM5.41 20L4 18.59l7.72-7.72 1.47 1.35L5.41 20z\"/>\n",
              "  </svg>\n",
              "      </button>\n",
              "      \n",
              "  <style>\n",
              "    .colab-df-container {\n",
              "      display:flex;\n",
              "      flex-wrap:wrap;\n",
              "      gap: 12px;\n",
              "    }\n",
              "\n",
              "    .colab-df-convert {\n",
              "      background-color: #E8F0FE;\n",
              "      border: none;\n",
              "      border-radius: 50%;\n",
              "      cursor: pointer;\n",
              "      display: none;\n",
              "      fill: #1967D2;\n",
              "      height: 32px;\n",
              "      padding: 0 0 0 0;\n",
              "      width: 32px;\n",
              "    }\n",
              "\n",
              "    .colab-df-convert:hover {\n",
              "      background-color: #E2EBFA;\n",
              "      box-shadow: 0px 1px 2px rgba(60, 64, 67, 0.3), 0px 1px 3px 1px rgba(60, 64, 67, 0.15);\n",
              "      fill: #174EA6;\n",
              "    }\n",
              "\n",
              "    [theme=dark] .colab-df-convert {\n",
              "      background-color: #3B4455;\n",
              "      fill: #D2E3FC;\n",
              "    }\n",
              "\n",
              "    [theme=dark] .colab-df-convert:hover {\n",
              "      background-color: #434B5C;\n",
              "      box-shadow: 0px 1px 3px 1px rgba(0, 0, 0, 0.15);\n",
              "      filter: drop-shadow(0px 1px 2px rgba(0, 0, 0, 0.3));\n",
              "      fill: #FFFFFF;\n",
              "    }\n",
              "  </style>\n",
              "\n",
              "      <script>\n",
              "        const buttonEl =\n",
              "          document.querySelector('#df-a025621e-c6c3-40de-a716-c90d812dd957 button.colab-df-convert');\n",
              "        buttonEl.style.display =\n",
              "          google.colab.kernel.accessAllowed ? 'block' : 'none';\n",
              "\n",
              "        async function convertToInteractive(key) {\n",
              "          const element = document.querySelector('#df-a025621e-c6c3-40de-a716-c90d812dd957');\n",
              "          const dataTable =\n",
              "            await google.colab.kernel.invokeFunction('convertToInteractive',\n",
              "                                                     [key], {});\n",
              "          if (!dataTable) return;\n",
              "\n",
              "          const docLinkHtml = 'Like what you see? Visit the ' +\n",
              "            '<a target=\"_blank\" href=https://colab.research.google.com/notebooks/data_table.ipynb>data table notebook</a>'\n",
              "            + ' to learn more about interactive tables.';\n",
              "          element.innerHTML = '';\n",
              "          dataTable['output_type'] = 'display_data';\n",
              "          await google.colab.output.renderOutput(dataTable, element);\n",
              "          const docLink = document.createElement('div');\n",
              "          docLink.innerHTML = docLinkHtml;\n",
              "          element.appendChild(docLink);\n",
              "        }\n",
              "      </script>\n",
              "    </div>\n",
              "  </div>\n",
              "  "
            ]
          },
          "metadata": {},
          "execution_count": 18
        }
      ]
    },
    {
      "cell_type": "code",
      "source": [
        "# Unstack a specific level\n",
        "s.unstack(level=0)"
      ],
      "metadata": {
        "colab": {
          "base_uri": "https://localhost:8080/",
          "height": 111
        },
        "id": "MHs-6XhI0gF4",
        "outputId": "80a4a8dc-88d0-4e1a-fa79-4751d16922ec"
      },
      "execution_count": null,
      "outputs": [
        {
          "output_type": "execute_result",
          "data": {
            "text/plain": [
              "             London  Oxford\n",
              "Temperature       3       1\n",
              "Wind              4       2"
            ],
            "text/html": [
              "\n",
              "  <div id=\"df-9ee6a85f-1583-41b5-bcf2-4b4838b8ebd8\">\n",
              "    <div class=\"colab-df-container\">\n",
              "      <div>\n",
              "<style scoped>\n",
              "    .dataframe tbody tr th:only-of-type {\n",
              "        vertical-align: middle;\n",
              "    }\n",
              "\n",
              "    .dataframe tbody tr th {\n",
              "        vertical-align: top;\n",
              "    }\n",
              "\n",
              "    .dataframe thead th {\n",
              "        text-align: right;\n",
              "    }\n",
              "</style>\n",
              "<table border=\"1\" class=\"dataframe\">\n",
              "  <thead>\n",
              "    <tr style=\"text-align: right;\">\n",
              "      <th></th>\n",
              "      <th>London</th>\n",
              "      <th>Oxford</th>\n",
              "    </tr>\n",
              "  </thead>\n",
              "  <tbody>\n",
              "    <tr>\n",
              "      <th>Temperature</th>\n",
              "      <td>3</td>\n",
              "      <td>1</td>\n",
              "    </tr>\n",
              "    <tr>\n",
              "      <th>Wind</th>\n",
              "      <td>4</td>\n",
              "      <td>2</td>\n",
              "    </tr>\n",
              "  </tbody>\n",
              "</table>\n",
              "</div>\n",
              "      <button class=\"colab-df-convert\" onclick=\"convertToInteractive('df-9ee6a85f-1583-41b5-bcf2-4b4838b8ebd8')\"\n",
              "              title=\"Convert this dataframe to an interactive table.\"\n",
              "              style=\"display:none;\">\n",
              "        \n",
              "  <svg xmlns=\"http://www.w3.org/2000/svg\" height=\"24px\"viewBox=\"0 0 24 24\"\n",
              "       width=\"24px\">\n",
              "    <path d=\"M0 0h24v24H0V0z\" fill=\"none\"/>\n",
              "    <path d=\"M18.56 5.44l.94 2.06.94-2.06 2.06-.94-2.06-.94-.94-2.06-.94 2.06-2.06.94zm-11 1L8.5 8.5l.94-2.06 2.06-.94-2.06-.94L8.5 2.5l-.94 2.06-2.06.94zm10 10l.94 2.06.94-2.06 2.06-.94-2.06-.94-.94-2.06-.94 2.06-2.06.94z\"/><path d=\"M17.41 7.96l-1.37-1.37c-.4-.4-.92-.59-1.43-.59-.52 0-1.04.2-1.43.59L10.3 9.45l-7.72 7.72c-.78.78-.78 2.05 0 2.83L4 21.41c.39.39.9.59 1.41.59.51 0 1.02-.2 1.41-.59l7.78-7.78 2.81-2.81c.8-.78.8-2.07 0-2.86zM5.41 20L4 18.59l7.72-7.72 1.47 1.35L5.41 20z\"/>\n",
              "  </svg>\n",
              "      </button>\n",
              "      \n",
              "  <style>\n",
              "    .colab-df-container {\n",
              "      display:flex;\n",
              "      flex-wrap:wrap;\n",
              "      gap: 12px;\n",
              "    }\n",
              "\n",
              "    .colab-df-convert {\n",
              "      background-color: #E8F0FE;\n",
              "      border: none;\n",
              "      border-radius: 50%;\n",
              "      cursor: pointer;\n",
              "      display: none;\n",
              "      fill: #1967D2;\n",
              "      height: 32px;\n",
              "      padding: 0 0 0 0;\n",
              "      width: 32px;\n",
              "    }\n",
              "\n",
              "    .colab-df-convert:hover {\n",
              "      background-color: #E2EBFA;\n",
              "      box-shadow: 0px 1px 2px rgba(60, 64, 67, 0.3), 0px 1px 3px 1px rgba(60, 64, 67, 0.15);\n",
              "      fill: #174EA6;\n",
              "    }\n",
              "\n",
              "    [theme=dark] .colab-df-convert {\n",
              "      background-color: #3B4455;\n",
              "      fill: #D2E3FC;\n",
              "    }\n",
              "\n",
              "    [theme=dark] .colab-df-convert:hover {\n",
              "      background-color: #434B5C;\n",
              "      box-shadow: 0px 1px 3px 1px rgba(0, 0, 0, 0.15);\n",
              "      filter: drop-shadow(0px 1px 2px rgba(0, 0, 0, 0.3));\n",
              "      fill: #FFFFFF;\n",
              "    }\n",
              "  </style>\n",
              "\n",
              "      <script>\n",
              "        const buttonEl =\n",
              "          document.querySelector('#df-9ee6a85f-1583-41b5-bcf2-4b4838b8ebd8 button.colab-df-convert');\n",
              "        buttonEl.style.display =\n",
              "          google.colab.kernel.accessAllowed ? 'block' : 'none';\n",
              "\n",
              "        async function convertToInteractive(key) {\n",
              "          const element = document.querySelector('#df-9ee6a85f-1583-41b5-bcf2-4b4838b8ebd8');\n",
              "          const dataTable =\n",
              "            await google.colab.kernel.invokeFunction('convertToInteractive',\n",
              "                                                     [key], {});\n",
              "          if (!dataTable) return;\n",
              "\n",
              "          const docLinkHtml = 'Like what you see? Visit the ' +\n",
              "            '<a target=\"_blank\" href=https://colab.research.google.com/notebooks/data_table.ipynb>data table notebook</a>'\n",
              "            + ' to learn more about interactive tables.';\n",
              "          element.innerHTML = '';\n",
              "          dataTable['output_type'] = 'display_data';\n",
              "          await google.colab.output.renderOutput(dataTable, element);\n",
              "          const docLink = document.createElement('div');\n",
              "          docLink.innerHTML = docLinkHtml;\n",
              "          element.appendChild(docLink);\n",
              "        }\n",
              "      </script>\n",
              "    </div>\n",
              "  </div>\n",
              "  "
            ]
          },
          "metadata": {},
          "execution_count": 19
        }
      ]
    },
    {
      "cell_type": "code",
      "source": [
        "index = pd.MultiIndex.from_tuples([\n",
        "  ('Oxford', 'Weather', '01-01-2022'),\n",
        "  ('Oxford', 'Temperature', '01-01-2022'),\n",
        "  ('Oxford', 'Weather', '02-01-2022'),\n",
        "  ('Oxford', 'Temperature', '02-01-2022'),\n",
        "  ('London', 'Weather', '01-01-2022'),\n",
        "  ('London', 'Temperature', '01-01-2022'),\n",
        "  ('London', 'Weather', '02-01-2022'),\n",
        "  ('London', 'Temperature', '02-01-2022'),\n",
        "])\n",
        "s = pd.Series(\n",
        "  ['Sunny', 10, 'Shower', 7, 'Shower', 5, 'Sunny', 8],\n",
        "  index=index\n",
        ")\n",
        "s"
      ],
      "metadata": {
        "colab": {
          "base_uri": "https://localhost:8080/"
        },
        "id": "eCFqh26K026B",
        "outputId": "06cf4fc6-402c-4602-a964-a29bec1b4ae6"
      },
      "execution_count": null,
      "outputs": [
        {
          "output_type": "execute_result",
          "data": {
            "text/plain": [
              "Oxford  Weather      01-01-2022     Sunny\n",
              "        Temperature  01-01-2022        10\n",
              "        Weather      02-01-2022    Shower\n",
              "        Temperature  02-01-2022         7\n",
              "London  Weather      01-01-2022    Shower\n",
              "        Temperature  01-01-2022         5\n",
              "        Weather      02-01-2022     Sunny\n",
              "        Temperature  02-01-2022         8\n",
              "dtype: object"
            ]
          },
          "metadata": {},
          "execution_count": 21
        }
      ]
    },
    {
      "cell_type": "code",
      "source": [
        "# Method chaining\n",
        "s.unstack().unstack()\n",
        "\n",
        "# The equivalent\n",
        "#s.unstack([2,1])"
      ],
      "metadata": {
        "colab": {
          "base_uri": "https://localhost:8080/",
          "height": 142
        },
        "id": "JbuoaPTc04M7",
        "outputId": "7a866a75-16d0-4cf4-8eb6-76be0360d82e"
      },
      "execution_count": null,
      "outputs": [
        {
          "output_type": "execute_result",
          "data": {
            "text/plain": [
              "        01-01-2022          02-01-2022        \n",
              "       Temperature Weather Temperature Weather\n",
              "London           5  Shower           8   Sunny\n",
              "Oxford          10   Sunny           7  Shower"
            ],
            "text/html": [
              "\n",
              "  <div id=\"df-8d507ca7-3a7a-47bc-889b-168eba20fcc2\">\n",
              "    <div class=\"colab-df-container\">\n",
              "      <div>\n",
              "<style scoped>\n",
              "    .dataframe tbody tr th:only-of-type {\n",
              "        vertical-align: middle;\n",
              "    }\n",
              "\n",
              "    .dataframe tbody tr th {\n",
              "        vertical-align: top;\n",
              "    }\n",
              "\n",
              "    .dataframe thead tr th {\n",
              "        text-align: left;\n",
              "    }\n",
              "</style>\n",
              "<table border=\"1\" class=\"dataframe\">\n",
              "  <thead>\n",
              "    <tr>\n",
              "      <th></th>\n",
              "      <th colspan=\"2\" halign=\"left\">01-01-2022</th>\n",
              "      <th colspan=\"2\" halign=\"left\">02-01-2022</th>\n",
              "    </tr>\n",
              "    <tr>\n",
              "      <th></th>\n",
              "      <th>Temperature</th>\n",
              "      <th>Weather</th>\n",
              "      <th>Temperature</th>\n",
              "      <th>Weather</th>\n",
              "    </tr>\n",
              "  </thead>\n",
              "  <tbody>\n",
              "    <tr>\n",
              "      <th>London</th>\n",
              "      <td>5</td>\n",
              "      <td>Shower</td>\n",
              "      <td>8</td>\n",
              "      <td>Sunny</td>\n",
              "    </tr>\n",
              "    <tr>\n",
              "      <th>Oxford</th>\n",
              "      <td>10</td>\n",
              "      <td>Sunny</td>\n",
              "      <td>7</td>\n",
              "      <td>Shower</td>\n",
              "    </tr>\n",
              "  </tbody>\n",
              "</table>\n",
              "</div>\n",
              "      <button class=\"colab-df-convert\" onclick=\"convertToInteractive('df-8d507ca7-3a7a-47bc-889b-168eba20fcc2')\"\n",
              "              title=\"Convert this dataframe to an interactive table.\"\n",
              "              style=\"display:none;\">\n",
              "        \n",
              "  <svg xmlns=\"http://www.w3.org/2000/svg\" height=\"24px\"viewBox=\"0 0 24 24\"\n",
              "       width=\"24px\">\n",
              "    <path d=\"M0 0h24v24H0V0z\" fill=\"none\"/>\n",
              "    <path d=\"M18.56 5.44l.94 2.06.94-2.06 2.06-.94-2.06-.94-.94-2.06-.94 2.06-2.06.94zm-11 1L8.5 8.5l.94-2.06 2.06-.94-2.06-.94L8.5 2.5l-.94 2.06-2.06.94zm10 10l.94 2.06.94-2.06 2.06-.94-2.06-.94-.94-2.06-.94 2.06-2.06.94z\"/><path d=\"M17.41 7.96l-1.37-1.37c-.4-.4-.92-.59-1.43-.59-.52 0-1.04.2-1.43.59L10.3 9.45l-7.72 7.72c-.78.78-.78 2.05 0 2.83L4 21.41c.39.39.9.59 1.41.59.51 0 1.02-.2 1.41-.59l7.78-7.78 2.81-2.81c.8-.78.8-2.07 0-2.86zM5.41 20L4 18.59l7.72-7.72 1.47 1.35L5.41 20z\"/>\n",
              "  </svg>\n",
              "      </button>\n",
              "      \n",
              "  <style>\n",
              "    .colab-df-container {\n",
              "      display:flex;\n",
              "      flex-wrap:wrap;\n",
              "      gap: 12px;\n",
              "    }\n",
              "\n",
              "    .colab-df-convert {\n",
              "      background-color: #E8F0FE;\n",
              "      border: none;\n",
              "      border-radius: 50%;\n",
              "      cursor: pointer;\n",
              "      display: none;\n",
              "      fill: #1967D2;\n",
              "      height: 32px;\n",
              "      padding: 0 0 0 0;\n",
              "      width: 32px;\n",
              "    }\n",
              "\n",
              "    .colab-df-convert:hover {\n",
              "      background-color: #E2EBFA;\n",
              "      box-shadow: 0px 1px 2px rgba(60, 64, 67, 0.3), 0px 1px 3px 1px rgba(60, 64, 67, 0.15);\n",
              "      fill: #174EA6;\n",
              "    }\n",
              "\n",
              "    [theme=dark] .colab-df-convert {\n",
              "      background-color: #3B4455;\n",
              "      fill: #D2E3FC;\n",
              "    }\n",
              "\n",
              "    [theme=dark] .colab-df-convert:hover {\n",
              "      background-color: #434B5C;\n",
              "      box-shadow: 0px 1px 3px 1px rgba(0, 0, 0, 0.15);\n",
              "      filter: drop-shadow(0px 1px 2px rgba(0, 0, 0, 0.3));\n",
              "      fill: #FFFFFF;\n",
              "    }\n",
              "  </style>\n",
              "\n",
              "      <script>\n",
              "        const buttonEl =\n",
              "          document.querySelector('#df-8d507ca7-3a7a-47bc-889b-168eba20fcc2 button.colab-df-convert');\n",
              "        buttonEl.style.display =\n",
              "          google.colab.kernel.accessAllowed ? 'block' : 'none';\n",
              "\n",
              "        async function convertToInteractive(key) {\n",
              "          const element = document.querySelector('#df-8d507ca7-3a7a-47bc-889b-168eba20fcc2');\n",
              "          const dataTable =\n",
              "            await google.colab.kernel.invokeFunction('convertToInteractive',\n",
              "                                                     [key], {});\n",
              "          if (!dataTable) return;\n",
              "\n",
              "          const docLinkHtml = 'Like what you see? Visit the ' +\n",
              "            '<a target=\"_blank\" href=https://colab.research.google.com/notebooks/data_table.ipynb>data table notebook</a>'\n",
              "            + ' to learn more about interactive tables.';\n",
              "          element.innerHTML = '';\n",
              "          dataTable['output_type'] = 'display_data';\n",
              "          await google.colab.output.renderOutput(dataTable, element);\n",
              "          const docLink = document.createElement('div');\n",
              "          docLink.innerHTML = docLinkHtml;\n",
              "          element.appendChild(docLink);\n",
              "        }\n",
              "      </script>\n",
              "    </div>\n",
              "  </div>\n",
              "  "
            ]
          },
          "metadata": {},
          "execution_count": 24
        }
      ]
    },
    {
      "cell_type": "code",
      "source": [
        "s.unstack().unstack().unstack()\n",
        "\n",
        "# The equivalent\n",
        "#s.unstack([2,1,0])"
      ],
      "metadata": {
        "colab": {
          "base_uri": "https://localhost:8080/"
        },
        "id": "hNaTaU2t1JUi",
        "outputId": "c01bb42a-3825-4195-aa10-7a6f5dd8e123"
      },
      "execution_count": null,
      "outputs": [
        {
          "output_type": "execute_result",
          "data": {
            "text/plain": [
              "01-01-2022  Temperature  London         5\n",
              "                         Oxford        10\n",
              "            Weather      London    Shower\n",
              "                         Oxford     Sunny\n",
              "02-01-2022  Temperature  London         8\n",
              "                         Oxford         7\n",
              "            Weather      London     Sunny\n",
              "                         Oxford    Shower\n",
              "dtype: object"
            ]
          },
          "metadata": {},
          "execution_count": 25
        }
      ]
    },
    {
      "cell_type": "markdown",
      "source": [
        "## *pandas*, merge, join, concatenate\n",
        "\n",
        "* Take the union of them all, ```join='outer'```. This is the default option as it results in zero information loss\n",
        "* Take the intersection, ```join='inner'```\n"
      ],
      "metadata": {
        "id": "p8rjTSlb1cfy"
      }
    },
    {
      "cell_type": "code",
      "source": [
        "df1 = pd.DataFrame(\n",
        "    {\n",
        "         \"A\": [\"A0\", \"A1\", \"A2\", \"A3\"],\n",
        "         \"B\": [\"B0\", \"B1\", \"B2\", \"B3\"],\n",
        "         \"C\": [\"C0\", \"C1\", \"C2\", \"C3\"],\n",
        "         \"D\": [\"D0\", \"D1\", \"D2\", \"D3\"],\n",
        "     },\n",
        "     index=[0, 1, 2, 3],\n",
        " )\n",
        "\n",
        "df2 = pd.DataFrame(\n",
        "    {\n",
        "         \"A\": [\"A0\", \"A1\", \"A2\", \"A3\"],\n",
        "         \"B\": [\"B0\", \"B1\", \"B2\", \"B3\"],\n",
        "         \"C\": [\"C0\", \"C1\", \"C2\", \"C3\"],\n",
        "         \"D\": [\"D0\", \"D1\", \"D2\", \"D3\"],\n",
        "     },\n",
        "     index=[4, 5, 6, 7],\n",
        " )\n",
        "\n",
        "frames = [df1, df2]\n",
        "\n",
        "result = pd.concat(frames, axis=1)\n",
        "result"
      ],
      "metadata": {
        "colab": {
          "base_uri": "https://localhost:8080/",
          "height": 297
        },
        "id": "JEssiNa71Le4",
        "outputId": "72ddd2f8-56d7-4a97-e09e-e8998521fced"
      },
      "execution_count": null,
      "outputs": [
        {
          "output_type": "execute_result",
          "data": {
            "text/plain": [
              "     A    B    C    D    A    B    C    D\n",
              "0   A0   B0   C0   D0  NaN  NaN  NaN  NaN\n",
              "1   A1   B1   C1   D1  NaN  NaN  NaN  NaN\n",
              "2   A2   B2   C2   D2  NaN  NaN  NaN  NaN\n",
              "3   A3   B3   C3   D3  NaN  NaN  NaN  NaN\n",
              "4  NaN  NaN  NaN  NaN   A0   B0   C0   D0\n",
              "5  NaN  NaN  NaN  NaN   A1   B1   C1   D1\n",
              "6  NaN  NaN  NaN  NaN   A2   B2   C2   D2\n",
              "7  NaN  NaN  NaN  NaN   A3   B3   C3   D3"
            ],
            "text/html": [
              "\n",
              "  <div id=\"df-497c7d6e-7844-45ba-9863-3fc7491d6b7e\">\n",
              "    <div class=\"colab-df-container\">\n",
              "      <div>\n",
              "<style scoped>\n",
              "    .dataframe tbody tr th:only-of-type {\n",
              "        vertical-align: middle;\n",
              "    }\n",
              "\n",
              "    .dataframe tbody tr th {\n",
              "        vertical-align: top;\n",
              "    }\n",
              "\n",
              "    .dataframe thead th {\n",
              "        text-align: right;\n",
              "    }\n",
              "</style>\n",
              "<table border=\"1\" class=\"dataframe\">\n",
              "  <thead>\n",
              "    <tr style=\"text-align: right;\">\n",
              "      <th></th>\n",
              "      <th>A</th>\n",
              "      <th>B</th>\n",
              "      <th>C</th>\n",
              "      <th>D</th>\n",
              "      <th>A</th>\n",
              "      <th>B</th>\n",
              "      <th>C</th>\n",
              "      <th>D</th>\n",
              "    </tr>\n",
              "  </thead>\n",
              "  <tbody>\n",
              "    <tr>\n",
              "      <th>0</th>\n",
              "      <td>A0</td>\n",
              "      <td>B0</td>\n",
              "      <td>C0</td>\n",
              "      <td>D0</td>\n",
              "      <td>NaN</td>\n",
              "      <td>NaN</td>\n",
              "      <td>NaN</td>\n",
              "      <td>NaN</td>\n",
              "    </tr>\n",
              "    <tr>\n",
              "      <th>1</th>\n",
              "      <td>A1</td>\n",
              "      <td>B1</td>\n",
              "      <td>C1</td>\n",
              "      <td>D1</td>\n",
              "      <td>NaN</td>\n",
              "      <td>NaN</td>\n",
              "      <td>NaN</td>\n",
              "      <td>NaN</td>\n",
              "    </tr>\n",
              "    <tr>\n",
              "      <th>2</th>\n",
              "      <td>A2</td>\n",
              "      <td>B2</td>\n",
              "      <td>C2</td>\n",
              "      <td>D2</td>\n",
              "      <td>NaN</td>\n",
              "      <td>NaN</td>\n",
              "      <td>NaN</td>\n",
              "      <td>NaN</td>\n",
              "    </tr>\n",
              "    <tr>\n",
              "      <th>3</th>\n",
              "      <td>A3</td>\n",
              "      <td>B3</td>\n",
              "      <td>C3</td>\n",
              "      <td>D3</td>\n",
              "      <td>NaN</td>\n",
              "      <td>NaN</td>\n",
              "      <td>NaN</td>\n",
              "      <td>NaN</td>\n",
              "    </tr>\n",
              "    <tr>\n",
              "      <th>4</th>\n",
              "      <td>NaN</td>\n",
              "      <td>NaN</td>\n",
              "      <td>NaN</td>\n",
              "      <td>NaN</td>\n",
              "      <td>A0</td>\n",
              "      <td>B0</td>\n",
              "      <td>C0</td>\n",
              "      <td>D0</td>\n",
              "    </tr>\n",
              "    <tr>\n",
              "      <th>5</th>\n",
              "      <td>NaN</td>\n",
              "      <td>NaN</td>\n",
              "      <td>NaN</td>\n",
              "      <td>NaN</td>\n",
              "      <td>A1</td>\n",
              "      <td>B1</td>\n",
              "      <td>C1</td>\n",
              "      <td>D1</td>\n",
              "    </tr>\n",
              "    <tr>\n",
              "      <th>6</th>\n",
              "      <td>NaN</td>\n",
              "      <td>NaN</td>\n",
              "      <td>NaN</td>\n",
              "      <td>NaN</td>\n",
              "      <td>A2</td>\n",
              "      <td>B2</td>\n",
              "      <td>C2</td>\n",
              "      <td>D2</td>\n",
              "    </tr>\n",
              "    <tr>\n",
              "      <th>7</th>\n",
              "      <td>NaN</td>\n",
              "      <td>NaN</td>\n",
              "      <td>NaN</td>\n",
              "      <td>NaN</td>\n",
              "      <td>A3</td>\n",
              "      <td>B3</td>\n",
              "      <td>C3</td>\n",
              "      <td>D3</td>\n",
              "    </tr>\n",
              "  </tbody>\n",
              "</table>\n",
              "</div>\n",
              "      <button class=\"colab-df-convert\" onclick=\"convertToInteractive('df-497c7d6e-7844-45ba-9863-3fc7491d6b7e')\"\n",
              "              title=\"Convert this dataframe to an interactive table.\"\n",
              "              style=\"display:none;\">\n",
              "        \n",
              "  <svg xmlns=\"http://www.w3.org/2000/svg\" height=\"24px\"viewBox=\"0 0 24 24\"\n",
              "       width=\"24px\">\n",
              "    <path d=\"M0 0h24v24H0V0z\" fill=\"none\"/>\n",
              "    <path d=\"M18.56 5.44l.94 2.06.94-2.06 2.06-.94-2.06-.94-.94-2.06-.94 2.06-2.06.94zm-11 1L8.5 8.5l.94-2.06 2.06-.94-2.06-.94L8.5 2.5l-.94 2.06-2.06.94zm10 10l.94 2.06.94-2.06 2.06-.94-2.06-.94-.94-2.06-.94 2.06-2.06.94z\"/><path d=\"M17.41 7.96l-1.37-1.37c-.4-.4-.92-.59-1.43-.59-.52 0-1.04.2-1.43.59L10.3 9.45l-7.72 7.72c-.78.78-.78 2.05 0 2.83L4 21.41c.39.39.9.59 1.41.59.51 0 1.02-.2 1.41-.59l7.78-7.78 2.81-2.81c.8-.78.8-2.07 0-2.86zM5.41 20L4 18.59l7.72-7.72 1.47 1.35L5.41 20z\"/>\n",
              "  </svg>\n",
              "      </button>\n",
              "      \n",
              "  <style>\n",
              "    .colab-df-container {\n",
              "      display:flex;\n",
              "      flex-wrap:wrap;\n",
              "      gap: 12px;\n",
              "    }\n",
              "\n",
              "    .colab-df-convert {\n",
              "      background-color: #E8F0FE;\n",
              "      border: none;\n",
              "      border-radius: 50%;\n",
              "      cursor: pointer;\n",
              "      display: none;\n",
              "      fill: #1967D2;\n",
              "      height: 32px;\n",
              "      padding: 0 0 0 0;\n",
              "      width: 32px;\n",
              "    }\n",
              "\n",
              "    .colab-df-convert:hover {\n",
              "      background-color: #E2EBFA;\n",
              "      box-shadow: 0px 1px 2px rgba(60, 64, 67, 0.3), 0px 1px 3px 1px rgba(60, 64, 67, 0.15);\n",
              "      fill: #174EA6;\n",
              "    }\n",
              "\n",
              "    [theme=dark] .colab-df-convert {\n",
              "      background-color: #3B4455;\n",
              "      fill: #D2E3FC;\n",
              "    }\n",
              "\n",
              "    [theme=dark] .colab-df-convert:hover {\n",
              "      background-color: #434B5C;\n",
              "      box-shadow: 0px 1px 3px 1px rgba(0, 0, 0, 0.15);\n",
              "      filter: drop-shadow(0px 1px 2px rgba(0, 0, 0, 0.3));\n",
              "      fill: #FFFFFF;\n",
              "    }\n",
              "  </style>\n",
              "\n",
              "      <script>\n",
              "        const buttonEl =\n",
              "          document.querySelector('#df-497c7d6e-7844-45ba-9863-3fc7491d6b7e button.colab-df-convert');\n",
              "        buttonEl.style.display =\n",
              "          google.colab.kernel.accessAllowed ? 'block' : 'none';\n",
              "\n",
              "        async function convertToInteractive(key) {\n",
              "          const element = document.querySelector('#df-497c7d6e-7844-45ba-9863-3fc7491d6b7e');\n",
              "          const dataTable =\n",
              "            await google.colab.kernel.invokeFunction('convertToInteractive',\n",
              "                                                     [key], {});\n",
              "          if (!dataTable) return;\n",
              "\n",
              "          const docLinkHtml = 'Like what you see? Visit the ' +\n",
              "            '<a target=\"_blank\" href=https://colab.research.google.com/notebooks/data_table.ipynb>data table notebook</a>'\n",
              "            + ' to learn more about interactive tables.';\n",
              "          element.innerHTML = '';\n",
              "          dataTable['output_type'] = 'display_data';\n",
              "          await google.colab.output.renderOutput(dataTable, element);\n",
              "          const docLink = document.createElement('div');\n",
              "          docLink.innerHTML = docLinkHtml;\n",
              "          element.appendChild(docLink);\n",
              "        }\n",
              "      </script>\n",
              "    </div>\n",
              "  </div>\n",
              "  "
            ]
          },
          "metadata": {},
          "execution_count": 5
        }
      ]
    },
    {
      "cell_type": "code",
      "source": [
        "result = pd.concat(frames, axis=0, join=\"inner\")\n",
        "result"
      ],
      "metadata": {
        "colab": {
          "base_uri": "https://localhost:8080/",
          "height": 297
        },
        "id": "u77RCiQV31zE",
        "outputId": "aecf954d-5681-4376-9c5d-34f30a14c32e"
      },
      "execution_count": null,
      "outputs": [
        {
          "output_type": "execute_result",
          "data": {
            "text/plain": [
              "    A   B   C   D\n",
              "0  A0  B0  C0  D0\n",
              "1  A1  B1  C1  D1\n",
              "2  A2  B2  C2  D2\n",
              "3  A3  B3  C3  D3\n",
              "4  A0  B0  C0  D0\n",
              "5  A1  B1  C1  D1\n",
              "6  A2  B2  C2  D2\n",
              "7  A3  B3  C3  D3"
            ],
            "text/html": [
              "\n",
              "  <div id=\"df-18b9258d-621e-4619-8edc-5ada9f79974e\">\n",
              "    <div class=\"colab-df-container\">\n",
              "      <div>\n",
              "<style scoped>\n",
              "    .dataframe tbody tr th:only-of-type {\n",
              "        vertical-align: middle;\n",
              "    }\n",
              "\n",
              "    .dataframe tbody tr th {\n",
              "        vertical-align: top;\n",
              "    }\n",
              "\n",
              "    .dataframe thead th {\n",
              "        text-align: right;\n",
              "    }\n",
              "</style>\n",
              "<table border=\"1\" class=\"dataframe\">\n",
              "  <thead>\n",
              "    <tr style=\"text-align: right;\">\n",
              "      <th></th>\n",
              "      <th>A</th>\n",
              "      <th>B</th>\n",
              "      <th>C</th>\n",
              "      <th>D</th>\n",
              "    </tr>\n",
              "  </thead>\n",
              "  <tbody>\n",
              "    <tr>\n",
              "      <th>0</th>\n",
              "      <td>A0</td>\n",
              "      <td>B0</td>\n",
              "      <td>C0</td>\n",
              "      <td>D0</td>\n",
              "    </tr>\n",
              "    <tr>\n",
              "      <th>1</th>\n",
              "      <td>A1</td>\n",
              "      <td>B1</td>\n",
              "      <td>C1</td>\n",
              "      <td>D1</td>\n",
              "    </tr>\n",
              "    <tr>\n",
              "      <th>2</th>\n",
              "      <td>A2</td>\n",
              "      <td>B2</td>\n",
              "      <td>C2</td>\n",
              "      <td>D2</td>\n",
              "    </tr>\n",
              "    <tr>\n",
              "      <th>3</th>\n",
              "      <td>A3</td>\n",
              "      <td>B3</td>\n",
              "      <td>C3</td>\n",
              "      <td>D3</td>\n",
              "    </tr>\n",
              "    <tr>\n",
              "      <th>4</th>\n",
              "      <td>A0</td>\n",
              "      <td>B0</td>\n",
              "      <td>C0</td>\n",
              "      <td>D0</td>\n",
              "    </tr>\n",
              "    <tr>\n",
              "      <th>5</th>\n",
              "      <td>A1</td>\n",
              "      <td>B1</td>\n",
              "      <td>C1</td>\n",
              "      <td>D1</td>\n",
              "    </tr>\n",
              "    <tr>\n",
              "      <th>6</th>\n",
              "      <td>A2</td>\n",
              "      <td>B2</td>\n",
              "      <td>C2</td>\n",
              "      <td>D2</td>\n",
              "    </tr>\n",
              "    <tr>\n",
              "      <th>7</th>\n",
              "      <td>A3</td>\n",
              "      <td>B3</td>\n",
              "      <td>C3</td>\n",
              "      <td>D3</td>\n",
              "    </tr>\n",
              "  </tbody>\n",
              "</table>\n",
              "</div>\n",
              "      <button class=\"colab-df-convert\" onclick=\"convertToInteractive('df-18b9258d-621e-4619-8edc-5ada9f79974e')\"\n",
              "              title=\"Convert this dataframe to an interactive table.\"\n",
              "              style=\"display:none;\">\n",
              "        \n",
              "  <svg xmlns=\"http://www.w3.org/2000/svg\" height=\"24px\"viewBox=\"0 0 24 24\"\n",
              "       width=\"24px\">\n",
              "    <path d=\"M0 0h24v24H0V0z\" fill=\"none\"/>\n",
              "    <path d=\"M18.56 5.44l.94 2.06.94-2.06 2.06-.94-2.06-.94-.94-2.06-.94 2.06-2.06.94zm-11 1L8.5 8.5l.94-2.06 2.06-.94-2.06-.94L8.5 2.5l-.94 2.06-2.06.94zm10 10l.94 2.06.94-2.06 2.06-.94-2.06-.94-.94-2.06-.94 2.06-2.06.94z\"/><path d=\"M17.41 7.96l-1.37-1.37c-.4-.4-.92-.59-1.43-.59-.52 0-1.04.2-1.43.59L10.3 9.45l-7.72 7.72c-.78.78-.78 2.05 0 2.83L4 21.41c.39.39.9.59 1.41.59.51 0 1.02-.2 1.41-.59l7.78-7.78 2.81-2.81c.8-.78.8-2.07 0-2.86zM5.41 20L4 18.59l7.72-7.72 1.47 1.35L5.41 20z\"/>\n",
              "  </svg>\n",
              "      </button>\n",
              "      \n",
              "  <style>\n",
              "    .colab-df-container {\n",
              "      display:flex;\n",
              "      flex-wrap:wrap;\n",
              "      gap: 12px;\n",
              "    }\n",
              "\n",
              "    .colab-df-convert {\n",
              "      background-color: #E8F0FE;\n",
              "      border: none;\n",
              "      border-radius: 50%;\n",
              "      cursor: pointer;\n",
              "      display: none;\n",
              "      fill: #1967D2;\n",
              "      height: 32px;\n",
              "      padding: 0 0 0 0;\n",
              "      width: 32px;\n",
              "    }\n",
              "\n",
              "    .colab-df-convert:hover {\n",
              "      background-color: #E2EBFA;\n",
              "      box-shadow: 0px 1px 2px rgba(60, 64, 67, 0.3), 0px 1px 3px 1px rgba(60, 64, 67, 0.15);\n",
              "      fill: #174EA6;\n",
              "    }\n",
              "\n",
              "    [theme=dark] .colab-df-convert {\n",
              "      background-color: #3B4455;\n",
              "      fill: #D2E3FC;\n",
              "    }\n",
              "\n",
              "    [theme=dark] .colab-df-convert:hover {\n",
              "      background-color: #434B5C;\n",
              "      box-shadow: 0px 1px 3px 1px rgba(0, 0, 0, 0.15);\n",
              "      filter: drop-shadow(0px 1px 2px rgba(0, 0, 0, 0.3));\n",
              "      fill: #FFFFFF;\n",
              "    }\n",
              "  </style>\n",
              "\n",
              "      <script>\n",
              "        const buttonEl =\n",
              "          document.querySelector('#df-18b9258d-621e-4619-8edc-5ada9f79974e button.colab-df-convert');\n",
              "        buttonEl.style.display =\n",
              "          google.colab.kernel.accessAllowed ? 'block' : 'none';\n",
              "\n",
              "        async function convertToInteractive(key) {\n",
              "          const element = document.querySelector('#df-18b9258d-621e-4619-8edc-5ada9f79974e');\n",
              "          const dataTable =\n",
              "            await google.colab.kernel.invokeFunction('convertToInteractive',\n",
              "                                                     [key], {});\n",
              "          if (!dataTable) return;\n",
              "\n",
              "          const docLinkHtml = 'Like what you see? Visit the ' +\n",
              "            '<a target=\"_blank\" href=https://colab.research.google.com/notebooks/data_table.ipynb>data table notebook</a>'\n",
              "            + ' to learn more about interactive tables.';\n",
              "          element.innerHTML = '';\n",
              "          dataTable['output_type'] = 'display_data';\n",
              "          await google.colab.output.renderOutput(dataTable, element);\n",
              "          const docLink = document.createElement('div');\n",
              "          docLink.innerHTML = docLinkHtml;\n",
              "          element.appendChild(docLink);\n",
              "        }\n",
              "      </script>\n",
              "    </div>\n",
              "  </div>\n",
              "  "
            ]
          },
          "metadata": {},
          "execution_count": 6
        }
      ]
    },
    {
      "cell_type": "code",
      "source": [
        "result = pd.concat(frames, axis=1, join=\"inner\")\n",
        "result\n",
        "#why here we get this result?"
      ],
      "metadata": {
        "colab": {
          "base_uri": "https://localhost:8080/",
          "height": 49
        },
        "id": "HuAXWWoh4Nnc",
        "outputId": "7f014ac7-08cb-4c7d-8901-a87893dc86a7"
      },
      "execution_count": null,
      "outputs": [
        {
          "output_type": "execute_result",
          "data": {
            "text/plain": [
              "Empty DataFrame\n",
              "Columns: [A, B, C, D, A, B, C, D]\n",
              "Index: []"
            ],
            "text/html": [
              "\n",
              "  <div id=\"df-7add50a6-396a-45cf-94e8-340eddad1498\">\n",
              "    <div class=\"colab-df-container\">\n",
              "      <div>\n",
              "<style scoped>\n",
              "    .dataframe tbody tr th:only-of-type {\n",
              "        vertical-align: middle;\n",
              "    }\n",
              "\n",
              "    .dataframe tbody tr th {\n",
              "        vertical-align: top;\n",
              "    }\n",
              "\n",
              "    .dataframe thead th {\n",
              "        text-align: right;\n",
              "    }\n",
              "</style>\n",
              "<table border=\"1\" class=\"dataframe\">\n",
              "  <thead>\n",
              "    <tr style=\"text-align: right;\">\n",
              "      <th></th>\n",
              "      <th>A</th>\n",
              "      <th>B</th>\n",
              "      <th>C</th>\n",
              "      <th>D</th>\n",
              "      <th>A</th>\n",
              "      <th>B</th>\n",
              "      <th>C</th>\n",
              "      <th>D</th>\n",
              "    </tr>\n",
              "  </thead>\n",
              "  <tbody>\n",
              "  </tbody>\n",
              "</table>\n",
              "</div>\n",
              "      <button class=\"colab-df-convert\" onclick=\"convertToInteractive('df-7add50a6-396a-45cf-94e8-340eddad1498')\"\n",
              "              title=\"Convert this dataframe to an interactive table.\"\n",
              "              style=\"display:none;\">\n",
              "        \n",
              "  <svg xmlns=\"http://www.w3.org/2000/svg\" height=\"24px\"viewBox=\"0 0 24 24\"\n",
              "       width=\"24px\">\n",
              "    <path d=\"M0 0h24v24H0V0z\" fill=\"none\"/>\n",
              "    <path d=\"M18.56 5.44l.94 2.06.94-2.06 2.06-.94-2.06-.94-.94-2.06-.94 2.06-2.06.94zm-11 1L8.5 8.5l.94-2.06 2.06-.94-2.06-.94L8.5 2.5l-.94 2.06-2.06.94zm10 10l.94 2.06.94-2.06 2.06-.94-2.06-.94-.94-2.06-.94 2.06-2.06.94z\"/><path d=\"M17.41 7.96l-1.37-1.37c-.4-.4-.92-.59-1.43-.59-.52 0-1.04.2-1.43.59L10.3 9.45l-7.72 7.72c-.78.78-.78 2.05 0 2.83L4 21.41c.39.39.9.59 1.41.59.51 0 1.02-.2 1.41-.59l7.78-7.78 2.81-2.81c.8-.78.8-2.07 0-2.86zM5.41 20L4 18.59l7.72-7.72 1.47 1.35L5.41 20z\"/>\n",
              "  </svg>\n",
              "      </button>\n",
              "      \n",
              "  <style>\n",
              "    .colab-df-container {\n",
              "      display:flex;\n",
              "      flex-wrap:wrap;\n",
              "      gap: 12px;\n",
              "    }\n",
              "\n",
              "    .colab-df-convert {\n",
              "      background-color: #E8F0FE;\n",
              "      border: none;\n",
              "      border-radius: 50%;\n",
              "      cursor: pointer;\n",
              "      display: none;\n",
              "      fill: #1967D2;\n",
              "      height: 32px;\n",
              "      padding: 0 0 0 0;\n",
              "      width: 32px;\n",
              "    }\n",
              "\n",
              "    .colab-df-convert:hover {\n",
              "      background-color: #E2EBFA;\n",
              "      box-shadow: 0px 1px 2px rgba(60, 64, 67, 0.3), 0px 1px 3px 1px rgba(60, 64, 67, 0.15);\n",
              "      fill: #174EA6;\n",
              "    }\n",
              "\n",
              "    [theme=dark] .colab-df-convert {\n",
              "      background-color: #3B4455;\n",
              "      fill: #D2E3FC;\n",
              "    }\n",
              "\n",
              "    [theme=dark] .colab-df-convert:hover {\n",
              "      background-color: #434B5C;\n",
              "      box-shadow: 0px 1px 3px 1px rgba(0, 0, 0, 0.15);\n",
              "      filter: drop-shadow(0px 1px 2px rgba(0, 0, 0, 0.3));\n",
              "      fill: #FFFFFF;\n",
              "    }\n",
              "  </style>\n",
              "\n",
              "      <script>\n",
              "        const buttonEl =\n",
              "          document.querySelector('#df-7add50a6-396a-45cf-94e8-340eddad1498 button.colab-df-convert');\n",
              "        buttonEl.style.display =\n",
              "          google.colab.kernel.accessAllowed ? 'block' : 'none';\n",
              "\n",
              "        async function convertToInteractive(key) {\n",
              "          const element = document.querySelector('#df-7add50a6-396a-45cf-94e8-340eddad1498');\n",
              "          const dataTable =\n",
              "            await google.colab.kernel.invokeFunction('convertToInteractive',\n",
              "                                                     [key], {});\n",
              "          if (!dataTable) return;\n",
              "\n",
              "          const docLinkHtml = 'Like what you see? Visit the ' +\n",
              "            '<a target=\"_blank\" href=https://colab.research.google.com/notebooks/data_table.ipynb>data table notebook</a>'\n",
              "            + ' to learn more about interactive tables.';\n",
              "          element.innerHTML = '';\n",
              "          dataTable['output_type'] = 'display_data';\n",
              "          await google.colab.output.renderOutput(dataTable, element);\n",
              "          const docLink = document.createElement('div');\n",
              "          docLink.innerHTML = docLinkHtml;\n",
              "          element.appendChild(docLink);\n",
              "        }\n",
              "      </script>\n",
              "    </div>\n",
              "  </div>\n",
              "  "
            ]
          },
          "metadata": {},
          "execution_count": 7
        }
      ]
    },
    {
      "cell_type": "code",
      "source": [
        "# we can also use reindex()\n",
        "result = pd.concat([df1, df2], axis=0).reindex(df1.index)\n",
        "result"
      ],
      "metadata": {
        "colab": {
          "base_uri": "https://localhost:8080/",
          "height": 173
        },
        "id": "LT-dGpqo4ZgY",
        "outputId": "95c64cc5-aba3-47c9-918d-e5315d88da32"
      },
      "execution_count": null,
      "outputs": [
        {
          "output_type": "execute_result",
          "data": {
            "text/plain": [
              "    A   B   C   D\n",
              "0  A0  B0  C0  D0\n",
              "1  A1  B1  C1  D1\n",
              "2  A2  B2  C2  D2\n",
              "3  A3  B3  C3  D3"
            ],
            "text/html": [
              "\n",
              "  <div id=\"df-ec4d207f-f131-44c4-9245-962591adab75\">\n",
              "    <div class=\"colab-df-container\">\n",
              "      <div>\n",
              "<style scoped>\n",
              "    .dataframe tbody tr th:only-of-type {\n",
              "        vertical-align: middle;\n",
              "    }\n",
              "\n",
              "    .dataframe tbody tr th {\n",
              "        vertical-align: top;\n",
              "    }\n",
              "\n",
              "    .dataframe thead th {\n",
              "        text-align: right;\n",
              "    }\n",
              "</style>\n",
              "<table border=\"1\" class=\"dataframe\">\n",
              "  <thead>\n",
              "    <tr style=\"text-align: right;\">\n",
              "      <th></th>\n",
              "      <th>A</th>\n",
              "      <th>B</th>\n",
              "      <th>C</th>\n",
              "      <th>D</th>\n",
              "    </tr>\n",
              "  </thead>\n",
              "  <tbody>\n",
              "    <tr>\n",
              "      <th>0</th>\n",
              "      <td>A0</td>\n",
              "      <td>B0</td>\n",
              "      <td>C0</td>\n",
              "      <td>D0</td>\n",
              "    </tr>\n",
              "    <tr>\n",
              "      <th>1</th>\n",
              "      <td>A1</td>\n",
              "      <td>B1</td>\n",
              "      <td>C1</td>\n",
              "      <td>D1</td>\n",
              "    </tr>\n",
              "    <tr>\n",
              "      <th>2</th>\n",
              "      <td>A2</td>\n",
              "      <td>B2</td>\n",
              "      <td>C2</td>\n",
              "      <td>D2</td>\n",
              "    </tr>\n",
              "    <tr>\n",
              "      <th>3</th>\n",
              "      <td>A3</td>\n",
              "      <td>B3</td>\n",
              "      <td>C3</td>\n",
              "      <td>D3</td>\n",
              "    </tr>\n",
              "  </tbody>\n",
              "</table>\n",
              "</div>\n",
              "      <button class=\"colab-df-convert\" onclick=\"convertToInteractive('df-ec4d207f-f131-44c4-9245-962591adab75')\"\n",
              "              title=\"Convert this dataframe to an interactive table.\"\n",
              "              style=\"display:none;\">\n",
              "        \n",
              "  <svg xmlns=\"http://www.w3.org/2000/svg\" height=\"24px\"viewBox=\"0 0 24 24\"\n",
              "       width=\"24px\">\n",
              "    <path d=\"M0 0h24v24H0V0z\" fill=\"none\"/>\n",
              "    <path d=\"M18.56 5.44l.94 2.06.94-2.06 2.06-.94-2.06-.94-.94-2.06-.94 2.06-2.06.94zm-11 1L8.5 8.5l.94-2.06 2.06-.94-2.06-.94L8.5 2.5l-.94 2.06-2.06.94zm10 10l.94 2.06.94-2.06 2.06-.94-2.06-.94-.94-2.06-.94 2.06-2.06.94z\"/><path d=\"M17.41 7.96l-1.37-1.37c-.4-.4-.92-.59-1.43-.59-.52 0-1.04.2-1.43.59L10.3 9.45l-7.72 7.72c-.78.78-.78 2.05 0 2.83L4 21.41c.39.39.9.59 1.41.59.51 0 1.02-.2 1.41-.59l7.78-7.78 2.81-2.81c.8-.78.8-2.07 0-2.86zM5.41 20L4 18.59l7.72-7.72 1.47 1.35L5.41 20z\"/>\n",
              "  </svg>\n",
              "      </button>\n",
              "      \n",
              "  <style>\n",
              "    .colab-df-container {\n",
              "      display:flex;\n",
              "      flex-wrap:wrap;\n",
              "      gap: 12px;\n",
              "    }\n",
              "\n",
              "    .colab-df-convert {\n",
              "      background-color: #E8F0FE;\n",
              "      border: none;\n",
              "      border-radius: 50%;\n",
              "      cursor: pointer;\n",
              "      display: none;\n",
              "      fill: #1967D2;\n",
              "      height: 32px;\n",
              "      padding: 0 0 0 0;\n",
              "      width: 32px;\n",
              "    }\n",
              "\n",
              "    .colab-df-convert:hover {\n",
              "      background-color: #E2EBFA;\n",
              "      box-shadow: 0px 1px 2px rgba(60, 64, 67, 0.3), 0px 1px 3px 1px rgba(60, 64, 67, 0.15);\n",
              "      fill: #174EA6;\n",
              "    }\n",
              "\n",
              "    [theme=dark] .colab-df-convert {\n",
              "      background-color: #3B4455;\n",
              "      fill: #D2E3FC;\n",
              "    }\n",
              "\n",
              "    [theme=dark] .colab-df-convert:hover {\n",
              "      background-color: #434B5C;\n",
              "      box-shadow: 0px 1px 3px 1px rgba(0, 0, 0, 0.15);\n",
              "      filter: drop-shadow(0px 1px 2px rgba(0, 0, 0, 0.3));\n",
              "      fill: #FFFFFF;\n",
              "    }\n",
              "  </style>\n",
              "\n",
              "      <script>\n",
              "        const buttonEl =\n",
              "          document.querySelector('#df-ec4d207f-f131-44c4-9245-962591adab75 button.colab-df-convert');\n",
              "        buttonEl.style.display =\n",
              "          google.colab.kernel.accessAllowed ? 'block' : 'none';\n",
              "\n",
              "        async function convertToInteractive(key) {\n",
              "          const element = document.querySelector('#df-ec4d207f-f131-44c4-9245-962591adab75');\n",
              "          const dataTable =\n",
              "            await google.colab.kernel.invokeFunction('convertToInteractive',\n",
              "                                                     [key], {});\n",
              "          if (!dataTable) return;\n",
              "\n",
              "          const docLinkHtml = 'Like what you see? Visit the ' +\n",
              "            '<a target=\"_blank\" href=https://colab.research.google.com/notebooks/data_table.ipynb>data table notebook</a>'\n",
              "            + ' to learn more about interactive tables.';\n",
              "          element.innerHTML = '';\n",
              "          dataTable['output_type'] = 'display_data';\n",
              "          await google.colab.output.renderOutput(dataTable, element);\n",
              "          const docLink = document.createElement('div');\n",
              "          docLink.innerHTML = docLinkHtml;\n",
              "          element.appendChild(docLink);\n",
              "        }\n",
              "      </script>\n",
              "    </div>\n",
              "  </div>\n",
              "  "
            ]
          },
          "metadata": {},
          "execution_count": 35
        }
      ]
    },
    {
      "cell_type": "markdown",
      "source": [
        "*pandas* has full-featured, high performance in-memory join operations idiomatically very similar to relational databases like *SQL*"
      ],
      "metadata": {
        "id": "kk6CTksX5WtS"
      }
    },
    {
      "cell_type": "code",
      "source": [
        "left = pd.DataFrame(\n",
        "     {\n",
        "         \"key\": [\"K0\", \"K1\", \"K2\", \"K3\"],\n",
        "         \"A\": [\"A0\", \"A1\", \"A2\", \"A3\"],\n",
        "         \"B\": [\"B0\", \"B1\", \"B2\", \"B3\"],\n",
        "     }\n",
        " )\n",
        "\n",
        "\n",
        "right = pd.DataFrame(\n",
        "     {\n",
        "         \"key\": [\"K0\", \"K1\", \"K2\", \"K3\"],\n",
        "         \"C\": [\"C0\", \"C1\", \"C2\", \"C3\"],\n",
        "         \"D\": [\"D0\", \"D1\", \"D2\", \"D3\"],\n",
        "     }\n",
        " )\n",
        "\n",
        "result = pd.merge(left, right, on=\"key\")"
      ],
      "metadata": {
        "id": "SjL6pMnj5RuN"
      },
      "execution_count": null,
      "outputs": []
    },
    {
      "cell_type": "markdown",
      "source": [
        "```DataFrame.join()``` is a convenient method for combining the columns of two potentially differently-indexed *DataFrames* into a single result *DataFrame*"
      ],
      "metadata": {
        "id": "R3FUe76_9u6k"
      }
    },
    {
      "cell_type": "code",
      "source": [
        "left = pd.DataFrame(\n",
        "   ....:     {\"A\": [\"A0\", \"A1\", \"A2\"], \"B\": [\"B0\", \"B1\", \"B2\"]}, index=[\"K0\", \"K1\", \"K2\"]\n",
        "   ....: )\n",
        "   ....:\n",
        "\n",
        "In [80]: right = pd.DataFrame(\n",
        "   ....:     {\"C\": [\"C0\", \"C2\", \"C3\"], \"D\": [\"D0\", \"D2\", \"D3\"]}, index=[\"K0\", \"K2\", \"K3\"]\n",
        "   ....: )\n",
        "   ....:\n",
        "\n",
        "In [81]: result = left.join(right)"
      ],
      "metadata": {
        "id": "_KjkJxgL94kQ"
      },
      "execution_count": null,
      "outputs": []
    },
    {
      "cell_type": "markdown",
      "source": [
        "```pandas``` allowed to merge dataframes taking into account the order, it is useful for instance for time series data"
      ],
      "metadata": {
        "id": "JH2bS8TYPQGr"
      }
    },
    {
      "cell_type": "code",
      "source": [
        "In [130]: left = pd.DataFrame(\n",
        "   .....:     {\"k\": [\"K0\", \"K1\", \"K1\", \"K2\"], \"lv\": [1, 2, 3, 4], \"s\": [\"a\", \"b\", \"c\", \"d\"]}\n",
        "   .....: )\n",
        "   .....:\n",
        "\n",
        "In [131]: right = pd.DataFrame({\"k\": [\"K1\", \"K2\", \"K4\"], \"rv\": [1, 2, 3]})\n",
        "\n",
        "In [132]: pd.merge_ordered(left, right, fill_method=\"ffill\", left_by=\"s\")\n",
        "Out[132]:\n",
        "     k   lv  s   rv\n",
        "0   K0  1.0  a  NaN\n",
        "1   K1  1.0  a  1.0\n",
        "2   K2  1.0  a  2.0\n",
        "3   K4  1.0  a  3.0\n",
        "4   K1  2.0  b  1.0\n",
        "5   K2  2.0  b  2.0\n",
        "6   K4  2.0  b  3.0\n",
        "7   K1  3.0  c  1.0\n",
        "8   K2  3.0  c  2.0\n",
        "9   K4  3.0  c  3.0\n",
        "10  K1  NaN  d  1.0\n",
        "11  K2  4.0  d  2.0\n",
        "12  K4  4.0  d  3.0"
      ],
      "metadata": {
        "id": "ZENeeALkPPjG"
      },
      "execution_count": null,
      "outputs": []
    },
    {
      "cell_type": "markdown",
      "source": [
        "## *pandas*, crosstab\n",
        "\n",
        "function builds a cross-tabulation table that can show the frequency with which certain groups of data appear"
      ],
      "metadata": {
        "id": "s8rBiMjZSE-q"
      }
    },
    {
      "cell_type": "code",
      "source": [
        "# Define the headers since the data does not have any\n",
        "headers = [\"symboling\", \"normalized_losses\", \"make\", \"fuel_type\", \"aspiration\",\n",
        "           \"num_doors\", \"body_style\", \"drive_wheels\", \"engine_location\",\n",
        "           \"wheel_base\", \"length\", \"width\", \"height\", \"curb_weight\",\n",
        "           \"engine_type\", \"num_cylinders\", \"engine_size\", \"fuel_system\",\n",
        "           \"bore\", \"stroke\", \"compression_ratio\", \"horsepower\", \"peak_rpm\",\n",
        "           \"city_mpg\", \"highway_mpg\", \"price\"]\n",
        "\n",
        "# Read in the CSV file and convert \"?\" to NaN\n",
        "df_raw = pd.read_csv(\"https://archive.ics.uci.edu/ml/machine-learning-databases/autos/imports-85.data\",\n",
        "                     header=None, names=headers, na_values=\"?\" )\n",
        "\n",
        "# Define a list of models that we want to review\n",
        "models = [\"toyota\",\"nissan\",\"mazda\", \"honda\", \"mitsubishi\", \"subaru\", \"volkswagen\", \"volvo\"]\n",
        "\n",
        "# Create a copy of the data with only the top 8 manufacturers\n",
        "df = df_raw[df_raw.make.isin(models)].copy()\n",
        "df.head()"
      ],
      "metadata": {
        "id": "1nAESRR-JxeK",
        "colab": {
          "base_uri": "https://localhost:8080/",
          "height": 297
        },
        "outputId": "a0fb98cc-ed4c-47ac-b76f-7e7da10d873a"
      },
      "execution_count": null,
      "outputs": [
        {
          "output_type": "execute_result",
          "data": {
            "text/plain": [
              "    symboling  normalized_losses   make fuel_type aspiration num_doors  \\\n",
              "30          2              137.0  honda       gas        std       two   \n",
              "31          2              137.0  honda       gas        std       two   \n",
              "32          1              101.0  honda       gas        std       two   \n",
              "33          1              101.0  honda       gas        std       two   \n",
              "34          1              101.0  honda       gas        std       two   \n",
              "\n",
              "   body_style drive_wheels engine_location  wheel_base  ...  engine_size  \\\n",
              "30  hatchback          fwd           front        86.6  ...           92   \n",
              "31  hatchback          fwd           front        86.6  ...           92   \n",
              "32  hatchback          fwd           front        93.7  ...           79   \n",
              "33  hatchback          fwd           front        93.7  ...           92   \n",
              "34  hatchback          fwd           front        93.7  ...           92   \n",
              "\n",
              "    fuel_system  bore  stroke compression_ratio horsepower  peak_rpm city_mpg  \\\n",
              "30         1bbl  2.91    3.41               9.6       58.0    4800.0       49   \n",
              "31         1bbl  2.91    3.41               9.2       76.0    6000.0       31   \n",
              "32         1bbl  2.91    3.07              10.1       60.0    5500.0       38   \n",
              "33         1bbl  2.91    3.41               9.2       76.0    6000.0       30   \n",
              "34         1bbl  2.91    3.41               9.2       76.0    6000.0       30   \n",
              "\n",
              "    highway_mpg   price  \n",
              "30           54  6479.0  \n",
              "31           38  6855.0  \n",
              "32           42  5399.0  \n",
              "33           34  6529.0  \n",
              "34           34  7129.0  \n",
              "\n",
              "[5 rows x 26 columns]"
            ],
            "text/html": [
              "\n",
              "  <div id=\"df-172275b9-bf65-4395-93cd-b3de579a63ed\">\n",
              "    <div class=\"colab-df-container\">\n",
              "      <div>\n",
              "<style scoped>\n",
              "    .dataframe tbody tr th:only-of-type {\n",
              "        vertical-align: middle;\n",
              "    }\n",
              "\n",
              "    .dataframe tbody tr th {\n",
              "        vertical-align: top;\n",
              "    }\n",
              "\n",
              "    .dataframe thead th {\n",
              "        text-align: right;\n",
              "    }\n",
              "</style>\n",
              "<table border=\"1\" class=\"dataframe\">\n",
              "  <thead>\n",
              "    <tr style=\"text-align: right;\">\n",
              "      <th></th>\n",
              "      <th>symboling</th>\n",
              "      <th>normalized_losses</th>\n",
              "      <th>make</th>\n",
              "      <th>fuel_type</th>\n",
              "      <th>aspiration</th>\n",
              "      <th>num_doors</th>\n",
              "      <th>body_style</th>\n",
              "      <th>drive_wheels</th>\n",
              "      <th>engine_location</th>\n",
              "      <th>wheel_base</th>\n",
              "      <th>...</th>\n",
              "      <th>engine_size</th>\n",
              "      <th>fuel_system</th>\n",
              "      <th>bore</th>\n",
              "      <th>stroke</th>\n",
              "      <th>compression_ratio</th>\n",
              "      <th>horsepower</th>\n",
              "      <th>peak_rpm</th>\n",
              "      <th>city_mpg</th>\n",
              "      <th>highway_mpg</th>\n",
              "      <th>price</th>\n",
              "    </tr>\n",
              "  </thead>\n",
              "  <tbody>\n",
              "    <tr>\n",
              "      <th>30</th>\n",
              "      <td>2</td>\n",
              "      <td>137.0</td>\n",
              "      <td>honda</td>\n",
              "      <td>gas</td>\n",
              "      <td>std</td>\n",
              "      <td>two</td>\n",
              "      <td>hatchback</td>\n",
              "      <td>fwd</td>\n",
              "      <td>front</td>\n",
              "      <td>86.6</td>\n",
              "      <td>...</td>\n",
              "      <td>92</td>\n",
              "      <td>1bbl</td>\n",
              "      <td>2.91</td>\n",
              "      <td>3.41</td>\n",
              "      <td>9.6</td>\n",
              "      <td>58.0</td>\n",
              "      <td>4800.0</td>\n",
              "      <td>49</td>\n",
              "      <td>54</td>\n",
              "      <td>6479.0</td>\n",
              "    </tr>\n",
              "    <tr>\n",
              "      <th>31</th>\n",
              "      <td>2</td>\n",
              "      <td>137.0</td>\n",
              "      <td>honda</td>\n",
              "      <td>gas</td>\n",
              "      <td>std</td>\n",
              "      <td>two</td>\n",
              "      <td>hatchback</td>\n",
              "      <td>fwd</td>\n",
              "      <td>front</td>\n",
              "      <td>86.6</td>\n",
              "      <td>...</td>\n",
              "      <td>92</td>\n",
              "      <td>1bbl</td>\n",
              "      <td>2.91</td>\n",
              "      <td>3.41</td>\n",
              "      <td>9.2</td>\n",
              "      <td>76.0</td>\n",
              "      <td>6000.0</td>\n",
              "      <td>31</td>\n",
              "      <td>38</td>\n",
              "      <td>6855.0</td>\n",
              "    </tr>\n",
              "    <tr>\n",
              "      <th>32</th>\n",
              "      <td>1</td>\n",
              "      <td>101.0</td>\n",
              "      <td>honda</td>\n",
              "      <td>gas</td>\n",
              "      <td>std</td>\n",
              "      <td>two</td>\n",
              "      <td>hatchback</td>\n",
              "      <td>fwd</td>\n",
              "      <td>front</td>\n",
              "      <td>93.7</td>\n",
              "      <td>...</td>\n",
              "      <td>79</td>\n",
              "      <td>1bbl</td>\n",
              "      <td>2.91</td>\n",
              "      <td>3.07</td>\n",
              "      <td>10.1</td>\n",
              "      <td>60.0</td>\n",
              "      <td>5500.0</td>\n",
              "      <td>38</td>\n",
              "      <td>42</td>\n",
              "      <td>5399.0</td>\n",
              "    </tr>\n",
              "    <tr>\n",
              "      <th>33</th>\n",
              "      <td>1</td>\n",
              "      <td>101.0</td>\n",
              "      <td>honda</td>\n",
              "      <td>gas</td>\n",
              "      <td>std</td>\n",
              "      <td>two</td>\n",
              "      <td>hatchback</td>\n",
              "      <td>fwd</td>\n",
              "      <td>front</td>\n",
              "      <td>93.7</td>\n",
              "      <td>...</td>\n",
              "      <td>92</td>\n",
              "      <td>1bbl</td>\n",
              "      <td>2.91</td>\n",
              "      <td>3.41</td>\n",
              "      <td>9.2</td>\n",
              "      <td>76.0</td>\n",
              "      <td>6000.0</td>\n",
              "      <td>30</td>\n",
              "      <td>34</td>\n",
              "      <td>6529.0</td>\n",
              "    </tr>\n",
              "    <tr>\n",
              "      <th>34</th>\n",
              "      <td>1</td>\n",
              "      <td>101.0</td>\n",
              "      <td>honda</td>\n",
              "      <td>gas</td>\n",
              "      <td>std</td>\n",
              "      <td>two</td>\n",
              "      <td>hatchback</td>\n",
              "      <td>fwd</td>\n",
              "      <td>front</td>\n",
              "      <td>93.7</td>\n",
              "      <td>...</td>\n",
              "      <td>92</td>\n",
              "      <td>1bbl</td>\n",
              "      <td>2.91</td>\n",
              "      <td>3.41</td>\n",
              "      <td>9.2</td>\n",
              "      <td>76.0</td>\n",
              "      <td>6000.0</td>\n",
              "      <td>30</td>\n",
              "      <td>34</td>\n",
              "      <td>7129.0</td>\n",
              "    </tr>\n",
              "  </tbody>\n",
              "</table>\n",
              "<p>5 rows × 26 columns</p>\n",
              "</div>\n",
              "      <button class=\"colab-df-convert\" onclick=\"convertToInteractive('df-172275b9-bf65-4395-93cd-b3de579a63ed')\"\n",
              "              title=\"Convert this dataframe to an interactive table.\"\n",
              "              style=\"display:none;\">\n",
              "        \n",
              "  <svg xmlns=\"http://www.w3.org/2000/svg\" height=\"24px\"viewBox=\"0 0 24 24\"\n",
              "       width=\"24px\">\n",
              "    <path d=\"M0 0h24v24H0V0z\" fill=\"none\"/>\n",
              "    <path d=\"M18.56 5.44l.94 2.06.94-2.06 2.06-.94-2.06-.94-.94-2.06-.94 2.06-2.06.94zm-11 1L8.5 8.5l.94-2.06 2.06-.94-2.06-.94L8.5 2.5l-.94 2.06-2.06.94zm10 10l.94 2.06.94-2.06 2.06-.94-2.06-.94-.94-2.06-.94 2.06-2.06.94z\"/><path d=\"M17.41 7.96l-1.37-1.37c-.4-.4-.92-.59-1.43-.59-.52 0-1.04.2-1.43.59L10.3 9.45l-7.72 7.72c-.78.78-.78 2.05 0 2.83L4 21.41c.39.39.9.59 1.41.59.51 0 1.02-.2 1.41-.59l7.78-7.78 2.81-2.81c.8-.78.8-2.07 0-2.86zM5.41 20L4 18.59l7.72-7.72 1.47 1.35L5.41 20z\"/>\n",
              "  </svg>\n",
              "      </button>\n",
              "      \n",
              "  <style>\n",
              "    .colab-df-container {\n",
              "      display:flex;\n",
              "      flex-wrap:wrap;\n",
              "      gap: 12px;\n",
              "    }\n",
              "\n",
              "    .colab-df-convert {\n",
              "      background-color: #E8F0FE;\n",
              "      border: none;\n",
              "      border-radius: 50%;\n",
              "      cursor: pointer;\n",
              "      display: none;\n",
              "      fill: #1967D2;\n",
              "      height: 32px;\n",
              "      padding: 0 0 0 0;\n",
              "      width: 32px;\n",
              "    }\n",
              "\n",
              "    .colab-df-convert:hover {\n",
              "      background-color: #E2EBFA;\n",
              "      box-shadow: 0px 1px 2px rgba(60, 64, 67, 0.3), 0px 1px 3px 1px rgba(60, 64, 67, 0.15);\n",
              "      fill: #174EA6;\n",
              "    }\n",
              "\n",
              "    [theme=dark] .colab-df-convert {\n",
              "      background-color: #3B4455;\n",
              "      fill: #D2E3FC;\n",
              "    }\n",
              "\n",
              "    [theme=dark] .colab-df-convert:hover {\n",
              "      background-color: #434B5C;\n",
              "      box-shadow: 0px 1px 3px 1px rgba(0, 0, 0, 0.15);\n",
              "      filter: drop-shadow(0px 1px 2px rgba(0, 0, 0, 0.3));\n",
              "      fill: #FFFFFF;\n",
              "    }\n",
              "  </style>\n",
              "\n",
              "      <script>\n",
              "        const buttonEl =\n",
              "          document.querySelector('#df-172275b9-bf65-4395-93cd-b3de579a63ed button.colab-df-convert');\n",
              "        buttonEl.style.display =\n",
              "          google.colab.kernel.accessAllowed ? 'block' : 'none';\n",
              "\n",
              "        async function convertToInteractive(key) {\n",
              "          const element = document.querySelector('#df-172275b9-bf65-4395-93cd-b3de579a63ed');\n",
              "          const dataTable =\n",
              "            await google.colab.kernel.invokeFunction('convertToInteractive',\n",
              "                                                     [key], {});\n",
              "          if (!dataTable) return;\n",
              "\n",
              "          const docLinkHtml = 'Like what you see? Visit the ' +\n",
              "            '<a target=\"_blank\" href=https://colab.research.google.com/notebooks/data_table.ipynb>data table notebook</a>'\n",
              "            + ' to learn more about interactive tables.';\n",
              "          element.innerHTML = '';\n",
              "          dataTable['output_type'] = 'display_data';\n",
              "          await google.colab.output.renderOutput(dataTable, element);\n",
              "          const docLink = document.createElement('div');\n",
              "          docLink.innerHTML = docLinkHtml;\n",
              "          element.appendChild(docLink);\n",
              "        }\n",
              "      </script>\n",
              "    </div>\n",
              "  </div>\n",
              "  "
            ]
          },
          "metadata": {},
          "execution_count": 14
        }
      ]
    },
    {
      "cell_type": "code",
      "source": [
        "pd.crosstab(df.make, df.body_style)"
      ],
      "metadata": {
        "colab": {
          "base_uri": "https://localhost:8080/",
          "height": 328
        },
        "id": "AddV6yX2WlUU",
        "outputId": "4079b9b6-7b3c-45b6-82f3-58a7f9041733"
      },
      "execution_count": null,
      "outputs": [
        {
          "output_type": "execute_result",
          "data": {
            "text/plain": [
              "body_style  convertible  hardtop  hatchback  sedan  wagon\n",
              "make                                                     \n",
              "honda                 0        0          7      5      1\n",
              "mazda                 0        0         10      7      0\n",
              "mitsubishi            0        0          9      4      0\n",
              "nissan                0        1          5      9      3\n",
              "subaru                0        0          3      5      4\n",
              "toyota                1        3         14     10      4\n",
              "volkswagen            1        0          1      9      1\n",
              "volvo                 0        0          0      8      3"
            ],
            "text/html": [
              "\n",
              "  <div id=\"df-2b06c9e1-0fd7-406f-b345-0f57673cd2bb\">\n",
              "    <div class=\"colab-df-container\">\n",
              "      <div>\n",
              "<style scoped>\n",
              "    .dataframe tbody tr th:only-of-type {\n",
              "        vertical-align: middle;\n",
              "    }\n",
              "\n",
              "    .dataframe tbody tr th {\n",
              "        vertical-align: top;\n",
              "    }\n",
              "\n",
              "    .dataframe thead th {\n",
              "        text-align: right;\n",
              "    }\n",
              "</style>\n",
              "<table border=\"1\" class=\"dataframe\">\n",
              "  <thead>\n",
              "    <tr style=\"text-align: right;\">\n",
              "      <th>body_style</th>\n",
              "      <th>convertible</th>\n",
              "      <th>hardtop</th>\n",
              "      <th>hatchback</th>\n",
              "      <th>sedan</th>\n",
              "      <th>wagon</th>\n",
              "    </tr>\n",
              "    <tr>\n",
              "      <th>make</th>\n",
              "      <th></th>\n",
              "      <th></th>\n",
              "      <th></th>\n",
              "      <th></th>\n",
              "      <th></th>\n",
              "    </tr>\n",
              "  </thead>\n",
              "  <tbody>\n",
              "    <tr>\n",
              "      <th>honda</th>\n",
              "      <td>0</td>\n",
              "      <td>0</td>\n",
              "      <td>7</td>\n",
              "      <td>5</td>\n",
              "      <td>1</td>\n",
              "    </tr>\n",
              "    <tr>\n",
              "      <th>mazda</th>\n",
              "      <td>0</td>\n",
              "      <td>0</td>\n",
              "      <td>10</td>\n",
              "      <td>7</td>\n",
              "      <td>0</td>\n",
              "    </tr>\n",
              "    <tr>\n",
              "      <th>mitsubishi</th>\n",
              "      <td>0</td>\n",
              "      <td>0</td>\n",
              "      <td>9</td>\n",
              "      <td>4</td>\n",
              "      <td>0</td>\n",
              "    </tr>\n",
              "    <tr>\n",
              "      <th>nissan</th>\n",
              "      <td>0</td>\n",
              "      <td>1</td>\n",
              "      <td>5</td>\n",
              "      <td>9</td>\n",
              "      <td>3</td>\n",
              "    </tr>\n",
              "    <tr>\n",
              "      <th>subaru</th>\n",
              "      <td>0</td>\n",
              "      <td>0</td>\n",
              "      <td>3</td>\n",
              "      <td>5</td>\n",
              "      <td>4</td>\n",
              "    </tr>\n",
              "    <tr>\n",
              "      <th>toyota</th>\n",
              "      <td>1</td>\n",
              "      <td>3</td>\n",
              "      <td>14</td>\n",
              "      <td>10</td>\n",
              "      <td>4</td>\n",
              "    </tr>\n",
              "    <tr>\n",
              "      <th>volkswagen</th>\n",
              "      <td>1</td>\n",
              "      <td>0</td>\n",
              "      <td>1</td>\n",
              "      <td>9</td>\n",
              "      <td>1</td>\n",
              "    </tr>\n",
              "    <tr>\n",
              "      <th>volvo</th>\n",
              "      <td>0</td>\n",
              "      <td>0</td>\n",
              "      <td>0</td>\n",
              "      <td>8</td>\n",
              "      <td>3</td>\n",
              "    </tr>\n",
              "  </tbody>\n",
              "</table>\n",
              "</div>\n",
              "      <button class=\"colab-df-convert\" onclick=\"convertToInteractive('df-2b06c9e1-0fd7-406f-b345-0f57673cd2bb')\"\n",
              "              title=\"Convert this dataframe to an interactive table.\"\n",
              "              style=\"display:none;\">\n",
              "        \n",
              "  <svg xmlns=\"http://www.w3.org/2000/svg\" height=\"24px\"viewBox=\"0 0 24 24\"\n",
              "       width=\"24px\">\n",
              "    <path d=\"M0 0h24v24H0V0z\" fill=\"none\"/>\n",
              "    <path d=\"M18.56 5.44l.94 2.06.94-2.06 2.06-.94-2.06-.94-.94-2.06-.94 2.06-2.06.94zm-11 1L8.5 8.5l.94-2.06 2.06-.94-2.06-.94L8.5 2.5l-.94 2.06-2.06.94zm10 10l.94 2.06.94-2.06 2.06-.94-2.06-.94-.94-2.06-.94 2.06-2.06.94z\"/><path d=\"M17.41 7.96l-1.37-1.37c-.4-.4-.92-.59-1.43-.59-.52 0-1.04.2-1.43.59L10.3 9.45l-7.72 7.72c-.78.78-.78 2.05 0 2.83L4 21.41c.39.39.9.59 1.41.59.51 0 1.02-.2 1.41-.59l7.78-7.78 2.81-2.81c.8-.78.8-2.07 0-2.86zM5.41 20L4 18.59l7.72-7.72 1.47 1.35L5.41 20z\"/>\n",
              "  </svg>\n",
              "      </button>\n",
              "      \n",
              "  <style>\n",
              "    .colab-df-container {\n",
              "      display:flex;\n",
              "      flex-wrap:wrap;\n",
              "      gap: 12px;\n",
              "    }\n",
              "\n",
              "    .colab-df-convert {\n",
              "      background-color: #E8F0FE;\n",
              "      border: none;\n",
              "      border-radius: 50%;\n",
              "      cursor: pointer;\n",
              "      display: none;\n",
              "      fill: #1967D2;\n",
              "      height: 32px;\n",
              "      padding: 0 0 0 0;\n",
              "      width: 32px;\n",
              "    }\n",
              "\n",
              "    .colab-df-convert:hover {\n",
              "      background-color: #E2EBFA;\n",
              "      box-shadow: 0px 1px 2px rgba(60, 64, 67, 0.3), 0px 1px 3px 1px rgba(60, 64, 67, 0.15);\n",
              "      fill: #174EA6;\n",
              "    }\n",
              "\n",
              "    [theme=dark] .colab-df-convert {\n",
              "      background-color: #3B4455;\n",
              "      fill: #D2E3FC;\n",
              "    }\n",
              "\n",
              "    [theme=dark] .colab-df-convert:hover {\n",
              "      background-color: #434B5C;\n",
              "      box-shadow: 0px 1px 3px 1px rgba(0, 0, 0, 0.15);\n",
              "      filter: drop-shadow(0px 1px 2px rgba(0, 0, 0, 0.3));\n",
              "      fill: #FFFFFF;\n",
              "    }\n",
              "  </style>\n",
              "\n",
              "      <script>\n",
              "        const buttonEl =\n",
              "          document.querySelector('#df-2b06c9e1-0fd7-406f-b345-0f57673cd2bb button.colab-df-convert');\n",
              "        buttonEl.style.display =\n",
              "          google.colab.kernel.accessAllowed ? 'block' : 'none';\n",
              "\n",
              "        async function convertToInteractive(key) {\n",
              "          const element = document.querySelector('#df-2b06c9e1-0fd7-406f-b345-0f57673cd2bb');\n",
              "          const dataTable =\n",
              "            await google.colab.kernel.invokeFunction('convertToInteractive',\n",
              "                                                     [key], {});\n",
              "          if (!dataTable) return;\n",
              "\n",
              "          const docLinkHtml = 'Like what you see? Visit the ' +\n",
              "            '<a target=\"_blank\" href=https://colab.research.google.com/notebooks/data_table.ipynb>data table notebook</a>'\n",
              "            + ' to learn more about interactive tables.';\n",
              "          element.innerHTML = '';\n",
              "          dataTable['output_type'] = 'display_data';\n",
              "          await google.colab.output.renderOutput(dataTable, element);\n",
              "          const docLink = document.createElement('div');\n",
              "          docLink.innerHTML = docLinkHtml;\n",
              "          element.appendChild(docLink);\n",
              "        }\n",
              "      </script>\n",
              "    </div>\n",
              "  </div>\n",
              "  "
            ]
          },
          "metadata": {},
          "execution_count": 15
        }
      ]
    },
    {
      "cell_type": "code",
      "source": [
        "pd.crosstab(df.make, [df.body_style, df.drive_wheels])"
      ],
      "metadata": {
        "id": "zI-pa0eZWt4w"
      },
      "execution_count": null,
      "outputs": []
    },
    {
      "cell_type": "code",
      "source": [
        "pd.crosstab(df.make, df.body_style, normalize='columns')"
      ],
      "metadata": {
        "id": "AF_oG4h8W2iR"
      },
      "execution_count": null,
      "outputs": []
    },
    {
      "cell_type": "markdown",
      "source": [
        "# Visualization\n",
        "We have plenty of packages for visualising our results about exploration our dataset\n",
        "\n",
        "below you can find example of usage *plotly* library\n"
      ],
      "metadata": {
        "id": "NwmQK2BJJx7g"
      }
    },
    {
      "cell_type": "code",
      "source": [
        "import plotly.express as px\n",
        "\n",
        "fig = px.scatter(iris, x=\"sepal_width\", y=\"sepal_length\", color='petal_width')\n",
        "fig.show()"
      ],
      "metadata": {
        "colab": {
          "base_uri": "https://localhost:8080/",
          "height": 542
        },
        "id": "cEBNTWPdKGd2",
        "outputId": "3335147a-4773-4d59-c3f7-5d232aeffffd"
      },
      "execution_count": null,
      "outputs": [
        {
          "output_type": "display_data",
          "data": {
            "text/html": [
              "<html>\n",
              "<head><meta charset=\"utf-8\" /></head>\n",
              "<body>\n",
              "    <div>            <script src=\"https://cdnjs.cloudflare.com/ajax/libs/mathjax/2.7.5/MathJax.js?config=TeX-AMS-MML_SVG\"></script><script type=\"text/javascript\">if (window.MathJax) {MathJax.Hub.Config({SVG: {font: \"STIX-Web\"}});}</script>                <script type=\"text/javascript\">window.PlotlyConfig = {MathJaxConfig: 'local'};</script>\n",
              "        <script src=\"https://cdn.plot.ly/plotly-2.8.3.min.js\"></script>                <div id=\"ad67a2ea-d5dc-44f7-b3dc-e344c056218e\" class=\"plotly-graph-div\" style=\"height:525px; width:100%;\"></div>            <script type=\"text/javascript\">                                    window.PLOTLYENV=window.PLOTLYENV || {};                                    if (document.getElementById(\"ad67a2ea-d5dc-44f7-b3dc-e344c056218e\")) {                    Plotly.newPlot(                        \"ad67a2ea-d5dc-44f7-b3dc-e344c056218e\",                        [{\"hovertemplate\":\"sepal_width=%{x}<br>sepal_length=%{y}<br>petal_width=%{marker.color}<extra></extra>\",\"legendgroup\":\"\",\"marker\":{\"color\":[0.2,0.2,0.2,0.2,0.2,0.4,0.3,0.2,0.2,0.1,0.2,0.2,0.1,0.1,0.2,0.4,0.4,0.3,0.3,0.3,0.2,0.4,0.2,0.5,0.2,0.2,0.4,0.2,0.2,0.2,0.2,0.4,0.1,0.2,0.2,0.2,0.2,0.1,0.2,0.2,0.3,0.3,0.2,0.6,0.4,0.3,0.2,0.2,0.2,0.2,1.4,1.5,1.5,1.3,1.5,1.3,1.6,1.0,1.3,1.4,1.0,1.5,1.0,1.4,1.3,1.4,1.5,1.0,1.5,1.1,1.8,1.3,1.5,1.2,1.3,1.4,1.4,1.7,1.5,1.0,1.1,1.0,1.2,1.6,1.5,1.6,1.5,1.3,1.3,1.3,1.2,1.4,1.2,1.0,1.3,1.2,1.3,1.3,1.1,1.3,2.5,1.9,2.1,1.8,2.2,2.1,1.7,1.8,1.8,2.5,2.0,1.9,2.1,2.0,2.4,2.3,1.8,2.2,2.3,1.5,2.3,2.0,2.0,1.8,2.1,1.8,1.8,1.8,2.1,1.6,1.9,2.0,2.2,1.5,1.4,2.3,2.4,1.8,1.8,2.1,2.4,2.3,1.9,2.3,2.5,2.3,1.9,2.0,2.3,1.8],\"coloraxis\":\"coloraxis\",\"symbol\":\"circle\"},\"mode\":\"markers\",\"name\":\"\",\"orientation\":\"v\",\"showlegend\":false,\"x\":[3.5,3.0,3.2,3.1,3.6,3.9,3.4,3.4,2.9,3.1,3.7,3.4,3.0,3.0,4.0,4.4,3.9,3.5,3.8,3.8,3.4,3.7,3.6,3.3,3.4,3.0,3.4,3.5,3.4,3.2,3.1,3.4,4.1,4.2,3.1,3.2,3.5,3.6,3.0,3.4,3.5,2.3,3.2,3.5,3.8,3.0,3.8,3.2,3.7,3.3,3.2,3.2,3.1,2.3,2.8,2.8,3.3,2.4,2.9,2.7,2.0,3.0,2.2,2.9,2.9,3.1,3.0,2.7,2.2,2.5,3.2,2.8,2.5,2.8,2.9,3.0,2.8,3.0,2.9,2.6,2.4,2.4,2.7,2.7,3.0,3.4,3.1,2.3,3.0,2.5,2.6,3.0,2.6,2.3,2.7,3.0,2.9,2.9,2.5,2.8,3.3,2.7,3.0,2.9,3.0,3.0,2.5,2.9,2.5,3.6,3.2,2.7,3.0,2.5,2.8,3.2,3.0,3.8,2.6,2.2,3.2,2.8,2.8,2.7,3.3,3.2,2.8,3.0,2.8,3.0,2.8,3.8,2.8,2.8,2.6,3.0,3.4,3.1,3.0,3.1,3.1,3.1,2.7,3.2,3.3,3.0,2.5,3.0,3.4,3.0],\"xaxis\":\"x\",\"y\":[5.1,4.9,4.7,4.6,5.0,5.4,4.6,5.0,4.4,4.9,5.4,4.8,4.8,4.3,5.8,5.7,5.4,5.1,5.7,5.1,5.4,5.1,4.6,5.1,4.8,5.0,5.0,5.2,5.2,4.7,4.8,5.4,5.2,5.5,4.9,5.0,5.5,4.9,4.4,5.1,5.0,4.5,4.4,5.0,5.1,4.8,5.1,4.6,5.3,5.0,7.0,6.4,6.9,5.5,6.5,5.7,6.3,4.9,6.6,5.2,5.0,5.9,6.0,6.1,5.6,6.7,5.6,5.8,6.2,5.6,5.9,6.1,6.3,6.1,6.4,6.6,6.8,6.7,6.0,5.7,5.5,5.5,5.8,6.0,5.4,6.0,6.7,6.3,5.6,5.5,5.5,6.1,5.8,5.0,5.6,5.7,5.7,6.2,5.1,5.7,6.3,5.8,7.1,6.3,6.5,7.6,4.9,7.3,6.7,7.2,6.5,6.4,6.8,5.7,5.8,6.4,6.5,7.7,7.7,6.0,6.9,5.6,7.7,6.3,6.7,7.2,6.2,6.1,6.4,7.2,7.4,7.9,6.4,6.3,6.1,7.7,6.3,6.4,6.0,6.9,6.7,6.9,5.8,6.8,6.7,6.7,6.3,6.5,6.2,5.9],\"yaxis\":\"y\",\"type\":\"scatter\"}],                        {\"template\":{\"data\":{\"bar\":[{\"error_x\":{\"color\":\"#2a3f5f\"},\"error_y\":{\"color\":\"#2a3f5f\"},\"marker\":{\"line\":{\"color\":\"#E5ECF6\",\"width\":0.5},\"pattern\":{\"fillmode\":\"overlay\",\"size\":10,\"solidity\":0.2}},\"type\":\"bar\"}],\"barpolar\":[{\"marker\":{\"line\":{\"color\":\"#E5ECF6\",\"width\":0.5},\"pattern\":{\"fillmode\":\"overlay\",\"size\":10,\"solidity\":0.2}},\"type\":\"barpolar\"}],\"carpet\":[{\"aaxis\":{\"endlinecolor\":\"#2a3f5f\",\"gridcolor\":\"white\",\"linecolor\":\"white\",\"minorgridcolor\":\"white\",\"startlinecolor\":\"#2a3f5f\"},\"baxis\":{\"endlinecolor\":\"#2a3f5f\",\"gridcolor\":\"white\",\"linecolor\":\"white\",\"minorgridcolor\":\"white\",\"startlinecolor\":\"#2a3f5f\"},\"type\":\"carpet\"}],\"choropleth\":[{\"colorbar\":{\"outlinewidth\":0,\"ticks\":\"\"},\"type\":\"choropleth\"}],\"contour\":[{\"colorbar\":{\"outlinewidth\":0,\"ticks\":\"\"},\"colorscale\":[[0.0,\"#0d0887\"],[0.1111111111111111,\"#46039f\"],[0.2222222222222222,\"#7201a8\"],[0.3333333333333333,\"#9c179e\"],[0.4444444444444444,\"#bd3786\"],[0.5555555555555556,\"#d8576b\"],[0.6666666666666666,\"#ed7953\"],[0.7777777777777778,\"#fb9f3a\"],[0.8888888888888888,\"#fdca26\"],[1.0,\"#f0f921\"]],\"type\":\"contour\"}],\"contourcarpet\":[{\"colorbar\":{\"outlinewidth\":0,\"ticks\":\"\"},\"type\":\"contourcarpet\"}],\"heatmap\":[{\"colorbar\":{\"outlinewidth\":0,\"ticks\":\"\"},\"colorscale\":[[0.0,\"#0d0887\"],[0.1111111111111111,\"#46039f\"],[0.2222222222222222,\"#7201a8\"],[0.3333333333333333,\"#9c179e\"],[0.4444444444444444,\"#bd3786\"],[0.5555555555555556,\"#d8576b\"],[0.6666666666666666,\"#ed7953\"],[0.7777777777777778,\"#fb9f3a\"],[0.8888888888888888,\"#fdca26\"],[1.0,\"#f0f921\"]],\"type\":\"heatmap\"}],\"heatmapgl\":[{\"colorbar\":{\"outlinewidth\":0,\"ticks\":\"\"},\"colorscale\":[[0.0,\"#0d0887\"],[0.1111111111111111,\"#46039f\"],[0.2222222222222222,\"#7201a8\"],[0.3333333333333333,\"#9c179e\"],[0.4444444444444444,\"#bd3786\"],[0.5555555555555556,\"#d8576b\"],[0.6666666666666666,\"#ed7953\"],[0.7777777777777778,\"#fb9f3a\"],[0.8888888888888888,\"#fdca26\"],[1.0,\"#f0f921\"]],\"type\":\"heatmapgl\"}],\"histogram\":[{\"marker\":{\"pattern\":{\"fillmode\":\"overlay\",\"size\":10,\"solidity\":0.2}},\"type\":\"histogram\"}],\"histogram2d\":[{\"colorbar\":{\"outlinewidth\":0,\"ticks\":\"\"},\"colorscale\":[[0.0,\"#0d0887\"],[0.1111111111111111,\"#46039f\"],[0.2222222222222222,\"#7201a8\"],[0.3333333333333333,\"#9c179e\"],[0.4444444444444444,\"#bd3786\"],[0.5555555555555556,\"#d8576b\"],[0.6666666666666666,\"#ed7953\"],[0.7777777777777778,\"#fb9f3a\"],[0.8888888888888888,\"#fdca26\"],[1.0,\"#f0f921\"]],\"type\":\"histogram2d\"}],\"histogram2dcontour\":[{\"colorbar\":{\"outlinewidth\":0,\"ticks\":\"\"},\"colorscale\":[[0.0,\"#0d0887\"],[0.1111111111111111,\"#46039f\"],[0.2222222222222222,\"#7201a8\"],[0.3333333333333333,\"#9c179e\"],[0.4444444444444444,\"#bd3786\"],[0.5555555555555556,\"#d8576b\"],[0.6666666666666666,\"#ed7953\"],[0.7777777777777778,\"#fb9f3a\"],[0.8888888888888888,\"#fdca26\"],[1.0,\"#f0f921\"]],\"type\":\"histogram2dcontour\"}],\"mesh3d\":[{\"colorbar\":{\"outlinewidth\":0,\"ticks\":\"\"},\"type\":\"mesh3d\"}],\"parcoords\":[{\"line\":{\"colorbar\":{\"outlinewidth\":0,\"ticks\":\"\"}},\"type\":\"parcoords\"}],\"pie\":[{\"automargin\":true,\"type\":\"pie\"}],\"scatter\":[{\"marker\":{\"colorbar\":{\"outlinewidth\":0,\"ticks\":\"\"}},\"type\":\"scatter\"}],\"scatter3d\":[{\"line\":{\"colorbar\":{\"outlinewidth\":0,\"ticks\":\"\"}},\"marker\":{\"colorbar\":{\"outlinewidth\":0,\"ticks\":\"\"}},\"type\":\"scatter3d\"}],\"scattercarpet\":[{\"marker\":{\"colorbar\":{\"outlinewidth\":0,\"ticks\":\"\"}},\"type\":\"scattercarpet\"}],\"scattergeo\":[{\"marker\":{\"colorbar\":{\"outlinewidth\":0,\"ticks\":\"\"}},\"type\":\"scattergeo\"}],\"scattergl\":[{\"marker\":{\"colorbar\":{\"outlinewidth\":0,\"ticks\":\"\"}},\"type\":\"scattergl\"}],\"scattermapbox\":[{\"marker\":{\"colorbar\":{\"outlinewidth\":0,\"ticks\":\"\"}},\"type\":\"scattermapbox\"}],\"scatterpolar\":[{\"marker\":{\"colorbar\":{\"outlinewidth\":0,\"ticks\":\"\"}},\"type\":\"scatterpolar\"}],\"scatterpolargl\":[{\"marker\":{\"colorbar\":{\"outlinewidth\":0,\"ticks\":\"\"}},\"type\":\"scatterpolargl\"}],\"scatterternary\":[{\"marker\":{\"colorbar\":{\"outlinewidth\":0,\"ticks\":\"\"}},\"type\":\"scatterternary\"}],\"surface\":[{\"colorbar\":{\"outlinewidth\":0,\"ticks\":\"\"},\"colorscale\":[[0.0,\"#0d0887\"],[0.1111111111111111,\"#46039f\"],[0.2222222222222222,\"#7201a8\"],[0.3333333333333333,\"#9c179e\"],[0.4444444444444444,\"#bd3786\"],[0.5555555555555556,\"#d8576b\"],[0.6666666666666666,\"#ed7953\"],[0.7777777777777778,\"#fb9f3a\"],[0.8888888888888888,\"#fdca26\"],[1.0,\"#f0f921\"]],\"type\":\"surface\"}],\"table\":[{\"cells\":{\"fill\":{\"color\":\"#EBF0F8\"},\"line\":{\"color\":\"white\"}},\"header\":{\"fill\":{\"color\":\"#C8D4E3\"},\"line\":{\"color\":\"white\"}},\"type\":\"table\"}]},\"layout\":{\"annotationdefaults\":{\"arrowcolor\":\"#2a3f5f\",\"arrowhead\":0,\"arrowwidth\":1},\"autotypenumbers\":\"strict\",\"coloraxis\":{\"colorbar\":{\"outlinewidth\":0,\"ticks\":\"\"}},\"colorscale\":{\"diverging\":[[0,\"#8e0152\"],[0.1,\"#c51b7d\"],[0.2,\"#de77ae\"],[0.3,\"#f1b6da\"],[0.4,\"#fde0ef\"],[0.5,\"#f7f7f7\"],[0.6,\"#e6f5d0\"],[0.7,\"#b8e186\"],[0.8,\"#7fbc41\"],[0.9,\"#4d9221\"],[1,\"#276419\"]],\"sequential\":[[0.0,\"#0d0887\"],[0.1111111111111111,\"#46039f\"],[0.2222222222222222,\"#7201a8\"],[0.3333333333333333,\"#9c179e\"],[0.4444444444444444,\"#bd3786\"],[0.5555555555555556,\"#d8576b\"],[0.6666666666666666,\"#ed7953\"],[0.7777777777777778,\"#fb9f3a\"],[0.8888888888888888,\"#fdca26\"],[1.0,\"#f0f921\"]],\"sequentialminus\":[[0.0,\"#0d0887\"],[0.1111111111111111,\"#46039f\"],[0.2222222222222222,\"#7201a8\"],[0.3333333333333333,\"#9c179e\"],[0.4444444444444444,\"#bd3786\"],[0.5555555555555556,\"#d8576b\"],[0.6666666666666666,\"#ed7953\"],[0.7777777777777778,\"#fb9f3a\"],[0.8888888888888888,\"#fdca26\"],[1.0,\"#f0f921\"]]},\"colorway\":[\"#636efa\",\"#EF553B\",\"#00cc96\",\"#ab63fa\",\"#FFA15A\",\"#19d3f3\",\"#FF6692\",\"#B6E880\",\"#FF97FF\",\"#FECB52\"],\"font\":{\"color\":\"#2a3f5f\"},\"geo\":{\"bgcolor\":\"white\",\"lakecolor\":\"white\",\"landcolor\":\"#E5ECF6\",\"showlakes\":true,\"showland\":true,\"subunitcolor\":\"white\"},\"hoverlabel\":{\"align\":\"left\"},\"hovermode\":\"closest\",\"mapbox\":{\"style\":\"light\"},\"paper_bgcolor\":\"white\",\"plot_bgcolor\":\"#E5ECF6\",\"polar\":{\"angularaxis\":{\"gridcolor\":\"white\",\"linecolor\":\"white\",\"ticks\":\"\"},\"bgcolor\":\"#E5ECF6\",\"radialaxis\":{\"gridcolor\":\"white\",\"linecolor\":\"white\",\"ticks\":\"\"}},\"scene\":{\"xaxis\":{\"backgroundcolor\":\"#E5ECF6\",\"gridcolor\":\"white\",\"gridwidth\":2,\"linecolor\":\"white\",\"showbackground\":true,\"ticks\":\"\",\"zerolinecolor\":\"white\"},\"yaxis\":{\"backgroundcolor\":\"#E5ECF6\",\"gridcolor\":\"white\",\"gridwidth\":2,\"linecolor\":\"white\",\"showbackground\":true,\"ticks\":\"\",\"zerolinecolor\":\"white\"},\"zaxis\":{\"backgroundcolor\":\"#E5ECF6\",\"gridcolor\":\"white\",\"gridwidth\":2,\"linecolor\":\"white\",\"showbackground\":true,\"ticks\":\"\",\"zerolinecolor\":\"white\"}},\"shapedefaults\":{\"line\":{\"color\":\"#2a3f5f\"}},\"ternary\":{\"aaxis\":{\"gridcolor\":\"white\",\"linecolor\":\"white\",\"ticks\":\"\"},\"baxis\":{\"gridcolor\":\"white\",\"linecolor\":\"white\",\"ticks\":\"\"},\"bgcolor\":\"#E5ECF6\",\"caxis\":{\"gridcolor\":\"white\",\"linecolor\":\"white\",\"ticks\":\"\"}},\"title\":{\"x\":0.05},\"xaxis\":{\"automargin\":true,\"gridcolor\":\"white\",\"linecolor\":\"white\",\"ticks\":\"\",\"title\":{\"standoff\":15},\"zerolinecolor\":\"white\",\"zerolinewidth\":2},\"yaxis\":{\"automargin\":true,\"gridcolor\":\"white\",\"linecolor\":\"white\",\"ticks\":\"\",\"title\":{\"standoff\":15},\"zerolinecolor\":\"white\",\"zerolinewidth\":2}}},\"xaxis\":{\"anchor\":\"y\",\"domain\":[0.0,1.0],\"title\":{\"text\":\"sepal_width\"}},\"yaxis\":{\"anchor\":\"x\",\"domain\":[0.0,1.0],\"title\":{\"text\":\"sepal_length\"}},\"coloraxis\":{\"colorbar\":{\"title\":{\"text\":\"petal_width\"}},\"colorscale\":[[0.0,\"#0d0887\"],[0.1111111111111111,\"#46039f\"],[0.2222222222222222,\"#7201a8\"],[0.3333333333333333,\"#9c179e\"],[0.4444444444444444,\"#bd3786\"],[0.5555555555555556,\"#d8576b\"],[0.6666666666666666,\"#ed7953\"],[0.7777777777777778,\"#fb9f3a\"],[0.8888888888888888,\"#fdca26\"],[1.0,\"#f0f921\"]]},\"legend\":{\"tracegroupgap\":0},\"margin\":{\"t\":60}},                        {\"responsive\": true}                    ).then(function(){\n",
              "                            \n",
              "var gd = document.getElementById('ad67a2ea-d5dc-44f7-b3dc-e344c056218e');\n",
              "var x = new MutationObserver(function (mutations, observer) {{\n",
              "        var display = window.getComputedStyle(gd).display;\n",
              "        if (!display || display === 'none') {{\n",
              "            console.log([gd, 'removed!']);\n",
              "            Plotly.purge(gd);\n",
              "            observer.disconnect();\n",
              "        }}\n",
              "}});\n",
              "\n",
              "// Listen for the removal of the full notebook cells\n",
              "var notebookContainer = gd.closest('#notebook-container');\n",
              "if (notebookContainer) {{\n",
              "    x.observe(notebookContainer, {childList: true});\n",
              "}}\n",
              "\n",
              "// Listen for the clearing of the current output cell\n",
              "var outputEl = gd.closest('.output');\n",
              "if (outputEl) {{\n",
              "    x.observe(outputEl, {childList: true});\n",
              "}}\n",
              "\n",
              "                        })                };                            </script>        </div>\n",
              "</body>\n",
              "</html>"
            ]
          },
          "metadata": {}
        }
      ]
    }
  ]
}